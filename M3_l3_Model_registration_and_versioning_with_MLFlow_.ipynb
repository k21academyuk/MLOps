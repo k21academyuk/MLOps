{
  "cells": [
    {
      "cell_type": "markdown",
      "source": [
        "# **📘Model registration and versioning with MLFlow**\n",
        "\n",
        "### **Description**\n",
        "This lab introduces **MLflow**, an open-source platform that helps manage the **machine learning lifecycle**.  \n",
        "\n",
        "You will train a **Wine Quality Prediction Model** using **ElasticNet Regression** and use MLflow to:\n",
        "- Track different experiments\n",
        "- Log hyperparameters and evaluation metrics\n",
        "- Register and version models\n",
        "- Visualize experiment results in the MLflow UI\n",
        "\n",
        "### **Scenario: Why Do We Need MLflow?**\n",
        "\n",
        "Imagine you are a **Data Scientist** working on a project to **predict the quality of wine** based on its **chemical properties**.\n",
        "\n",
        "To build your model, you decide to use **ElasticNet Regression** from scikit-learn. You experiment with different **hyperparameters** such as:\n",
        "- `alpha`\n",
        "- `l1_ratio`\n",
        "\n",
        "After multiple experiments, you realize:\n",
        "- Some models perform better than others.\n",
        "- Keeping track of model parameters and results manually is difficult.\n",
        "- Comparing different runs is time-consuming.\n",
        "- Sharing and reproducing experiments is challenging.\n",
        "\n",
        "#### **The Challenge**\n",
        "How do you:\n",
        "- Keep track of different models and experiments?\n",
        "- Store and retrieve model versions?\n",
        "- Ensure reproducibility for future use?\n",
        "- Easily deploy the best model?\n",
        "\n",
        "#### **Why This Lab?**\n",
        "Machine learning projects often involve experimenting with multiple models and hyperparameters. Tracking these experiments manually can be **challenging** and **error-prone**.\n",
        "\n",
        "With **MLflow**, you can:\n",
        "- Organize and compare multiple experiments\n",
        "- Keep track of different model versions\n",
        "- Ensure reproducibility for better collaboration\n",
        "- Deploy models more efficiently\n",
        "\n",
        "By the end of this lab, you will have hands-on experience using MLflow to track, log, and manage machine learning experiments effectively."
      ],
      "metadata": {
        "id": "wrqv45hdavFP"
      },
      "id": "wrqv45hdavFP"
    },
    {
      "cell_type": "markdown",
      "source": [
        "#### **📝 Step 1: Installing Required Libraries**  \n",
        "\n",
        "**What does this code do?**  \n",
        "Before running our experiment, we need to install the required Python libraries to ensure we have all the dependencies needed for model training and experiment tracking.\n",
        "\n",
        "This step will:  \n",
        "- Install core machine learning libraries (`numpy`, `scipy`, `scikit-learn`, `joblib`)  \n",
        "- Install **MLflow** for experiment tracking and model logging  \n",
        "- Install `pandas` for data manipulation  \n",
        "- Upgrade `pip`, `setuptools`, and `wheel` for smooth package management  \n",
        "\n",
        "**Running the code** 🔽  \n"
      ],
      "metadata": {
        "id": "D8ZY27EecN5Y"
      },
      "id": "D8ZY27EecN5Y"
    },
    {
      "cell_type": "code",
      "execution_count": null,
      "id": "1b711d7a-6902-4bad-a786-f4131b813ba8",
      "metadata": {
        "id": "1b711d7a-6902-4bad-a786-f4131b813ba8",
        "outputId": "d594f0d2-c877-46e4-9ed3-6d43cfb47154"
      },
      "outputs": [
        {
          "name": "stdout",
          "output_type": "stream",
          "text": [
            "Requirement already satisfied: numpy==1.26.4 in c:\\users\\supriya\\anaconda3\\lib\\site-packages (1.26.4)\n",
            "Collecting scipy==1.11.3\n",
            "  Downloading scipy-1.11.3-cp312-cp312-win_amd64.whl.metadata (60 kB)\n",
            "Requirement already satisfied: scikit-learn==1.4.2 in c:\\users\\supriya\\anaconda3\\lib\\site-packages (1.4.2)\n",
            "Requirement already satisfied: joblib==1.3.2 in c:\\users\\supriya\\anaconda3\\lib\\site-packages (1.3.2)\n",
            "Requirement already satisfied: mlflow in c:\\users\\supriya\\anaconda3\\lib\\site-packages (2.20.1)\n",
            "Requirement already satisfied: pandas in c:\\users\\supriya\\anaconda3\\lib\\site-packages (2.1.4)\n",
            "Collecting pandas\n",
            "  Downloading pandas-2.2.3-cp312-cp312-win_amd64.whl.metadata (19 kB)\n",
            "Requirement already satisfied: setuptools in c:\\users\\supriya\\anaconda3\\lib\\site-packages (75.1.0)\n",
            "Collecting setuptools\n",
            "  Downloading setuptools-75.8.0-py3-none-any.whl.metadata (6.7 kB)\n",
            "Requirement already satisfied: wheel in c:\\users\\supriya\\anaconda3\\lib\\site-packages (0.44.0)\n",
            "Collecting wheel\n",
            "  Downloading wheel-0.45.1-py3-none-any.whl.metadata (2.3 kB)\n",
            "Requirement already satisfied: pip in c:\\users\\supriya\\anaconda3\\lib\\site-packages (24.2)\n",
            "Collecting pip\n",
            "  Downloading pip-25.0.1-py3-none-any.whl.metadata (3.7 kB)\n",
            "Requirement already satisfied: threadpoolctl>=2.0.0 in c:\\users\\supriya\\anaconda3\\lib\\site-packages (from scikit-learn==1.4.2) (3.5.0)\n",
            "Requirement already satisfied: mlflow-skinny==2.20.1 in c:\\users\\supriya\\anaconda3\\lib\\site-packages (from mlflow) (2.20.1)\n",
            "Requirement already satisfied: Flask<4 in c:\\users\\supriya\\anaconda3\\lib\\site-packages (from mlflow) (3.0.3)\n",
            "Requirement already satisfied: Jinja2<4,>=3.0 in c:\\users\\supriya\\anaconda3\\lib\\site-packages (from mlflow) (3.1.4)\n",
            "Requirement already satisfied: alembic!=1.10.0,<2 in c:\\users\\supriya\\anaconda3\\lib\\site-packages (from mlflow) (1.13.3)\n",
            "Requirement already satisfied: docker<8,>=4.0.0 in c:\\users\\supriya\\anaconda3\\lib\\site-packages (from mlflow) (7.1.0)\n",
            "Requirement already satisfied: graphene<4 in c:\\users\\supriya\\anaconda3\\lib\\site-packages (from mlflow) (3.4.3)\n",
            "Requirement already satisfied: markdown<4,>=3.3 in c:\\users\\supriya\\anaconda3\\lib\\site-packages (from mlflow) (3.4.1)\n",
            "Requirement already satisfied: matplotlib<4 in c:\\users\\supriya\\anaconda3\\lib\\site-packages (from mlflow) (3.7.5)\n",
            "Requirement already satisfied: pyarrow<19,>=4.0.0 in c:\\users\\supriya\\anaconda3\\lib\\site-packages (from mlflow) (16.1.0)\n",
            "Requirement already satisfied: sqlalchemy<3,>=1.4.0 in c:\\users\\supriya\\anaconda3\\lib\\site-packages (from mlflow) (2.0.34)\n",
            "Requirement already satisfied: waitress<4 in c:\\users\\supriya\\anaconda3\\lib\\site-packages (from mlflow) (3.0.2)\n",
            "Requirement already satisfied: cachetools<6,>=5.0.0 in c:\\users\\supriya\\anaconda3\\lib\\site-packages (from mlflow-skinny==2.20.1->mlflow) (5.3.3)\n",
            "Requirement already satisfied: click<9,>=7.0 in c:\\users\\supriya\\anaconda3\\lib\\site-packages (from mlflow-skinny==2.20.1->mlflow) (8.1.7)\n",
            "Requirement already satisfied: cloudpickle<4 in c:\\users\\supriya\\anaconda3\\lib\\site-packages (from mlflow-skinny==2.20.1->mlflow) (3.0.0)\n",
            "Requirement already satisfied: databricks-sdk<1,>=0.20.0 in c:\\users\\supriya\\anaconda3\\lib\\site-packages (from mlflow-skinny==2.20.1->mlflow) (0.43.0)\n",
            "Requirement already satisfied: gitpython<4,>=3.1.9 in c:\\users\\supriya\\anaconda3\\lib\\site-packages (from mlflow-skinny==2.20.1->mlflow) (3.1.43)\n",
            "Requirement already satisfied: importlib_metadata!=4.7.0,<9,>=3.7.0 in c:\\users\\supriya\\anaconda3\\lib\\site-packages (from mlflow-skinny==2.20.1->mlflow) (8.5.0)\n",
            "Requirement already satisfied: opentelemetry-api<3,>=1.9.0 in c:\\users\\supriya\\anaconda3\\lib\\site-packages (from mlflow-skinny==2.20.1->mlflow) (1.30.0)\n",
            "Requirement already satisfied: opentelemetry-sdk<3,>=1.9.0 in c:\\users\\supriya\\anaconda3\\lib\\site-packages (from mlflow-skinny==2.20.1->mlflow) (1.30.0)\n",
            "Requirement already satisfied: packaging<25 in c:\\users\\supriya\\anaconda3\\lib\\site-packages (from mlflow-skinny==2.20.1->mlflow) (24.1)\n",
            "Requirement already satisfied: protobuf<6,>=3.12.0 in c:\\users\\supriya\\anaconda3\\lib\\site-packages (from mlflow-skinny==2.20.1->mlflow) (4.25.3)\n",
            "Requirement already satisfied: pydantic<3,>=1.0 in c:\\users\\supriya\\anaconda3\\lib\\site-packages (from mlflow-skinny==2.20.1->mlflow) (2.8.2)\n",
            "Requirement already satisfied: pyyaml<7,>=5.1 in c:\\users\\supriya\\anaconda3\\lib\\site-packages (from mlflow-skinny==2.20.1->mlflow) (6.0.1)\n",
            "Requirement already satisfied: requests<3,>=2.17.3 in c:\\users\\supriya\\anaconda3\\lib\\site-packages (from mlflow-skinny==2.20.1->mlflow) (2.32.3)\n",
            "Requirement already satisfied: sqlparse<1,>=0.4.0 in c:\\users\\supriya\\anaconda3\\lib\\site-packages (from mlflow-skinny==2.20.1->mlflow) (0.5.3)\n",
            "Requirement already satisfied: typing-extensions<5,>=4.0.0 in c:\\users\\supriya\\anaconda3\\lib\\site-packages (from mlflow-skinny==2.20.1->mlflow) (4.11.0)\n",
            "Requirement already satisfied: python-dateutil>=2.8.2 in c:\\users\\supriya\\anaconda3\\lib\\site-packages (from pandas) (2.9.0.post0)\n",
            "Requirement already satisfied: pytz>=2020.1 in c:\\users\\supriya\\anaconda3\\lib\\site-packages (from pandas) (2024.1)\n",
            "Requirement already satisfied: tzdata>=2022.7 in c:\\users\\supriya\\anaconda3\\lib\\site-packages (from pandas) (2023.3)\n",
            "Requirement already satisfied: Mako in c:\\users\\supriya\\anaconda3\\lib\\site-packages (from alembic!=1.10.0,<2->mlflow) (1.2.3)\n",
            "Requirement already satisfied: pywin32>=304 in c:\\users\\supriya\\anaconda3\\lib\\site-packages (from docker<8,>=4.0.0->mlflow) (305.1)\n",
            "Requirement already satisfied: urllib3>=1.26.0 in c:\\users\\supriya\\anaconda3\\lib\\site-packages (from docker<8,>=4.0.0->mlflow) (2.2.3)\n",
            "Requirement already satisfied: Werkzeug>=3.0.0 in c:\\users\\supriya\\anaconda3\\lib\\site-packages (from Flask<4->mlflow) (3.0.3)\n",
            "Requirement already satisfied: itsdangerous>=2.1.2 in c:\\users\\supriya\\anaconda3\\lib\\site-packages (from Flask<4->mlflow) (2.2.0)\n",
            "Requirement already satisfied: blinker>=1.6.2 in c:\\users\\supriya\\anaconda3\\lib\\site-packages (from Flask<4->mlflow) (1.6.2)\n",
            "Requirement already satisfied: graphql-core<3.3,>=3.1 in c:\\users\\supriya\\anaconda3\\lib\\site-packages (from graphene<4->mlflow) (3.2.6)\n",
            "Requirement already satisfied: graphql-relay<3.3,>=3.1 in c:\\users\\supriya\\anaconda3\\lib\\site-packages (from graphene<4->mlflow) (3.2.0)\n",
            "Requirement already satisfied: MarkupSafe>=2.0 in c:\\users\\supriya\\anaconda3\\lib\\site-packages (from Jinja2<4,>=3.0->mlflow) (2.1.3)\n",
            "Requirement already satisfied: contourpy>=1.0.1 in c:\\users\\supriya\\anaconda3\\lib\\site-packages (from matplotlib<4->mlflow) (1.2.0)\n",
            "Requirement already satisfied: cycler>=0.10 in c:\\users\\supriya\\anaconda3\\lib\\site-packages (from matplotlib<4->mlflow) (0.11.0)\n",
            "Requirement already satisfied: fonttools>=4.22.0 in c:\\users\\supriya\\anaconda3\\lib\\site-packages (from matplotlib<4->mlflow) (4.51.0)\n",
            "Requirement already satisfied: kiwisolver>=1.0.1 in c:\\users\\supriya\\anaconda3\\lib\\site-packages (from matplotlib<4->mlflow) (1.4.4)\n",
            "Requirement already satisfied: pillow>=6.2.0 in c:\\users\\supriya\\anaconda3\\lib\\site-packages (from matplotlib<4->mlflow) (10.4.0)\n",
            "Requirement already satisfied: pyparsing>=2.3.1 in c:\\users\\supriya\\anaconda3\\lib\\site-packages (from matplotlib<4->mlflow) (3.1.2)\n",
            "Requirement already satisfied: six>=1.5 in c:\\users\\supriya\\anaconda3\\lib\\site-packages (from python-dateutil>=2.8.2->pandas) (1.16.0)\n",
            "Requirement already satisfied: greenlet!=0.4.17 in c:\\users\\supriya\\anaconda3\\lib\\site-packages (from sqlalchemy<3,>=1.4.0->mlflow) (3.0.1)\n",
            "Requirement already satisfied: colorama in c:\\users\\supriya\\anaconda3\\lib\\site-packages (from click<9,>=7.0->mlflow-skinny==2.20.1->mlflow) (0.4.6)\n",
            "Requirement already satisfied: google-auth~=2.0 in c:\\users\\supriya\\anaconda3\\lib\\site-packages (from databricks-sdk<1,>=0.20.0->mlflow-skinny==2.20.1->mlflow) (2.38.0)\n",
            "Requirement already satisfied: gitdb<5,>=4.0.1 in c:\\users\\supriya\\anaconda3\\lib\\site-packages (from gitpython<4,>=3.1.9->mlflow-skinny==2.20.1->mlflow) (4.0.7)\n",
            "Requirement already satisfied: zipp>=3.20 in c:\\users\\supriya\\anaconda3\\lib\\site-packages (from importlib_metadata!=4.7.0,<9,>=3.7.0->mlflow-skinny==2.20.1->mlflow) (3.21.0)\n",
            "Requirement already satisfied: deprecated>=1.2.6 in c:\\users\\supriya\\anaconda3\\lib\\site-packages (from opentelemetry-api<3,>=1.9.0->mlflow-skinny==2.20.1->mlflow) (1.2.18)\n",
            "Requirement already satisfied: opentelemetry-semantic-conventions==0.51b0 in c:\\users\\supriya\\anaconda3\\lib\\site-packages (from opentelemetry-sdk<3,>=1.9.0->mlflow-skinny==2.20.1->mlflow) (0.51b0)\n",
            "Requirement already satisfied: annotated-types>=0.4.0 in c:\\users\\supriya\\anaconda3\\lib\\site-packages (from pydantic<3,>=1.0->mlflow-skinny==2.20.1->mlflow) (0.6.0)\n",
            "Requirement already satisfied: pydantic-core==2.20.1 in c:\\users\\supriya\\anaconda3\\lib\\site-packages (from pydantic<3,>=1.0->mlflow-skinny==2.20.1->mlflow) (2.20.1)\n",
            "Requirement already satisfied: charset-normalizer<4,>=2 in c:\\users\\supriya\\anaconda3\\lib\\site-packages (from requests<3,>=2.17.3->mlflow-skinny==2.20.1->mlflow) (3.3.2)\n",
            "Requirement already satisfied: idna<4,>=2.5 in c:\\users\\supriya\\anaconda3\\lib\\site-packages (from requests<3,>=2.17.3->mlflow-skinny==2.20.1->mlflow) (3.7)\n",
            "Requirement already satisfied: certifi>=2017.4.17 in c:\\users\\supriya\\anaconda3\\lib\\site-packages (from requests<3,>=2.17.3->mlflow-skinny==2.20.1->mlflow) (2025.1.31)\n",
            "Requirement already satisfied: wrapt<2,>=1.10 in c:\\users\\supriya\\anaconda3\\lib\\site-packages (from deprecated>=1.2.6->opentelemetry-api<3,>=1.9.0->mlflow-skinny==2.20.1->mlflow) (1.14.1)\n",
            "Requirement already satisfied: smmap<5,>=3.0.1 in c:\\users\\supriya\\anaconda3\\lib\\site-packages (from gitdb<5,>=4.0.1->gitpython<4,>=3.1.9->mlflow-skinny==2.20.1->mlflow) (4.0.0)\n",
            "Requirement already satisfied: pyasn1-modules>=0.2.1 in c:\\users\\supriya\\anaconda3\\lib\\site-packages (from google-auth~=2.0->databricks-sdk<1,>=0.20.0->mlflow-skinny==2.20.1->mlflow) (0.2.8)\n",
            "Requirement already satisfied: rsa<5,>=3.1.4 in c:\\users\\supriya\\anaconda3\\lib\\site-packages (from google-auth~=2.0->databricks-sdk<1,>=0.20.0->mlflow-skinny==2.20.1->mlflow) (4.9)\n",
            "Requirement already satisfied: pyasn1<0.5.0,>=0.4.6 in c:\\users\\supriya\\anaconda3\\lib\\site-packages (from pyasn1-modules>=0.2.1->google-auth~=2.0->databricks-sdk<1,>=0.20.0->mlflow-skinny==2.20.1->mlflow) (0.4.8)\n",
            "Downloading scipy-1.11.3-cp312-cp312-win_amd64.whl (43.7 MB)\n",
            "   ---------------------------------------- 0.0/43.7 MB ? eta -:--:--\n",
            "   ---------------------------------------- 0.3/43.7 MB ? eta -:--:--\n",
            "    --------------------------------------- 1.0/43.7 MB 3.1 MB/s eta 0:00:14\n",
            "   - -------------------------------------- 1.8/43.7 MB 3.6 MB/s eta 0:00:12\n",
            "   -- ------------------------------------- 2.9/43.7 MB 3.7 MB/s eta 0:00:11\n",
            "   --- ------------------------------------ 3.9/43.7 MB 4.0 MB/s eta 0:00:10\n",
            "   ---- ----------------------------------- 4.7/43.7 MB 4.0 MB/s eta 0:00:10\n",
            "   ----- ---------------------------------- 5.8/43.7 MB 4.0 MB/s eta 0:00:10\n",
            "   ----- ---------------------------------- 6.6/43.7 MB 3.9 MB/s eta 0:00:10\n",
            "   ------ --------------------------------- 7.3/43.7 MB 3.9 MB/s eta 0:00:10\n",
            "   ------- -------------------------------- 8.1/43.7 MB 3.9 MB/s eta 0:00:10\n",
            "   -------- ------------------------------- 8.9/43.7 MB 3.9 MB/s eta 0:00:09\n",
            "   -------- ------------------------------- 9.4/43.7 MB 3.9 MB/s eta 0:00:09\n",
            "   --------- ------------------------------ 10.5/43.7 MB 3.9 MB/s eta 0:00:09\n",
            "   ---------- ----------------------------- 11.3/43.7 MB 3.9 MB/s eta 0:00:09\n",
            "   ----------- ---------------------------- 12.1/43.7 MB 3.9 MB/s eta 0:00:09\n",
            "   ----------- ---------------------------- 13.1/43.7 MB 3.9 MB/s eta 0:00:08\n",
            "   ------------ --------------------------- 13.9/43.7 MB 3.9 MB/s eta 0:00:08\n",
            "   ------------- -------------------------- 14.7/43.7 MB 3.9 MB/s eta 0:00:08\n",
            "   -------------- ------------------------- 15.5/43.7 MB 3.9 MB/s eta 0:00:08\n",
            "   -------------- ------------------------- 16.3/43.7 MB 3.9 MB/s eta 0:00:08\n",
            "   --------------- ------------------------ 17.0/43.7 MB 3.9 MB/s eta 0:00:07\n",
            "   ---------------- ----------------------- 18.1/43.7 MB 3.9 MB/s eta 0:00:07\n",
            "   ----------------- ---------------------- 18.9/43.7 MB 3.9 MB/s eta 0:00:07\n",
            "   ----------------- ---------------------- 19.7/43.7 MB 3.9 MB/s eta 0:00:07\n",
            "   ------------------ --------------------- 20.4/43.7 MB 3.9 MB/s eta 0:00:06\n",
            "   ------------------- -------------------- 21.2/43.7 MB 3.9 MB/s eta 0:00:06\n",
            "   -------------------- ------------------- 22.0/43.7 MB 3.9 MB/s eta 0:00:06\n",
            "   -------------------- ------------------- 22.8/43.7 MB 3.9 MB/s eta 0:00:06\n",
            "   --------------------- ------------------ 23.9/43.7 MB 3.9 MB/s eta 0:00:06\n",
            "   ---------------------- ----------------- 24.6/43.7 MB 3.9 MB/s eta 0:00:05\n",
            "   ----------------------- ---------------- 25.4/43.7 MB 3.9 MB/s eta 0:00:05\n",
            "   ----------------------- ---------------- 26.2/43.7 MB 3.9 MB/s eta 0:00:05\n",
            "   ------------------------ --------------- 27.0/43.7 MB 3.9 MB/s eta 0:00:05\n",
            "   ------------------------- -------------- 28.0/43.7 MB 3.9 MB/s eta 0:00:05\n",
            "   -------------------------- ------------- 28.8/43.7 MB 3.9 MB/s eta 0:00:04\n",
            "   --------------------------- ------------ 29.6/43.7 MB 3.9 MB/s eta 0:00:04\n",
            "   --------------------------- ------------ 30.4/43.7 MB 3.9 MB/s eta 0:00:04\n",
            "   ---------------------------- ----------- 31.2/43.7 MB 3.9 MB/s eta 0:00:04\n",
            "   ----------------------------- ---------- 31.7/43.7 MB 3.9 MB/s eta 0:00:04\n",
            "   ----------------------------- ---------- 32.8/43.7 MB 3.9 MB/s eta 0:00:03\n",
            "   ------------------------------ --------- 33.6/43.7 MB 3.9 MB/s eta 0:00:03\n",
            "   ------------------------------- -------- 34.6/43.7 MB 3.9 MB/s eta 0:00:03\n",
            "   -------------------------------- ------- 35.4/43.7 MB 3.9 MB/s eta 0:00:03\n",
            "   -------------------------------- ------- 35.7/43.7 MB 3.9 MB/s eta 0:00:03\n",
            "   --------------------------------- ------ 37.0/43.7 MB 3.9 MB/s eta 0:00:02\n",
            "   ---------------------------------- ----- 37.7/43.7 MB 3.9 MB/s eta 0:00:02\n",
            "   ----------------------------------- ---- 38.5/43.7 MB 3.9 MB/s eta 0:00:02\n",
            "   ----------------------------------- ---- 39.3/43.7 MB 3.9 MB/s eta 0:00:02\n",
            "   ------------------------------------ --- 40.1/43.7 MB 3.9 MB/s eta 0:00:01\n",
            "   ------------------------------------- -- 40.9/43.7 MB 3.9 MB/s eta 0:00:01\n",
            "   -------------------------------------- - 41.9/43.7 MB 3.9 MB/s eta 0:00:01\n",
            "   ---------------------------------------  42.7/43.7 MB 3.9 MB/s eta 0:00:01\n",
            "   ---------------------------------------  43.3/43.7 MB 3.9 MB/s eta 0:00:01\n",
            "   ---------------------------------------- 43.7/43.7 MB 3.9 MB/s eta 0:00:00\n",
            "Downloading pandas-2.2.3-cp312-cp312-win_amd64.whl (11.5 MB)\n",
            "   ---------------------------------------- 0.0/11.5 MB ? eta -:--:--\n",
            "   --- ------------------------------------ 1.0/11.5 MB 5.0 MB/s eta 0:00:03\n",
            "   ------ --------------------------------- 1.8/11.5 MB 4.4 MB/s eta 0:00:03\n",
            "   ---------- ----------------------------- 2.9/11.5 MB 4.2 MB/s eta 0:00:03\n",
            "   ------------ --------------------------- 3.7/11.5 MB 4.0 MB/s eta 0:00:02\n",
            "   --------------- ------------------------ 4.5/11.5 MB 4.1 MB/s eta 0:00:02\n",
            "   ------------------ --------------------- 5.2/11.5 MB 4.0 MB/s eta 0:00:02\n",
            "   -------------------- ------------------- 6.0/11.5 MB 4.0 MB/s eta 0:00:02\n",
            "   ----------------------- ---------------- 6.8/11.5 MB 4.0 MB/s eta 0:00:02\n",
            "   -------------------------- ------------- 7.6/11.5 MB 4.0 MB/s eta 0:00:01\n",
            "   ------------------------------ --------- 8.7/11.5 MB 4.0 MB/s eta 0:00:01\n",
            "   -------------------------------- ------- 9.4/11.5 MB 4.0 MB/s eta 0:00:01\n",
            "   ----------------------------------- ---- 10.2/11.5 MB 4.0 MB/s eta 0:00:01\n",
            "   ---------------------------------------  11.3/11.5 MB 4.0 MB/s eta 0:00:01\n",
            "   ---------------------------------------- 11.5/11.5 MB 4.0 MB/s eta 0:00:00\n",
            "Downloading setuptools-75.8.0-py3-none-any.whl (1.2 MB)\n",
            "   ---------------------------------------- 0.0/1.2 MB ? eta -:--:--\n",
            "   ------------------------- -------------- 0.8/1.2 MB 4.2 MB/s eta 0:00:01\n",
            "   ---------------------------------------- 1.2/1.2 MB 3.9 MB/s eta 0:00:00\n",
            "Downloading wheel-0.45.1-py3-none-any.whl (72 kB)\n",
            "Downloading pip-25.0.1-py3-none-any.whl (1.8 MB)\n",
            "   ---------------------------------------- 0.0/1.8 MB ? eta -:--:--\n",
            "   ---------------------- ----------------- 1.0/1.8 MB 5.0 MB/s eta 0:00:01\n",
            "   ---------------------------------------- 1.8/1.8 MB 4.4 MB/s eta 0:00:00\n"
          ]
        },
        {
          "name": "stderr",
          "output_type": "stream",
          "text": [
            "ERROR: To modify pip, please run the following command:\n",
            "C:\\Users\\Supriya\\anaconda3\\python.exe -m pip install --no-cache-dir numpy==1.26.4 scipy==1.11.3 scikit-learn==1.4.2 joblib==1.3.2 mlflow pandas setuptools wheel pip --upgrade\n"
          ]
        }
      ],
      "source": [
        "# Step 1: Install required libraries (Run only if they are not installed)\n",
        "!pip install --no-cache-dir numpy==1.26.4 scipy==1.11.3 scikit-learn==1.4.2 joblib==1.3.2 mlflow pandas setuptools wheel pip --upgrade\n"
      ]
    },
    {
      "cell_type": "markdown",
      "source": [
        "#### **📝 Step 2: Importing Required Libraries**  \n",
        "\n",
        "**What does this code do?**  \n",
        "This step imports all the necessary Python libraries required for data handling, model training, evaluation, and MLflow experiment tracking.\n",
        "\n",
        "This step includes:\n",
        "- **OS and System Libraries**: Handles system operations and warnings.\n",
        "- **Data Processing**: `pandas` and `numpy` for data handling and numerical computations.\n",
        "- **Machine Learning**: `scikit-learn` for model training and evaluation.\n",
        "- **MLflow**: Helps with logging, tracking, and managing experiments.\n",
        "\n",
        "**Running the code** 🔽  \n"
      ],
      "metadata": {
        "id": "WP9U1fc-fWh3"
      },
      "id": "WP9U1fc-fWh3"
    },
    {
      "cell_type": "code",
      "execution_count": null,
      "id": "90fe8fb5-7d0c-4682-bdd6-73316b509f39",
      "metadata": {
        "id": "90fe8fb5-7d0c-4682-bdd6-73316b509f39"
      },
      "outputs": [],
      "source": [
        "# Step 2: Import necessary libraries\n",
        "import os\n",
        "import warnings\n",
        "import logging\n",
        "import pandas as pd\n",
        "import numpy as np\n",
        "from sklearn.metrics import mean_squared_error, mean_absolute_error, r2_score\n",
        "from sklearn.model_selection import train_test_split\n",
        "from sklearn.linear_model import ElasticNet\n",
        "from urllib.parse import urlparse\n",
        "import mlflow\n",
        "import mlflow.sklearn\n"
      ]
    },
    {
      "cell_type": "markdown",
      "source": [
        "#### **📝 Step 3: Setting Up Logging and Evaluation Functions**  \n",
        "\n",
        "**What does this code do?**  \n",
        "This step sets up a **logging system** to track errors and define an **evaluation function** to measure the performance of the machine learning model.\n",
        "\n",
        "This step includes:\n",
        "- **Logging Setup**: Helps track errors and warnings during execution.\n",
        "- **Evaluation Function**: Computes model performance metrics (RMSE, MAE, R² Score).\n",
        "\n",
        "**Running the code** 🔽  "
      ],
      "metadata": {
        "id": "jBUSr3-ogbob"
      },
      "id": "jBUSr3-ogbob"
    },
    {
      "cell_type": "code",
      "execution_count": null,
      "id": "5f977337-8295-4a97-8d45-9c4c7df2e362",
      "metadata": {
        "id": "5f977337-8295-4a97-8d45-9c4c7df2e362"
      },
      "outputs": [],
      "source": [
        "# Step 3: Set up logging and evaluation function\n",
        "logging.basicConfig(level=logging.WARN)\n",
        "logger = logging.getLogger(__name__)\n",
        "\n",
        "def eval_metrics(actual, pred):\n",
        "    \"\"\"Function to calculate RMSE, MAE, and R² score.\"\"\"\n",
        "    rmse = np.sqrt(mean_squared_error(actual, pred))\n",
        "    mae = mean_absolute_error(actual, pred)\n",
        "    r2 = r2_score(actual, pred)\n",
        "    return rmse, mae, r2\n"
      ]
    },
    {
      "cell_type": "markdown",
      "source": [
        "#### **📝 Step 4: Loading the Dataset**  \n",
        "\n",
        "**What does this code do?**  \n",
        "This step loads the **Wine Quality Dataset** from the **UCI Machine Learning Repository**.  \n",
        "The dataset contains **chemical properties of red wine** and their respective **quality ratings (3-9)**.  \n",
        "\n",
        "This step includes:\n",
        "- **Suppressing warnings** to keep the output clean.\n",
        "- **Setting a random seed** to ensure reproducibility.\n",
        "- **Downloading the dataset** from an online URL.\n",
        "- **Handling errors** in case the dataset cannot be loaded.\n",
        "\n",
        "**Running the code** 🔽  "
      ],
      "metadata": {
        "id": "pVW1FrdjgsAk"
      },
      "id": "pVW1FrdjgsAk"
    },
    {
      "cell_type": "code",
      "execution_count": null,
      "id": "42b2956f-bf7e-4152-bb39-68481a840e62",
      "metadata": {
        "id": "42b2956f-bf7e-4152-bb39-68481a840e62"
      },
      "outputs": [],
      "source": [
        "# Step 4: Load dataset from UCI repository\n",
        "warnings.filterwarnings(\"ignore\")\n",
        "np.random.seed(40)\n",
        "\n",
        "# Dataset URL\n",
        "csv_url = \"http://archive.ics.uci.edu/ml/machine-learning-databases/wine-quality/winequality-red.csv\"\n",
        "\n",
        "# Download the dataset\n",
        "try:\n",
        "    data = pd.read_csv(csv_url, sep=\";\")\n",
        "except Exception as e:\n",
        "    logger.exception(\n",
        "        \"Unable to download the dataset. Check your internet connection. Error: %s\", e\n",
        "    )\n"
      ]
    },
    {
      "cell_type": "markdown",
      "source": [
        "#### **📝 Step 5: Splitting Data into Training and Test Sets**  \n",
        "\n",
        "**What does this code do?**  \n",
        "This step **splits the dataset** into training and test sets.  \n",
        "The **training set (75%)** is used to train the model, while the **test set (25%)** is used to evaluate model performance.  \n",
        "\n",
        "This step includes:\n",
        "- **Splitting the dataset** into training and test sets.\n",
        "- **Separating the features (`X`) and target variable (`y`)**.\n",
        "\n",
        "**Running the code** 🔽  \n"
      ],
      "metadata": {
        "id": "nG5UjRAbg9co"
      },
      "id": "nG5UjRAbg9co"
    },
    {
      "cell_type": "code",
      "execution_count": null,
      "id": "86024e7e-e80b-46d1-8e59-874982d52efa",
      "metadata": {
        "id": "86024e7e-e80b-46d1-8e59-874982d52efa"
      },
      "outputs": [],
      "source": [
        "# Step 5: Split dataset into training and test sets\n",
        "train, test = train_test_split(data, test_size=0.25, random_state=42)\n",
        "\n",
        "# Features (X) and target variable (y)\n",
        "train_x = train.drop([\"quality\"], axis=1)\n",
        "test_x = test.drop([\"quality\"], axis=1)\n",
        "train_y = train[[\"quality\"]]\n",
        "test_y = test[[\"quality\"]]\n"
      ]
    },
    {
      "cell_type": "markdown",
      "source": [
        "#### **📝 Step 6: Training the Model and Logging with MLflow**  \n",
        "\n",
        "**What does this code do?**  \n",
        "This step **trains an ElasticNet regression model** and logs the model's **parameters and performance metrics** using **MLflow**.  \n",
        "\n",
        "This step includes:\n",
        "- **Training the ElasticNet model** using the training data.\n",
        "- **Making predictions** on the test data.\n",
        "- **Evaluating the model** using RMSE, MAE, and R² score.\n",
        "- **Logging the experiment details** in MLflow.\n",
        "\n",
        "**Running the code** 🔽  \n"
      ],
      "metadata": {
        "id": "l9Mj67WEhGYF"
      },
      "id": "l9Mj67WEhGYF"
    },
    {
      "cell_type": "code",
      "execution_count": null,
      "id": "75b8f9e5-1ed5-48f2-8a4e-e25239c25d24",
      "metadata": {
        "id": "75b8f9e5-1ed5-48f2-8a4e-e25239c25d24",
        "outputId": "b9538a11-4a5a-4af2-a77a-94832a757dcd"
      },
      "outputs": [
        {
          "name": "stdout",
          "output_type": "stream",
          "text": [
            "ElasticNet model (alpha=0.5, l1_ratio=0.5):\n",
            "  RMSE: 0.7436470916334205\n",
            "  MAE: 0.6042761768399746\n",
            "  R2: 0.10601910075094545\n"
          ]
        }
      ],
      "source": [
        "# Step 6: Train an ElasticNet regression model and log metrics in MLflow\n",
        "alpha = 0.5\n",
        "l1_ratio = 0.5\n",
        "\n",
        "with mlflow.start_run():\n",
        "\n",
        "    # Train the ElasticNet Model\n",
        "    lr = ElasticNet(alpha=alpha, l1_ratio=l1_ratio, random_state=42)\n",
        "    lr.fit(train_x, train_y)\n",
        "\n",
        "    # Make Predictions\n",
        "    predicted_qualities = lr.predict(test_x)\n",
        "\n",
        "    # Evaluate Model\n",
        "    rmse, mae, r2 = eval_metrics(test_y, predicted_qualities)\n",
        "\n",
        "    print(f\"ElasticNet model (alpha={alpha}, l1_ratio={l1_ratio}):\")\n",
        "    print(f\"  RMSE: {rmse}\")\n",
        "    print(f\"  MAE: {mae}\")\n",
        "    print(f\"  R2: {r2}\")\n",
        "\n",
        "    # Log Parameters & Metrics in MLflow\n",
        "    mlflow.log_param(\"alpha\", alpha)\n",
        "    mlflow.log_param(\"l1_ratio\", l1_ratio)\n",
        "    mlflow.log_metric(\"rmse\", rmse)\n",
        "    mlflow.log_metric(\"r2\", r2)\n",
        "    mlflow.log_metric(\"mae\", mae)\n"
      ]
    },
    {
      "cell_type": "markdown",
      "source": [
        "#### **📝 Step 7: Registering the Trained Model in MLflow**  \n",
        "\n",
        "**What does this code do?**  \n",
        "This step **registers the trained model in MLflow** so it can be stored, versioned, and retrieved for future use.\n",
        "\n",
        "This step includes:\n",
        "- **Checking MLflow tracking URI** to determine storage type.\n",
        "- **Logging and registering the model** in MLflow.\n",
        "\n",
        "**Running the code** 🔽  \n"
      ],
      "metadata": {
        "id": "CtwiDfHJhM-E"
      },
      "id": "CtwiDfHJhM-E"
    },
    {
      "cell_type": "code",
      "execution_count": null,
      "id": "a2aa17a4-48bc-41ea-b7d9-9a868dbb848d",
      "metadata": {
        "id": "a2aa17a4-48bc-41ea-b7d9-9a868dbb848d"
      },
      "outputs": [],
      "source": [
        "# Step 7: Register the trained model in MLflow\n",
        "tracking_url_type_store = urlparse(mlflow.get_tracking_uri()).scheme\n",
        "\n",
        "if tracking_url_type_store != \"file\":\n",
        "    mlflow.sklearn.log_model(lr, \"model\", registered_model_name=\"ElasticNetWineModel\")\n",
        "else:\n",
        "    mlflow.sklearn.log_model(lr, \"model\")\n"
      ]
    }
  ],
  "metadata": {
    "kernelspec": {
      "display_name": "Python 3.9.13 (PyCaret)",
      "language": "python",
      "name": "pycaret_env"
    },
    "language_info": {
      "codemirror_mode": {
        "name": "ipython",
        "version": 3
      },
      "file_extension": ".py",
      "mimetype": "text/x-python",
      "name": "python",
      "nbconvert_exporter": "python",
      "pygments_lexer": "ipython3",
      "version": "3.9.21"
    },
    "colab": {
      "provenance": []
    }
  },
  "nbformat": 4,
  "nbformat_minor": 5
}