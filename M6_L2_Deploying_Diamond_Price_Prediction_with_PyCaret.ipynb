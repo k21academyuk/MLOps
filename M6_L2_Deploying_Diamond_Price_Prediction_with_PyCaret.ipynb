{
  "cells": [
    {
      "cell_type": "markdown",
      "source": [
        "# **Deploying a Diamond Price Prediction Model with PyCaret & AutoML**\n",
        "\n",
        "### 📝 **Introduction**\n",
        "In this Lab we will **predict diamond prices** using **regression models**.\n",
        "\n",
        "We will use **PyCaret**, an automated machine learning library, to:\n",
        "- Load and preprocess data.\n",
        "- Compare multiple machine learning models.\n",
        "- Train, tune, and evaluate the best model.\n",
        "- Predict diamond prices based on various features.\n",
        "\n",
        "💡 **What is Regression?**\n",
        "Regression is a type of machine learning used to predict **continuous values**.  \n",
        "For example, predicting **house prices, stock values, or sales revenue**.\n",
        "\n",
        "💡 **What is PyCaret?**\n",
        "PyCaret is a **low-code machine learning library** that allows you to build ML models quickly with just a few lines of code.\n",
        "\n",
        "🚀 **By the end of this lab, you will be able to:**\n",
        "1. Load and preprocess data.\n",
        "2. Compare different regression models automatically.\n",
        "3. Train and tune a machine learning model.\n",
        "4. Evaluate the model and make predictions.\n",
        "\n",
        "Let's get started! 🎯\n"
      ],
      "metadata": {
        "id": "Csu65VFfq01P"
      },
      "id": "Csu65VFfq01P"
    },
    {
      "cell_type": "markdown",
      "source": [
        "### **Install Required Libraries**\n",
        "\n",
        "Before we begin, we need to install some essential Python libraries.\n",
        "\n",
        "- `pycaret` → Automates the entire machine learning pipeline.\n",
        "- `mlflow` → Used for model tracking and logging.\n",
        "- `importlib-metadata` → Helps manage library dependencies.\n",
        "\n",
        "🔽 **Run the following code to install them:**\n"
      ],
      "metadata": {
        "id": "FCNgS1NqrMiu"
      },
      "id": "FCNgS1NqrMiu"
    },
    {
      "cell_type": "code",
      "execution_count": null,
      "id": "9ae42ebd",
      "metadata": {
        "id": "9ae42ebd",
        "outputId": "dd262c82-ab0a-4d02-bd5b-dc2f5614cbbd"
      },
      "outputs": [
        {
          "name": "stdout",
          "output_type": "stream",
          "text": [
            "Requirement already satisfied: pycaret in c:\\users\\supriya\\anaconda3\\lib\\site-packages (3.3.2)\n",
            "Requirement already satisfied: ipython>=5.5.0 in c:\\users\\supriya\\anaconda3\\lib\\site-packages (from pycaret) (8.27.0)\n",
            "Requirement already satisfied: ipywidgets>=7.6.5 in c:\\users\\supriya\\anaconda3\\lib\\site-packages (from pycaret) (7.8.1)\n",
            "Requirement already satisfied: tqdm>=4.62.0 in c:\\users\\supriya\\anaconda3\\lib\\site-packages (from pycaret) (4.66.5)\n",
            "Requirement already satisfied: numpy<1.27,>=1.21 in c:\\users\\supriya\\anaconda3\\lib\\site-packages (from pycaret) (1.26.4)\n",
            "Requirement already satisfied: pandas<2.2.0 in c:\\users\\supriya\\anaconda3\\lib\\site-packages (from pycaret) (2.1.4)\n",
            "Requirement already satisfied: jinja2>=3 in c:\\users\\supriya\\anaconda3\\lib\\site-packages (from pycaret) (3.1.4)\n",
            "Requirement already satisfied: scipy<=1.11.4,>=1.6.1 in c:\\users\\supriya\\anaconda3\\lib\\site-packages (from pycaret) (1.11.4)\n",
            "Requirement already satisfied: joblib<1.4,>=1.2.0 in c:\\users\\supriya\\anaconda3\\lib\\site-packages (from pycaret) (1.3.2)\n",
            "Requirement already satisfied: scikit-learn>1.4.0 in c:\\users\\supriya\\anaconda3\\lib\\site-packages (from pycaret) (1.4.2)\n",
            "Requirement already satisfied: pyod>=1.1.3 in c:\\users\\supriya\\anaconda3\\lib\\site-packages (from pycaret) (2.0.3)\n",
            "Requirement already satisfied: imbalanced-learn>=0.12.0 in c:\\users\\supriya\\anaconda3\\lib\\site-packages (from pycaret) (0.12.3)\n",
            "Requirement already satisfied: category-encoders>=2.4.0 in c:\\users\\supriya\\anaconda3\\lib\\site-packages (from pycaret) (2.7.0)\n",
            "Requirement already satisfied: lightgbm>=3.0.0 in c:\\users\\supriya\\anaconda3\\lib\\site-packages (from pycaret) (4.5.0)\n",
            "Requirement already satisfied: numba>=0.55.0 in c:\\users\\supriya\\anaconda3\\lib\\site-packages (from pycaret) (0.60.0)\n",
            "Requirement already satisfied: requests>=2.27.1 in c:\\users\\supriya\\anaconda3\\lib\\site-packages (from pycaret) (2.32.3)\n",
            "Requirement already satisfied: psutil>=5.9.0 in c:\\users\\supriya\\anaconda3\\lib\\site-packages (from pycaret) (5.9.0)\n",
            "Requirement already satisfied: markupsafe>=2.0.1 in c:\\users\\supriya\\anaconda3\\lib\\site-packages (from pycaret) (2.1.3)\n",
            "Requirement already satisfied: importlib-metadata>=4.12.0 in c:\\users\\supriya\\anaconda3\\lib\\site-packages (from pycaret) (8.5.0)\n",
            "Requirement already satisfied: nbformat>=4.2.0 in c:\\users\\supriya\\anaconda3\\lib\\site-packages (from pycaret) (5.10.4)\n",
            "Requirement already satisfied: cloudpickle in c:\\users\\supriya\\anaconda3\\lib\\site-packages (from pycaret) (3.0.0)\n",
            "Requirement already satisfied: deprecation>=2.1.0 in c:\\users\\supriya\\anaconda3\\lib\\site-packages (from pycaret) (2.1.0)\n",
            "Requirement already satisfied: xxhash in c:\\users\\supriya\\anaconda3\\lib\\site-packages (from pycaret) (3.5.0)\n",
            "Requirement already satisfied: matplotlib<3.8.0 in c:\\users\\supriya\\anaconda3\\lib\\site-packages (from pycaret) (3.7.5)\n",
            "Requirement already satisfied: scikit-plot>=0.3.7 in c:\\users\\supriya\\anaconda3\\lib\\site-packages (from pycaret) (0.3.7)\n",
            "Requirement already satisfied: yellowbrick>=1.4 in c:\\users\\supriya\\anaconda3\\lib\\site-packages (from pycaret) (1.5)\n",
            "Requirement already satisfied: plotly>=5.14.0 in c:\\users\\supriya\\anaconda3\\lib\\site-packages (from pycaret) (5.24.1)\n",
            "Requirement already satisfied: kaleido>=0.2.1 in c:\\users\\supriya\\anaconda3\\lib\\site-packages (from pycaret) (0.2.1)\n",
            "Requirement already satisfied: schemdraw==0.15 in c:\\users\\supriya\\anaconda3\\lib\\site-packages (from pycaret) (0.15)\n",
            "Requirement already satisfied: plotly-resampler>=0.8.3.1 in c:\\users\\supriya\\anaconda3\\lib\\site-packages (from pycaret) (0.10.0)\n",
            "Requirement already satisfied: statsmodels>=0.12.1 in c:\\users\\supriya\\anaconda3\\lib\\site-packages (from pycaret) (0.14.2)\n",
            "Requirement already satisfied: sktime==0.26.0 in c:\\users\\supriya\\anaconda3\\lib\\site-packages (from pycaret) (0.26.0)\n",
            "Requirement already satisfied: tbats>=1.1.3 in c:\\users\\supriya\\anaconda3\\lib\\site-packages (from pycaret) (1.1.3)\n",
            "Requirement already satisfied: pmdarima>=2.0.4 in c:\\users\\supriya\\anaconda3\\lib\\site-packages (from pycaret) (2.0.4)\n",
            "Requirement already satisfied: packaging in c:\\users\\supriya\\anaconda3\\lib\\site-packages (from sktime==0.26.0->pycaret) (24.1)\n",
            "Requirement already satisfied: scikit-base<0.8.0 in c:\\users\\supriya\\anaconda3\\lib\\site-packages (from sktime==0.26.0->pycaret) (0.7.8)\n",
            "Requirement already satisfied: patsy>=0.5.1 in c:\\users\\supriya\\anaconda3\\lib\\site-packages (from category-encoders>=2.4.0->pycaret) (0.5.6)\n",
            "Requirement already satisfied: threadpoolctl>=2.0.0 in c:\\users\\supriya\\anaconda3\\lib\\site-packages (from imbalanced-learn>=0.12.0->pycaret) (3.5.0)\n",
            "Requirement already satisfied: zipp>=3.20 in c:\\users\\supriya\\anaconda3\\lib\\site-packages (from importlib-metadata>=4.12.0->pycaret) (3.21.0)\n",
            "Requirement already satisfied: decorator in c:\\users\\supriya\\anaconda3\\lib\\site-packages (from ipython>=5.5.0->pycaret) (5.1.1)\n",
            "Requirement already satisfied: jedi>=0.16 in c:\\users\\supriya\\anaconda3\\lib\\site-packages (from ipython>=5.5.0->pycaret) (0.19.1)\n",
            "Requirement already satisfied: matplotlib-inline in c:\\users\\supriya\\anaconda3\\lib\\site-packages (from ipython>=5.5.0->pycaret) (0.1.6)\n",
            "Requirement already satisfied: prompt-toolkit<3.1.0,>=3.0.41 in c:\\users\\supriya\\anaconda3\\lib\\site-packages (from ipython>=5.5.0->pycaret) (3.0.43)\n",
            "Requirement already satisfied: pygments>=2.4.0 in c:\\users\\supriya\\anaconda3\\lib\\site-packages (from ipython>=5.5.0->pycaret) (2.15.1)\n",
            "Requirement already satisfied: stack-data in c:\\users\\supriya\\anaconda3\\lib\\site-packages (from ipython>=5.5.0->pycaret) (0.2.0)\n",
            "Requirement already satisfied: traitlets>=5.13.0 in c:\\users\\supriya\\anaconda3\\lib\\site-packages (from ipython>=5.5.0->pycaret) (5.14.3)\n",
            "Requirement already satisfied: colorama in c:\\users\\supriya\\anaconda3\\lib\\site-packages (from ipython>=5.5.0->pycaret) (0.4.6)\n",
            "Requirement already satisfied: comm>=0.1.3 in c:\\users\\supriya\\anaconda3\\lib\\site-packages (from ipywidgets>=7.6.5->pycaret) (0.2.1)\n",
            "Requirement already satisfied: ipython-genutils~=0.2.0 in c:\\users\\supriya\\anaconda3\\lib\\site-packages (from ipywidgets>=7.6.5->pycaret) (0.2.0)\n",
            "Requirement already satisfied: widgetsnbextension~=3.6.6 in c:\\users\\supriya\\anaconda3\\lib\\site-packages (from ipywidgets>=7.6.5->pycaret) (3.6.6)\n",
            "Requirement already satisfied: jupyterlab-widgets<3,>=1.0.0 in c:\\users\\supriya\\anaconda3\\lib\\site-packages (from ipywidgets>=7.6.5->pycaret) (1.0.0)\n",
            "Requirement already satisfied: contourpy>=1.0.1 in c:\\users\\supriya\\anaconda3\\lib\\site-packages (from matplotlib<3.8.0->pycaret) (1.2.0)\n",
            "Requirement already satisfied: cycler>=0.10 in c:\\users\\supriya\\anaconda3\\lib\\site-packages (from matplotlib<3.8.0->pycaret) (0.11.0)\n",
            "Requirement already satisfied: fonttools>=4.22.0 in c:\\users\\supriya\\anaconda3\\lib\\site-packages (from matplotlib<3.8.0->pycaret) (4.51.0)\n",
            "Requirement already satisfied: kiwisolver>=1.0.1 in c:\\users\\supriya\\anaconda3\\lib\\site-packages (from matplotlib<3.8.0->pycaret) (1.4.4)\n",
            "Requirement already satisfied: pillow>=6.2.0 in c:\\users\\supriya\\anaconda3\\lib\\site-packages (from matplotlib<3.8.0->pycaret) (10.4.0)\n",
            "Requirement already satisfied: pyparsing>=2.3.1 in c:\\users\\supriya\\anaconda3\\lib\\site-packages (from matplotlib<3.8.0->pycaret) (3.1.2)\n",
            "Requirement already satisfied: python-dateutil>=2.7 in c:\\users\\supriya\\anaconda3\\lib\\site-packages (from matplotlib<3.8.0->pycaret) (2.9.0.post0)\n",
            "Requirement already satisfied: fastjsonschema>=2.15 in c:\\users\\supriya\\anaconda3\\lib\\site-packages (from nbformat>=4.2.0->pycaret) (2.16.2)\n",
            "Requirement already satisfied: jsonschema>=2.6 in c:\\users\\supriya\\anaconda3\\lib\\site-packages (from nbformat>=4.2.0->pycaret) (4.23.0)\n",
            "Requirement already satisfied: jupyter-core!=5.0.*,>=4.12 in c:\\users\\supriya\\anaconda3\\lib\\site-packages (from nbformat>=4.2.0->pycaret) (5.7.2)\n",
            "Requirement already satisfied: llvmlite<0.44,>=0.43.0dev0 in c:\\users\\supriya\\anaconda3\\lib\\site-packages (from numba>=0.55.0->pycaret) (0.43.0)\n",
            "Requirement already satisfied: pytz>=2020.1 in c:\\users\\supriya\\anaconda3\\lib\\site-packages (from pandas<2.2.0->pycaret) (2024.1)\n",
            "Requirement already satisfied: tzdata>=2022.1 in c:\\users\\supriya\\anaconda3\\lib\\site-packages (from pandas<2.2.0->pycaret) (2023.3)\n",
            "Requirement already satisfied: tenacity>=6.2.0 in c:\\users\\supriya\\anaconda3\\lib\\site-packages (from plotly>=5.14.0->pycaret) (8.2.3)\n",
            "Requirement already satisfied: dash>=2.9.0 in c:\\users\\supriya\\anaconda3\\lib\\site-packages (from plotly-resampler>=0.8.3.1->pycaret) (2.18.2)\n",
            "Requirement already satisfied: orjson<4.0.0,>=3.8.0 in c:\\users\\supriya\\anaconda3\\lib\\site-packages (from plotly-resampler>=0.8.3.1->pycaret) (3.10.15)\n",
            "Requirement already satisfied: tsdownsample>=0.1.3 in c:\\users\\supriya\\anaconda3\\lib\\site-packages (from plotly-resampler>=0.8.3.1->pycaret) (0.1.4.1)\n",
            "Requirement already satisfied: Cython!=0.29.18,!=0.29.31,>=0.29 in c:\\users\\supriya\\anaconda3\\lib\\site-packages (from pmdarima>=2.0.4->pycaret) (3.0.11)\n",
            "Requirement already satisfied: urllib3 in c:\\users\\supriya\\anaconda3\\lib\\site-packages (from pmdarima>=2.0.4->pycaret) (2.2.3)\n",
            "Requirement already satisfied: setuptools!=50.0.0,>=38.6.0 in c:\\users\\supriya\\anaconda3\\lib\\site-packages (from pmdarima>=2.0.4->pycaret) (75.1.0)\n",
            "Requirement already satisfied: charset-normalizer<4,>=2 in c:\\users\\supriya\\anaconda3\\lib\\site-packages (from requests>=2.27.1->pycaret) (3.3.2)\n",
            "Requirement already satisfied: idna<4,>=2.5 in c:\\users\\supriya\\anaconda3\\lib\\site-packages (from requests>=2.27.1->pycaret) (3.7)\n",
            "Requirement already satisfied: certifi>=2017.4.17 in c:\\users\\supriya\\anaconda3\\lib\\site-packages (from requests>=2.27.1->pycaret) (2025.1.31)\n",
            "Requirement already satisfied: Flask<3.1,>=1.0.4 in c:\\users\\supriya\\anaconda3\\lib\\site-packages (from dash>=2.9.0->plotly-resampler>=0.8.3.1->pycaret) (3.0.3)\n",
            "Requirement already satisfied: Werkzeug<3.1 in c:\\users\\supriya\\anaconda3\\lib\\site-packages (from dash>=2.9.0->plotly-resampler>=0.8.3.1->pycaret) (3.0.3)\n",
            "Requirement already satisfied: dash-html-components==2.0.0 in c:\\users\\supriya\\anaconda3\\lib\\site-packages (from dash>=2.9.0->plotly-resampler>=0.8.3.1->pycaret) (2.0.0)\n",
            "Requirement already satisfied: dash-core-components==2.0.0 in c:\\users\\supriya\\anaconda3\\lib\\site-packages (from dash>=2.9.0->plotly-resampler>=0.8.3.1->pycaret) (2.0.0)\n",
            "Requirement already satisfied: dash-table==5.0.0 in c:\\users\\supriya\\anaconda3\\lib\\site-packages (from dash>=2.9.0->plotly-resampler>=0.8.3.1->pycaret) (5.0.0)\n",
            "Requirement already satisfied: typing-extensions>=4.1.1 in c:\\users\\supriya\\anaconda3\\lib\\site-packages (from dash>=2.9.0->plotly-resampler>=0.8.3.1->pycaret) (4.11.0)\n",
            "Requirement already satisfied: retrying in c:\\users\\supriya\\anaconda3\\lib\\site-packages (from dash>=2.9.0->plotly-resampler>=0.8.3.1->pycaret) (1.3.4)\n",
            "Requirement already satisfied: nest-asyncio in c:\\users\\supriya\\anaconda3\\lib\\site-packages (from dash>=2.9.0->plotly-resampler>=0.8.3.1->pycaret) (1.6.0)\n",
            "Requirement already satisfied: parso<0.9.0,>=0.8.3 in c:\\users\\supriya\\anaconda3\\lib\\site-packages (from jedi>=0.16->ipython>=5.5.0->pycaret) (0.8.3)\n",
            "Requirement already satisfied: attrs>=22.2.0 in c:\\users\\supriya\\anaconda3\\lib\\site-packages (from jsonschema>=2.6->nbformat>=4.2.0->pycaret) (23.1.0)\n",
            "Requirement already satisfied: jsonschema-specifications>=2023.03.6 in c:\\users\\supriya\\anaconda3\\lib\\site-packages (from jsonschema>=2.6->nbformat>=4.2.0->pycaret) (2023.7.1)\n",
            "Requirement already satisfied: referencing>=0.28.4 in c:\\users\\supriya\\anaconda3\\lib\\site-packages (from jsonschema>=2.6->nbformat>=4.2.0->pycaret) (0.30.2)\n",
            "Requirement already satisfied: rpds-py>=0.7.1 in c:\\users\\supriya\\anaconda3\\lib\\site-packages (from jsonschema>=2.6->nbformat>=4.2.0->pycaret) (0.10.6)\n",
            "Requirement already satisfied: platformdirs>=2.5 in c:\\users\\supriya\\anaconda3\\lib\\site-packages (from jupyter-core!=5.0.*,>=4.12->nbformat>=4.2.0->pycaret) (3.10.0)\n",
            "Requirement already satisfied: pywin32>=300 in c:\\users\\supriya\\anaconda3\\lib\\site-packages (from jupyter-core!=5.0.*,>=4.12->nbformat>=4.2.0->pycaret) (305.1)\n",
            "Requirement already satisfied: six in c:\\users\\supriya\\anaconda3\\lib\\site-packages (from patsy>=0.5.1->category-encoders>=2.4.0->pycaret) (1.16.0)\n",
            "Requirement already satisfied: wcwidth in c:\\users\\supriya\\anaconda3\\lib\\site-packages (from prompt-toolkit<3.1.0,>=3.0.41->ipython>=5.5.0->pycaret) (0.2.5)\n",
            "Requirement already satisfied: notebook>=4.4.1 in c:\\users\\supriya\\anaconda3\\lib\\site-packages (from widgetsnbextension~=3.6.6->ipywidgets>=7.6.5->pycaret) (7.2.2)\n",
            "Requirement already satisfied: executing in c:\\users\\supriya\\anaconda3\\lib\\site-packages (from stack-data->ipython>=5.5.0->pycaret) (0.8.3)\n",
            "Requirement already satisfied: asttokens in c:\\users\\supriya\\anaconda3\\lib\\site-packages (from stack-data->ipython>=5.5.0->pycaret) (2.0.5)\n",
            "Requirement already satisfied: pure-eval in c:\\users\\supriya\\anaconda3\\lib\\site-packages (from stack-data->ipython>=5.5.0->pycaret) (0.2.2)\n",
            "Requirement already satisfied: itsdangerous>=2.1.2 in c:\\users\\supriya\\anaconda3\\lib\\site-packages (from Flask<3.1,>=1.0.4->dash>=2.9.0->plotly-resampler>=0.8.3.1->pycaret) (2.2.0)\n",
            "Requirement already satisfied: click>=8.1.3 in c:\\users\\supriya\\anaconda3\\lib\\site-packages (from Flask<3.1,>=1.0.4->dash>=2.9.0->plotly-resampler>=0.8.3.1->pycaret) (8.1.7)\n",
            "Requirement already satisfied: blinker>=1.6.2 in c:\\users\\supriya\\anaconda3\\lib\\site-packages (from Flask<3.1,>=1.0.4->dash>=2.9.0->plotly-resampler>=0.8.3.1->pycaret) (1.6.2)\n",
            "Requirement already satisfied: jupyter-server<3,>=2.4.0 in c:\\users\\supriya\\anaconda3\\lib\\site-packages (from notebook>=4.4.1->widgetsnbextension~=3.6.6->ipywidgets>=7.6.5->pycaret) (2.15.0)\n",
            "Requirement already satisfied: jupyterlab-server<3,>=2.27.1 in c:\\users\\supriya\\anaconda3\\lib\\site-packages (from notebook>=4.4.1->widgetsnbextension~=3.6.6->ipywidgets>=7.6.5->pycaret) (2.27.3)\n",
            "Requirement already satisfied: jupyterlab<4.3,>=4.2.0 in c:\\users\\supriya\\anaconda3\\lib\\site-packages (from notebook>=4.4.1->widgetsnbextension~=3.6.6->ipywidgets>=7.6.5->pycaret) (4.2.5)\n",
            "Requirement already satisfied: notebook-shim<0.3,>=0.2 in c:\\users\\supriya\\anaconda3\\lib\\site-packages (from notebook>=4.4.1->widgetsnbextension~=3.6.6->ipywidgets>=7.6.5->pycaret) (0.2.4)\n",
            "Requirement already satisfied: tornado>=6.2.0 in c:\\users\\supriya\\anaconda3\\lib\\site-packages (from notebook>=4.4.1->widgetsnbextension~=3.6.6->ipywidgets>=7.6.5->pycaret) (6.4.1)\n",
            "Requirement already satisfied: anyio>=3.1.0 in c:\\users\\supriya\\anaconda3\\lib\\site-packages (from jupyter-server<3,>=2.4.0->notebook>=4.4.1->widgetsnbextension~=3.6.6->ipywidgets>=7.6.5->pycaret) (4.2.0)\n",
            "Requirement already satisfied: argon2-cffi>=21.1 in c:\\users\\supriya\\anaconda3\\lib\\site-packages (from jupyter-server<3,>=2.4.0->notebook>=4.4.1->widgetsnbextension~=3.6.6->ipywidgets>=7.6.5->pycaret) (21.3.0)\n",
            "Requirement already satisfied: jupyter-client>=7.4.4 in c:\\users\\supriya\\anaconda3\\lib\\site-packages (from jupyter-server<3,>=2.4.0->notebook>=4.4.1->widgetsnbextension~=3.6.6->ipywidgets>=7.6.5->pycaret) (8.6.0)\n",
            "Requirement already satisfied: jupyter-events>=0.11.0 in c:\\users\\supriya\\anaconda3\\lib\\site-packages (from jupyter-server<3,>=2.4.0->notebook>=4.4.1->widgetsnbextension~=3.6.6->ipywidgets>=7.6.5->pycaret) (0.12.0)\n",
            "Requirement already satisfied: jupyter-server-terminals>=0.4.4 in c:\\users\\supriya\\anaconda3\\lib\\site-packages (from jupyter-server<3,>=2.4.0->notebook>=4.4.1->widgetsnbextension~=3.6.6->ipywidgets>=7.6.5->pycaret) (0.4.4)\n",
            "Requirement already satisfied: nbconvert>=6.4.4 in c:\\users\\supriya\\anaconda3\\lib\\site-packages (from jupyter-server<3,>=2.4.0->notebook>=4.4.1->widgetsnbextension~=3.6.6->ipywidgets>=7.6.5->pycaret) (7.16.4)\n",
            "Requirement already satisfied: overrides>=5.0 in c:\\users\\supriya\\anaconda3\\lib\\site-packages (from jupyter-server<3,>=2.4.0->notebook>=4.4.1->widgetsnbextension~=3.6.6->ipywidgets>=7.6.5->pycaret) (7.4.0)\n",
            "Requirement already satisfied: prometheus-client>=0.9 in c:\\users\\supriya\\anaconda3\\lib\\site-packages (from jupyter-server<3,>=2.4.0->notebook>=4.4.1->widgetsnbextension~=3.6.6->ipywidgets>=7.6.5->pycaret) (0.14.1)\n",
            "Requirement already satisfied: pywinpty>=2.0.1 in c:\\users\\supriya\\anaconda3\\lib\\site-packages (from jupyter-server<3,>=2.4.0->notebook>=4.4.1->widgetsnbextension~=3.6.6->ipywidgets>=7.6.5->pycaret) (2.0.10)\n",
            "Requirement already satisfied: pyzmq>=24 in c:\\users\\supriya\\anaconda3\\lib\\site-packages (from jupyter-server<3,>=2.4.0->notebook>=4.4.1->widgetsnbextension~=3.6.6->ipywidgets>=7.6.5->pycaret) (25.1.2)\n",
            "Requirement already satisfied: send2trash>=1.8.2 in c:\\users\\supriya\\anaconda3\\lib\\site-packages (from jupyter-server<3,>=2.4.0->notebook>=4.4.1->widgetsnbextension~=3.6.6->ipywidgets>=7.6.5->pycaret) (1.8.2)\n",
            "Requirement already satisfied: terminado>=0.8.3 in c:\\users\\supriya\\anaconda3\\lib\\site-packages (from jupyter-server<3,>=2.4.0->notebook>=4.4.1->widgetsnbextension~=3.6.6->ipywidgets>=7.6.5->pycaret) (0.17.1)\n",
            "Requirement already satisfied: websocket-client>=1.7 in c:\\users\\supriya\\anaconda3\\lib\\site-packages (from jupyter-server<3,>=2.4.0->notebook>=4.4.1->widgetsnbextension~=3.6.6->ipywidgets>=7.6.5->pycaret) (1.8.0)\n",
            "Requirement already satisfied: async-lru>=1.0.0 in c:\\users\\supriya\\anaconda3\\lib\\site-packages (from jupyterlab<4.3,>=4.2.0->notebook>=4.4.1->widgetsnbextension~=3.6.6->ipywidgets>=7.6.5->pycaret) (2.0.4)\n",
            "Requirement already satisfied: httpx>=0.25.0 in c:\\users\\supriya\\anaconda3\\lib\\site-packages (from jupyterlab<4.3,>=4.2.0->notebook>=4.4.1->widgetsnbextension~=3.6.6->ipywidgets>=7.6.5->pycaret) (0.27.0)\n",
            "Requirement already satisfied: ipykernel>=6.5.0 in c:\\users\\supriya\\anaconda3\\lib\\site-packages (from jupyterlab<4.3,>=4.2.0->notebook>=4.4.1->widgetsnbextension~=3.6.6->ipywidgets>=7.6.5->pycaret) (6.28.0)\n",
            "Requirement already satisfied: jupyter-lsp>=2.0.0 in c:\\users\\supriya\\anaconda3\\lib\\site-packages (from jupyterlab<4.3,>=4.2.0->notebook>=4.4.1->widgetsnbextension~=3.6.6->ipywidgets>=7.6.5->pycaret) (2.2.5)\n",
            "Requirement already satisfied: babel>=2.10 in c:\\users\\supriya\\anaconda3\\lib\\site-packages (from jupyterlab-server<3,>=2.27.1->notebook>=4.4.1->widgetsnbextension~=3.6.6->ipywidgets>=7.6.5->pycaret) (2.11.0)\n",
            "Requirement already satisfied: json5>=0.9.0 in c:\\users\\supriya\\anaconda3\\lib\\site-packages (from jupyterlab-server<3,>=2.27.1->notebook>=4.4.1->widgetsnbextension~=3.6.6->ipywidgets>=7.6.5->pycaret) (0.9.6)\n",
            "Requirement already satisfied: sniffio>=1.1 in c:\\users\\supriya\\anaconda3\\lib\\site-packages (from anyio>=3.1.0->jupyter-server<3,>=2.4.0->notebook>=4.4.1->widgetsnbextension~=3.6.6->ipywidgets>=7.6.5->pycaret) (1.3.0)\n",
            "Requirement already satisfied: argon2-cffi-bindings in c:\\users\\supriya\\anaconda3\\lib\\site-packages (from argon2-cffi>=21.1->jupyter-server<3,>=2.4.0->notebook>=4.4.1->widgetsnbextension~=3.6.6->ipywidgets>=7.6.5->pycaret) (21.2.0)\n",
            "Requirement already satisfied: httpcore==1.* in c:\\users\\supriya\\anaconda3\\lib\\site-packages (from httpx>=0.25.0->jupyterlab<4.3,>=4.2.0->notebook>=4.4.1->widgetsnbextension~=3.6.6->ipywidgets>=7.6.5->pycaret) (1.0.2)\n",
            "Requirement already satisfied: h11<0.15,>=0.13 in c:\\users\\supriya\\anaconda3\\lib\\site-packages (from httpcore==1.*->httpx>=0.25.0->jupyterlab<4.3,>=4.2.0->notebook>=4.4.1->widgetsnbextension~=3.6.6->ipywidgets>=7.6.5->pycaret) (0.14.0)\n",
            "Requirement already satisfied: debugpy>=1.6.5 in c:\\users\\supriya\\anaconda3\\lib\\site-packages (from ipykernel>=6.5.0->jupyterlab<4.3,>=4.2.0->notebook>=4.4.1->widgetsnbextension~=3.6.6->ipywidgets>=7.6.5->pycaret) (1.6.7)\n",
            "Requirement already satisfied: python-json-logger>=2.0.4 in c:\\users\\supriya\\anaconda3\\lib\\site-packages (from jupyter-events>=0.11.0->jupyter-server<3,>=2.4.0->notebook>=4.4.1->widgetsnbextension~=3.6.6->ipywidgets>=7.6.5->pycaret) (2.0.7)\n",
            "Requirement already satisfied: pyyaml>=5.3 in c:\\users\\supriya\\anaconda3\\lib\\site-packages (from jupyter-events>=0.11.0->jupyter-server<3,>=2.4.0->notebook>=4.4.1->widgetsnbextension~=3.6.6->ipywidgets>=7.6.5->pycaret) (6.0.1)\n",
            "Requirement already satisfied: rfc3339-validator in c:\\users\\supriya\\anaconda3\\lib\\site-packages (from jupyter-events>=0.11.0->jupyter-server<3,>=2.4.0->notebook>=4.4.1->widgetsnbextension~=3.6.6->ipywidgets>=7.6.5->pycaret) (0.1.4)\n",
            "Requirement already satisfied: rfc3986-validator>=0.1.1 in c:\\users\\supriya\\anaconda3\\lib\\site-packages (from jupyter-events>=0.11.0->jupyter-server<3,>=2.4.0->notebook>=4.4.1->widgetsnbextension~=3.6.6->ipywidgets>=7.6.5->pycaret) (0.1.1)\n",
            "Requirement already satisfied: beautifulsoup4 in c:\\users\\supriya\\anaconda3\\lib\\site-packages (from nbconvert>=6.4.4->jupyter-server<3,>=2.4.0->notebook>=4.4.1->widgetsnbextension~=3.6.6->ipywidgets>=7.6.5->pycaret) (4.12.3)\n",
            "Requirement already satisfied: bleach!=5.0.0 in c:\\users\\supriya\\anaconda3\\lib\\site-packages (from nbconvert>=6.4.4->jupyter-server<3,>=2.4.0->notebook>=4.4.1->widgetsnbextension~=3.6.6->ipywidgets>=7.6.5->pycaret) (4.1.0)\n",
            "Requirement already satisfied: defusedxml in c:\\users\\supriya\\anaconda3\\lib\\site-packages (from nbconvert>=6.4.4->jupyter-server<3,>=2.4.0->notebook>=4.4.1->widgetsnbextension~=3.6.6->ipywidgets>=7.6.5->pycaret) (0.7.1)\n",
            "Requirement already satisfied: jupyterlab-pygments in c:\\users\\supriya\\anaconda3\\lib\\site-packages (from nbconvert>=6.4.4->jupyter-server<3,>=2.4.0->notebook>=4.4.1->widgetsnbextension~=3.6.6->ipywidgets>=7.6.5->pycaret) (0.1.2)\n",
            "Requirement already satisfied: mistune<4,>=2.0.3 in c:\\users\\supriya\\anaconda3\\lib\\site-packages (from nbconvert>=6.4.4->jupyter-server<3,>=2.4.0->notebook>=4.4.1->widgetsnbextension~=3.6.6->ipywidgets>=7.6.5->pycaret) (2.0.4)\n",
            "Requirement already satisfied: nbclient>=0.5.0 in c:\\users\\supriya\\anaconda3\\lib\\site-packages (from nbconvert>=6.4.4->jupyter-server<3,>=2.4.0->notebook>=4.4.1->widgetsnbextension~=3.6.6->ipywidgets>=7.6.5->pycaret) (0.8.0)\n",
            "Requirement already satisfied: pandocfilters>=1.4.1 in c:\\users\\supriya\\anaconda3\\lib\\site-packages (from nbconvert>=6.4.4->jupyter-server<3,>=2.4.0->notebook>=4.4.1->widgetsnbextension~=3.6.6->ipywidgets>=7.6.5->pycaret) (1.5.0)\n",
            "Requirement already satisfied: tinycss2 in c:\\users\\supriya\\anaconda3\\lib\\site-packages (from nbconvert>=6.4.4->jupyter-server<3,>=2.4.0->notebook>=4.4.1->widgetsnbextension~=3.6.6->ipywidgets>=7.6.5->pycaret) (1.2.1)\n",
            "Requirement already satisfied: webencodings in c:\\users\\supriya\\anaconda3\\lib\\site-packages (from bleach!=5.0.0->nbconvert>=6.4.4->jupyter-server<3,>=2.4.0->notebook>=4.4.1->widgetsnbextension~=3.6.6->ipywidgets>=7.6.5->pycaret) (0.5.1)\n",
            "Requirement already satisfied: fqdn in c:\\users\\supriya\\anaconda3\\lib\\site-packages (from jsonschema[format-nongpl]>=4.18.0->jupyter-events>=0.11.0->jupyter-server<3,>=2.4.0->notebook>=4.4.1->widgetsnbextension~=3.6.6->ipywidgets>=7.6.5->pycaret) (1.5.1)\n",
            "Requirement already satisfied: isoduration in c:\\users\\supriya\\anaconda3\\lib\\site-packages (from jsonschema[format-nongpl]>=4.18.0->jupyter-events>=0.11.0->jupyter-server<3,>=2.4.0->notebook>=4.4.1->widgetsnbextension~=3.6.6->ipywidgets>=7.6.5->pycaret) (20.11.0)\n",
            "Requirement already satisfied: jsonpointer>1.13 in c:\\users\\supriya\\anaconda3\\lib\\site-packages (from jsonschema[format-nongpl]>=4.18.0->jupyter-events>=0.11.0->jupyter-server<3,>=2.4.0->notebook>=4.4.1->widgetsnbextension~=3.6.6->ipywidgets>=7.6.5->pycaret) (2.1)\n",
            "Requirement already satisfied: uri-template in c:\\users\\supriya\\anaconda3\\lib\\site-packages (from jsonschema[format-nongpl]>=4.18.0->jupyter-events>=0.11.0->jupyter-server<3,>=2.4.0->notebook>=4.4.1->widgetsnbextension~=3.6.6->ipywidgets>=7.6.5->pycaret) (1.3.0)\n",
            "Requirement already satisfied: webcolors>=24.6.0 in c:\\users\\supriya\\anaconda3\\lib\\site-packages (from jsonschema[format-nongpl]>=4.18.0->jupyter-events>=0.11.0->jupyter-server<3,>=2.4.0->notebook>=4.4.1->widgetsnbextension~=3.6.6->ipywidgets>=7.6.5->pycaret) (24.11.1)\n",
            "Requirement already satisfied: cffi>=1.0.1 in c:\\users\\supriya\\anaconda3\\lib\\site-packages (from argon2-cffi-bindings->argon2-cffi>=21.1->jupyter-server<3,>=2.4.0->notebook>=4.4.1->widgetsnbextension~=3.6.6->ipywidgets>=7.6.5->pycaret) (1.17.1)\n",
            "Requirement already satisfied: soupsieve>1.2 in c:\\users\\supriya\\anaconda3\\lib\\site-packages (from beautifulsoup4->nbconvert>=6.4.4->jupyter-server<3,>=2.4.0->notebook>=4.4.1->widgetsnbextension~=3.6.6->ipywidgets>=7.6.5->pycaret) (2.5)\n",
            "Requirement already satisfied: pycparser in c:\\users\\supriya\\anaconda3\\lib\\site-packages (from cffi>=1.0.1->argon2-cffi-bindings->argon2-cffi>=21.1->jupyter-server<3,>=2.4.0->notebook>=4.4.1->widgetsnbextension~=3.6.6->ipywidgets>=7.6.5->pycaret) (2.21)\n",
            "Requirement already satisfied: arrow>=0.15.0 in c:\\users\\supriya\\anaconda3\\lib\\site-packages (from isoduration->jsonschema[format-nongpl]>=4.18.0->jupyter-events>=0.11.0->jupyter-server<3,>=2.4.0->notebook>=4.4.1->widgetsnbextension~=3.6.6->ipywidgets>=7.6.5->pycaret) (1.2.3)\n",
            "Requirement already satisfied: mlflow in c:\\users\\supriya\\anaconda3\\lib\\site-packages (2.20.1)\n",
            "Requirement already satisfied: mlflow-skinny==2.20.1 in c:\\users\\supriya\\anaconda3\\lib\\site-packages (from mlflow) (2.20.1)\n",
            "Requirement already satisfied: Flask<4 in c:\\users\\supriya\\anaconda3\\lib\\site-packages (from mlflow) (3.0.3)\n",
            "Requirement already satisfied: Jinja2<4,>=3.0 in c:\\users\\supriya\\anaconda3\\lib\\site-packages (from mlflow) (3.1.4)\n",
            "Requirement already satisfied: alembic!=1.10.0,<2 in c:\\users\\supriya\\anaconda3\\lib\\site-packages (from mlflow) (1.13.3)\n",
            "Requirement already satisfied: docker<8,>=4.0.0 in c:\\users\\supriya\\anaconda3\\lib\\site-packages (from mlflow) (7.1.0)\n",
            "Requirement already satisfied: graphene<4 in c:\\users\\supriya\\anaconda3\\lib\\site-packages (from mlflow) (3.4.3)\n",
            "Requirement already satisfied: markdown<4,>=3.3 in c:\\users\\supriya\\anaconda3\\lib\\site-packages (from mlflow) (3.4.1)\n",
            "Requirement already satisfied: matplotlib<4 in c:\\users\\supriya\\anaconda3\\lib\\site-packages (from mlflow) (3.7.5)\n",
            "Requirement already satisfied: numpy<3 in c:\\users\\supriya\\anaconda3\\lib\\site-packages (from mlflow) (1.26.4)\n",
            "Requirement already satisfied: pandas<3 in c:\\users\\supriya\\anaconda3\\lib\\site-packages (from mlflow) (2.1.4)\n",
            "Requirement already satisfied: pyarrow<19,>=4.0.0 in c:\\users\\supriya\\anaconda3\\lib\\site-packages (from mlflow) (16.1.0)\n",
            "Requirement already satisfied: scikit-learn<2 in c:\\users\\supriya\\anaconda3\\lib\\site-packages (from mlflow) (1.4.2)\n",
            "Requirement already satisfied: scipy<2 in c:\\users\\supriya\\anaconda3\\lib\\site-packages (from mlflow) (1.11.4)\n",
            "Requirement already satisfied: sqlalchemy<3,>=1.4.0 in c:\\users\\supriya\\anaconda3\\lib\\site-packages (from mlflow) (2.0.34)\n",
            "Requirement already satisfied: waitress<4 in c:\\users\\supriya\\anaconda3\\lib\\site-packages (from mlflow) (3.0.2)\n",
            "Requirement already satisfied: cachetools<6,>=5.0.0 in c:\\users\\supriya\\anaconda3\\lib\\site-packages (from mlflow-skinny==2.20.1->mlflow) (5.3.3)\n",
            "Requirement already satisfied: click<9,>=7.0 in c:\\users\\supriya\\anaconda3\\lib\\site-packages (from mlflow-skinny==2.20.1->mlflow) (8.1.7)\n",
            "Requirement already satisfied: cloudpickle<4 in c:\\users\\supriya\\anaconda3\\lib\\site-packages (from mlflow-skinny==2.20.1->mlflow) (3.0.0)\n",
            "Requirement already satisfied: databricks-sdk<1,>=0.20.0 in c:\\users\\supriya\\anaconda3\\lib\\site-packages (from mlflow-skinny==2.20.1->mlflow) (0.43.0)\n",
            "Requirement already satisfied: gitpython<4,>=3.1.9 in c:\\users\\supriya\\anaconda3\\lib\\site-packages (from mlflow-skinny==2.20.1->mlflow) (3.1.43)\n",
            "Requirement already satisfied: importlib_metadata!=4.7.0,<9,>=3.7.0 in c:\\users\\supriya\\anaconda3\\lib\\site-packages (from mlflow-skinny==2.20.1->mlflow) (8.5.0)\n",
            "Requirement already satisfied: opentelemetry-api<3,>=1.9.0 in c:\\users\\supriya\\anaconda3\\lib\\site-packages (from mlflow-skinny==2.20.1->mlflow) (1.30.0)\n",
            "Requirement already satisfied: opentelemetry-sdk<3,>=1.9.0 in c:\\users\\supriya\\anaconda3\\lib\\site-packages (from mlflow-skinny==2.20.1->mlflow) (1.30.0)\n",
            "Requirement already satisfied: packaging<25 in c:\\users\\supriya\\anaconda3\\lib\\site-packages (from mlflow-skinny==2.20.1->mlflow) (24.1)\n",
            "Requirement already satisfied: protobuf<6,>=3.12.0 in c:\\users\\supriya\\anaconda3\\lib\\site-packages (from mlflow-skinny==2.20.1->mlflow) (4.25.3)\n",
            "Requirement already satisfied: pydantic<3,>=1.0 in c:\\users\\supriya\\anaconda3\\lib\\site-packages (from mlflow-skinny==2.20.1->mlflow) (2.8.2)\n",
            "Requirement already satisfied: pyyaml<7,>=5.1 in c:\\users\\supriya\\anaconda3\\lib\\site-packages (from mlflow-skinny==2.20.1->mlflow) (6.0.1)\n",
            "Requirement already satisfied: requests<3,>=2.17.3 in c:\\users\\supriya\\anaconda3\\lib\\site-packages (from mlflow-skinny==2.20.1->mlflow) (2.32.3)\n",
            "Requirement already satisfied: sqlparse<1,>=0.4.0 in c:\\users\\supriya\\anaconda3\\lib\\site-packages (from mlflow-skinny==2.20.1->mlflow) (0.5.3)\n",
            "Requirement already satisfied: typing-extensions<5,>=4.0.0 in c:\\users\\supriya\\anaconda3\\lib\\site-packages (from mlflow-skinny==2.20.1->mlflow) (4.11.0)\n",
            "Requirement already satisfied: Mako in c:\\users\\supriya\\anaconda3\\lib\\site-packages (from alembic!=1.10.0,<2->mlflow) (1.2.3)\n",
            "Requirement already satisfied: pywin32>=304 in c:\\users\\supriya\\anaconda3\\lib\\site-packages (from docker<8,>=4.0.0->mlflow) (305.1)\n",
            "Requirement already satisfied: urllib3>=1.26.0 in c:\\users\\supriya\\anaconda3\\lib\\site-packages (from docker<8,>=4.0.0->mlflow) (2.2.3)\n",
            "Requirement already satisfied: Werkzeug>=3.0.0 in c:\\users\\supriya\\anaconda3\\lib\\site-packages (from Flask<4->mlflow) (3.0.3)\n",
            "Requirement already satisfied: itsdangerous>=2.1.2 in c:\\users\\supriya\\anaconda3\\lib\\site-packages (from Flask<4->mlflow) (2.2.0)\n",
            "Requirement already satisfied: blinker>=1.6.2 in c:\\users\\supriya\\anaconda3\\lib\\site-packages (from Flask<4->mlflow) (1.6.2)\n",
            "Requirement already satisfied: graphql-core<3.3,>=3.1 in c:\\users\\supriya\\anaconda3\\lib\\site-packages (from graphene<4->mlflow) (3.2.6)\n",
            "Requirement already satisfied: graphql-relay<3.3,>=3.1 in c:\\users\\supriya\\anaconda3\\lib\\site-packages (from graphene<4->mlflow) (3.2.0)\n",
            "Requirement already satisfied: python-dateutil<3,>=2.7.0 in c:\\users\\supriya\\anaconda3\\lib\\site-packages (from graphene<4->mlflow) (2.9.0.post0)\n",
            "Requirement already satisfied: MarkupSafe>=2.0 in c:\\users\\supriya\\anaconda3\\lib\\site-packages (from Jinja2<4,>=3.0->mlflow) (2.1.3)\n",
            "Requirement already satisfied: contourpy>=1.0.1 in c:\\users\\supriya\\anaconda3\\lib\\site-packages (from matplotlib<4->mlflow) (1.2.0)\n",
            "Requirement already satisfied: cycler>=0.10 in c:\\users\\supriya\\anaconda3\\lib\\site-packages (from matplotlib<4->mlflow) (0.11.0)\n",
            "Requirement already satisfied: fonttools>=4.22.0 in c:\\users\\supriya\\anaconda3\\lib\\site-packages (from matplotlib<4->mlflow) (4.51.0)\n",
            "Requirement already satisfied: kiwisolver>=1.0.1 in c:\\users\\supriya\\anaconda3\\lib\\site-packages (from matplotlib<4->mlflow) (1.4.4)\n",
            "Requirement already satisfied: pillow>=6.2.0 in c:\\users\\supriya\\anaconda3\\lib\\site-packages (from matplotlib<4->mlflow) (10.4.0)\n",
            "Requirement already satisfied: pyparsing>=2.3.1 in c:\\users\\supriya\\anaconda3\\lib\\site-packages (from matplotlib<4->mlflow) (3.1.2)\n",
            "Requirement already satisfied: pytz>=2020.1 in c:\\users\\supriya\\anaconda3\\lib\\site-packages (from pandas<3->mlflow) (2024.1)\n",
            "Requirement already satisfied: tzdata>=2022.1 in c:\\users\\supriya\\anaconda3\\lib\\site-packages (from pandas<3->mlflow) (2023.3)\n",
            "Requirement already satisfied: joblib>=1.2.0 in c:\\users\\supriya\\anaconda3\\lib\\site-packages (from scikit-learn<2->mlflow) (1.3.2)\n",
            "Requirement already satisfied: threadpoolctl>=2.0.0 in c:\\users\\supriya\\anaconda3\\lib\\site-packages (from scikit-learn<2->mlflow) (3.5.0)\n",
            "Requirement already satisfied: greenlet!=0.4.17 in c:\\users\\supriya\\anaconda3\\lib\\site-packages (from sqlalchemy<3,>=1.4.0->mlflow) (3.0.1)\n",
            "Requirement already satisfied: colorama in c:\\users\\supriya\\anaconda3\\lib\\site-packages (from click<9,>=7.0->mlflow-skinny==2.20.1->mlflow) (0.4.6)\n",
            "Requirement already satisfied: google-auth~=2.0 in c:\\users\\supriya\\anaconda3\\lib\\site-packages (from databricks-sdk<1,>=0.20.0->mlflow-skinny==2.20.1->mlflow) (2.38.0)\n",
            "Requirement already satisfied: gitdb<5,>=4.0.1 in c:\\users\\supriya\\anaconda3\\lib\\site-packages (from gitpython<4,>=3.1.9->mlflow-skinny==2.20.1->mlflow) (4.0.7)\n",
            "Requirement already satisfied: zipp>=3.20 in c:\\users\\supriya\\anaconda3\\lib\\site-packages (from importlib_metadata!=4.7.0,<9,>=3.7.0->mlflow-skinny==2.20.1->mlflow) (3.21.0)\n",
            "Requirement already satisfied: deprecated>=1.2.6 in c:\\users\\supriya\\anaconda3\\lib\\site-packages (from opentelemetry-api<3,>=1.9.0->mlflow-skinny==2.20.1->mlflow) (1.2.18)\n",
            "Requirement already satisfied: opentelemetry-semantic-conventions==0.51b0 in c:\\users\\supriya\\anaconda3\\lib\\site-packages (from opentelemetry-sdk<3,>=1.9.0->mlflow-skinny==2.20.1->mlflow) (0.51b0)\n",
            "Requirement already satisfied: annotated-types>=0.4.0 in c:\\users\\supriya\\anaconda3\\lib\\site-packages (from pydantic<3,>=1.0->mlflow-skinny==2.20.1->mlflow) (0.6.0)\n",
            "Requirement already satisfied: pydantic-core==2.20.1 in c:\\users\\supriya\\anaconda3\\lib\\site-packages (from pydantic<3,>=1.0->mlflow-skinny==2.20.1->mlflow) (2.20.1)\n",
            "Requirement already satisfied: six>=1.5 in c:\\users\\supriya\\anaconda3\\lib\\site-packages (from python-dateutil<3,>=2.7.0->graphene<4->mlflow) (1.16.0)\n",
            "Requirement already satisfied: charset-normalizer<4,>=2 in c:\\users\\supriya\\anaconda3\\lib\\site-packages (from requests<3,>=2.17.3->mlflow-skinny==2.20.1->mlflow) (3.3.2)\n",
            "Requirement already satisfied: idna<4,>=2.5 in c:\\users\\supriya\\anaconda3\\lib\\site-packages (from requests<3,>=2.17.3->mlflow-skinny==2.20.1->mlflow) (3.7)\n",
            "Requirement already satisfied: certifi>=2017.4.17 in c:\\users\\supriya\\anaconda3\\lib\\site-packages (from requests<3,>=2.17.3->mlflow-skinny==2.20.1->mlflow) (2025.1.31)\n",
            "Requirement already satisfied: wrapt<2,>=1.10 in c:\\users\\supriya\\anaconda3\\lib\\site-packages (from deprecated>=1.2.6->opentelemetry-api<3,>=1.9.0->mlflow-skinny==2.20.1->mlflow) (1.14.1)\n",
            "Requirement already satisfied: smmap<5,>=3.0.1 in c:\\users\\supriya\\anaconda3\\lib\\site-packages (from gitdb<5,>=4.0.1->gitpython<4,>=3.1.9->mlflow-skinny==2.20.1->mlflow) (4.0.0)\n",
            "Requirement already satisfied: pyasn1-modules>=0.2.1 in c:\\users\\supriya\\anaconda3\\lib\\site-packages (from google-auth~=2.0->databricks-sdk<1,>=0.20.0->mlflow-skinny==2.20.1->mlflow) (0.2.8)\n",
            "Requirement already satisfied: rsa<5,>=3.1.4 in c:\\users\\supriya\\anaconda3\\lib\\site-packages (from google-auth~=2.0->databricks-sdk<1,>=0.20.0->mlflow-skinny==2.20.1->mlflow) (4.9)\n",
            "Requirement already satisfied: pyasn1<0.5.0,>=0.4.6 in c:\\users\\supriya\\anaconda3\\lib\\site-packages (from pyasn1-modules>=0.2.1->google-auth~=2.0->databricks-sdk<1,>=0.20.0->mlflow-skinny==2.20.1->mlflow) (0.4.8)\n",
            "Requirement already satisfied: importlib-metadata==8.5.0 in c:\\users\\supriya\\anaconda3\\lib\\site-packages (8.5.0)\n",
            "Requirement already satisfied: zipp>=3.20 in c:\\users\\supriya\\anaconda3\\lib\\site-packages (from importlib-metadata==8.5.0) (3.21.0)\n"
          ]
        }
      ],
      "source": [
        "!pip install pycaret --upgrade\n",
        "!pip install mlflow --upgrade\n",
        "!pip install importlib-metadata==8.5.0\n"
      ]
    },
    {
      "cell_type": "markdown",
      "source": [
        "**Restart the kernal after above step** ⏫\n",
        "![image.png](data:image/png;base64,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)"
      ],
      "metadata": {
        "id": "hgw_ypbaxOCi"
      },
      "id": "hgw_ypbaxOCi"
    },
    {
      "cell_type": "markdown",
      "source": [
        "### Import PyCaret for Regression\n",
        "\n",
        "Now, we will **import PyCaret's regression module**, which provides all the necessary functions for:\n",
        "\n",
        "Data preprocessing  \n",
        "Model training  \n",
        "Model evaluation  \n",
        "Hyperparameter tuning  \n",
        "Model saving and deployment  \n",
        "\n",
        "🔽 **Run the following code to import PyCaret:**"
      ],
      "metadata": {
        "id": "zIWiZqiksPyi"
      },
      "id": "zIWiZqiksPyi"
    },
    {
      "cell_type": "code",
      "execution_count": null,
      "id": "8ugkeVvNRjUx",
      "metadata": {
        "id": "8ugkeVvNRjUx"
      },
      "outputs": [],
      "source": [
        "from pycaret.regression import *"
      ]
    },
    {
      "cell_type": "markdown",
      "source": [
        "#### Load the Dataset from PyCaret\n",
        "\n",
        "We will use **PyCaret's built-in dataset** called `\"diamond\"`.  \n",
        "This dataset contains information about **diamond characteristics** and their **prices**.\n",
        "\n",
        "**Why Use PyCaret’s Built-in Dataset?**\n",
        "- PyCaret provides several datasets for **quick experiments**.\n",
        "- No need to manually download or preprocess external datasets.\n",
        "- It allows us to **focus on model building**.\n",
        "\n",
        "🔽 **Run the following code to load the dataset:**"
      ],
      "metadata": {
        "id": "8dr4tk-GsyxL"
      },
      "id": "8dr4tk-GsyxL"
    },
    {
      "cell_type": "code",
      "execution_count": null,
      "id": "d299f435",
      "metadata": {
        "colab": {
          "base_uri": "https://localhost:8080/",
          "height": 206
        },
        "id": "d299f435",
        "outputId": "c812aa01-aa57-4bfd-f672-2a98cfd8e39a"
      },
      "outputs": [
        {
          "data": {
            "text/html": [
              "<div>\n",
              "<style scoped>\n",
              "    .dataframe tbody tr th:only-of-type {\n",
              "        vertical-align: middle;\n",
              "    }\n",
              "\n",
              "    .dataframe tbody tr th {\n",
              "        vertical-align: top;\n",
              "    }\n",
              "\n",
              "    .dataframe thead th {\n",
              "        text-align: right;\n",
              "    }\n",
              "</style>\n",
              "<table border=\"1\" class=\"dataframe\">\n",
              "  <thead>\n",
              "    <tr style=\"text-align: right;\">\n",
              "      <th></th>\n",
              "      <th>Carat Weight</th>\n",
              "      <th>Cut</th>\n",
              "      <th>Color</th>\n",
              "      <th>Clarity</th>\n",
              "      <th>Polish</th>\n",
              "      <th>Symmetry</th>\n",
              "      <th>Report</th>\n",
              "      <th>Price</th>\n",
              "    </tr>\n",
              "  </thead>\n",
              "  <tbody>\n",
              "    <tr>\n",
              "      <th>0</th>\n",
              "      <td>1.10</td>\n",
              "      <td>Ideal</td>\n",
              "      <td>H</td>\n",
              "      <td>SI1</td>\n",
              "      <td>VG</td>\n",
              "      <td>EX</td>\n",
              "      <td>GIA</td>\n",
              "      <td>5169</td>\n",
              "    </tr>\n",
              "    <tr>\n",
              "      <th>1</th>\n",
              "      <td>0.83</td>\n",
              "      <td>Ideal</td>\n",
              "      <td>H</td>\n",
              "      <td>VS1</td>\n",
              "      <td>ID</td>\n",
              "      <td>ID</td>\n",
              "      <td>AGSL</td>\n",
              "      <td>3470</td>\n",
              "    </tr>\n",
              "    <tr>\n",
              "      <th>2</th>\n",
              "      <td>0.85</td>\n",
              "      <td>Ideal</td>\n",
              "      <td>H</td>\n",
              "      <td>SI1</td>\n",
              "      <td>EX</td>\n",
              "      <td>EX</td>\n",
              "      <td>GIA</td>\n",
              "      <td>3183</td>\n",
              "    </tr>\n",
              "    <tr>\n",
              "      <th>3</th>\n",
              "      <td>0.91</td>\n",
              "      <td>Ideal</td>\n",
              "      <td>E</td>\n",
              "      <td>SI1</td>\n",
              "      <td>VG</td>\n",
              "      <td>VG</td>\n",
              "      <td>GIA</td>\n",
              "      <td>4370</td>\n",
              "    </tr>\n",
              "    <tr>\n",
              "      <th>4</th>\n",
              "      <td>0.83</td>\n",
              "      <td>Ideal</td>\n",
              "      <td>G</td>\n",
              "      <td>SI1</td>\n",
              "      <td>EX</td>\n",
              "      <td>EX</td>\n",
              "      <td>GIA</td>\n",
              "      <td>3171</td>\n",
              "    </tr>\n",
              "  </tbody>\n",
              "</table>\n",
              "</div>"
            ],
            "text/plain": [
              "   Carat Weight    Cut Color Clarity Polish Symmetry Report  Price\n",
              "0          1.10  Ideal     H     SI1     VG       EX    GIA   5169\n",
              "1          0.83  Ideal     H     VS1     ID       ID   AGSL   3470\n",
              "2          0.85  Ideal     H     SI1     EX       EX    GIA   3183\n",
              "3          0.91  Ideal     E     SI1     VG       VG    GIA   4370\n",
              "4          0.83  Ideal     G     SI1     EX       EX    GIA   3171"
            ]
          },
          "metadata": {},
          "output_type": "display_data"
        }
      ],
      "source": [
        "# load the dataset from pycaret\n",
        "from pycaret.datasets import get_data\n",
        "dataset = get_data('diamond')"
      ]
    },
    {
      "cell_type": "markdown",
      "source": [
        "####Splitting the Dataset for Training and Testing\n",
        "\n",
        "After loading the dataset, we need to **split it into two parts**:\n",
        "\n",
        "1 **Training Data (90%)** → Used to train and optimize the model.  \n",
        "2 **Unseen Data (10%)** → Used to test how well the model predicts new values.\n",
        "\n",
        "🔽 **Run the following code to split the dataset:**"
      ],
      "metadata": {
        "id": "oGKGtui7wy1s"
      },
      "id": "oGKGtui7wy1s"
    },
    {
      "cell_type": "code",
      "execution_count": null,
      "id": "7c4be895",
      "metadata": {
        "colab": {
          "base_uri": "https://localhost:8080/"
        },
        "id": "7c4be895",
        "outputId": "f9bad6e9-3ca8-4f6b-a505-7b3c4fd5b447"
      },
      "outputs": [
        {
          "name": "stdout",
          "output_type": "stream",
          "text": [
            "Data for Modeling: (5400, 8)\n",
            "Unseen Data For Predictions (600, 8)\n"
          ]
        }
      ],
      "source": [
        "data = dataset.sample(frac=0.9, random_state=786)\n",
        "data_unseen = dataset.drop(data.index)\n",
        "\n",
        "data.reset_index(drop=True, inplace=True)\n",
        "data_unseen.reset_index(drop=True, inplace=True)\n",
        "\n",
        "print('Data for Modeling: ' + str(data.shape))\n",
        "print('Unseen Data For Predictions ' + str(data_unseen.shape))"
      ]
    },
    {
      "cell_type": "markdown",
      "id": "84ff9cd3",
      "metadata": {
        "id": "84ff9cd3"
      },
      "source": [
        "#### Initializing PyCaret for Regression\n",
        "\n",
        "After loading and splitting the dataset, we need to **initialize PyCaret** to:\n",
        "✅ Define the **target variable** (`Price`).  \n",
        "✅ Apply **data preprocessing** (normalization, transformation, feature engineering).  \n",
        "✅ Handle **multicollinearity** (remove highly correlated features).  \n",
        "✅ Log the experiment for easy tracking.  \n",
        "\n",
        "🔽 **Run the following code to set up PyCaret for regression:**\n",
        "       \n",
        "\n"
      ]
    },
    {
      "cell_type": "code",
      "execution_count": null,
      "id": "d885b6f6",
      "metadata": {
        "id": "d885b6f6"
      },
      "outputs": [],
      "source": [
        "# Initialize PyCaret setup for regression with the 'Price' column as the target\n",
        "exp_reg102 = setup(data=data,\n",
        "                   target='Price',\n",
        "                   session_id=123,  # Random seed for reproducibility\n",
        "                   normalize=True,  # Normalize the data\n",
        "                   transformation=True,  # Apply transformations to the data\n",
        "                   transform_target=True,  # Transform the target variable\n",
        "                   rare_to_value=0.05,  # Assign rare category values\n",
        "                   remove_multicollinearity=True,  # Remove multicollinearity\n",
        "                   multicollinearity_threshold=0.95,  # Multicollinearity threshold\n",
        "                   bin_numeric_features=['Carat Weight'],  # Bin 'Carat Weight' feature\n",
        "                   log_experiment=True,  # Log the experiment in the workspace\n",
        "                   experiment_name='diamond_price_prediction',  # Name for the experiment\n",
        "                   verbose=False)  # Suppress detailed output"
      ]
    },
    {
      "cell_type": "markdown",
      "id": "e62a5f68",
      "metadata": {
        "id": "e62a5f68"
      },
      "source": [
        "#####**Comparing Regression Models**\n",
        "\n",
        "PyCaret allows us to **automatically test multiple regression models** and find the best-performing one.\n",
        "\n",
        "**What Happens in This Step?**\n",
        "- PyCaret trains **multiple regression models** on our dataset.\n",
        "- It evaluates models using different **metrics** (R², RMSE, MAE, etc.).\n",
        "- It selects the **best model** based on overall performance.\n",
        "- We exclude the `'ransac'` model from the comparison.\n",
        "\n",
        "🔽 **Run the following code to compare models:**\n"
      ]
    },
    {
      "cell_type": "code",
      "execution_count": null,
      "id": "827b835c",
      "metadata": {
        "colab": {
          "base_uri": "https://localhost:8080/",
          "height": 614,
          "referenced_widgets": [
            "9c6cc13bc5174dd6a251a55fde1a2aaf",
            "8ee9510272df44fe981a528c3f685945",
            "53eb767e3ec24555b0e1bdb9a3ac667c",
            "eb13ceba62344c9096bc7392e45954f4",
            "e903268c2c2440078bd07fce02e8039b",
            "2de741e5ffeb4c6d81be4ef86d17f389",
            "234c4a1feee24e4bb130b8e7ccc32dbd",
            "6fe40fc939694cf5b26f12cbb59fdcf8",
            "b7ef9f8bcfbe4376ba502461ee7a1f1c",
            "81d74a0853934b678b759773b3ac6215",
            "3cfa62a7caf14e7ea4cc261af8714d12"
          ]
        },
        "id": "827b835c",
        "outputId": "546a9ef8-7e04-4141-8776-32c7cbd605be"
      },
      "outputs": [
        {
          "data": {
            "text/html": [],
            "text/plain": [
              "<IPython.core.display.HTML object>"
            ]
          },
          "metadata": {},
          "output_type": "display_data"
        },
        {
          "data": {
            "text/html": [
              "<style type=\"text/css\">\n",
              "#T_f1933 th {\n",
              "  text-align: left;\n",
              "}\n",
              "#T_f1933_row0_col0, #T_f1933_row0_col1, #T_f1933_row0_col3, #T_f1933_row0_col5, #T_f1933_row0_col6, #T_f1933_row1_col0, #T_f1933_row1_col1, #T_f1933_row1_col2, #T_f1933_row1_col3, #T_f1933_row1_col4, #T_f1933_row1_col5, #T_f1933_row1_col6, #T_f1933_row2_col0, #T_f1933_row2_col1, #T_f1933_row2_col2, #T_f1933_row2_col3, #T_f1933_row2_col4, #T_f1933_row2_col5, #T_f1933_row2_col6, #T_f1933_row3_col0, #T_f1933_row3_col1, #T_f1933_row3_col2, #T_f1933_row3_col3, #T_f1933_row3_col4, #T_f1933_row3_col5, #T_f1933_row3_col6, #T_f1933_row4_col0, #T_f1933_row4_col1, #T_f1933_row4_col2, #T_f1933_row4_col3, #T_f1933_row4_col4, #T_f1933_row4_col5, #T_f1933_row4_col6, #T_f1933_row5_col0, #T_f1933_row5_col1, #T_f1933_row5_col2, #T_f1933_row5_col3, #T_f1933_row5_col4, #T_f1933_row5_col5, #T_f1933_row5_col6, #T_f1933_row6_col0, #T_f1933_row6_col1, #T_f1933_row6_col2, #T_f1933_row6_col3, #T_f1933_row6_col4, #T_f1933_row6_col5, #T_f1933_row6_col6, #T_f1933_row7_col0, #T_f1933_row7_col1, #T_f1933_row7_col2, #T_f1933_row7_col3, #T_f1933_row7_col4, #T_f1933_row7_col5, #T_f1933_row7_col6, #T_f1933_row8_col0, #T_f1933_row8_col1, #T_f1933_row8_col2, #T_f1933_row8_col3, #T_f1933_row8_col4, #T_f1933_row8_col5, #T_f1933_row8_col6, #T_f1933_row9_col0, #T_f1933_row9_col1, #T_f1933_row9_col2, #T_f1933_row9_col3, #T_f1933_row9_col4, #T_f1933_row9_col5, #T_f1933_row9_col6, #T_f1933_row10_col0, #T_f1933_row10_col1, #T_f1933_row10_col2, #T_f1933_row10_col3, #T_f1933_row10_col4, #T_f1933_row10_col5, #T_f1933_row10_col6, #T_f1933_row11_col0, #T_f1933_row11_col1, #T_f1933_row11_col2, #T_f1933_row11_col3, #T_f1933_row11_col4, #T_f1933_row11_col5, #T_f1933_row11_col6, #T_f1933_row12_col0, #T_f1933_row12_col2, #T_f1933_row12_col4, #T_f1933_row13_col0, #T_f1933_row13_col1, #T_f1933_row13_col2, #T_f1933_row13_col3, #T_f1933_row13_col4, #T_f1933_row13_col5, #T_f1933_row13_col6, #T_f1933_row14_col0, #T_f1933_row14_col1, #T_f1933_row14_col2, #T_f1933_row14_col3, #T_f1933_row14_col4, #T_f1933_row14_col5, #T_f1933_row14_col6, #T_f1933_row15_col0, #T_f1933_row15_col1, #T_f1933_row15_col2, #T_f1933_row15_col3, #T_f1933_row15_col4, #T_f1933_row15_col5, #T_f1933_row15_col6, #T_f1933_row16_col0, #T_f1933_row16_col1, #T_f1933_row16_col2, #T_f1933_row16_col3, #T_f1933_row16_col4, #T_f1933_row16_col5, #T_f1933_row16_col6 {\n",
              "  text-align: left;\n",
              "}\n",
              "#T_f1933_row0_col2, #T_f1933_row0_col4, #T_f1933_row12_col1, #T_f1933_row12_col3, #T_f1933_row12_col5, #T_f1933_row12_col6 {\n",
              "  text-align: left;\n",
              "  background-color: yellow;\n",
              "}\n",
              "#T_f1933_row0_col7, #T_f1933_row1_col7, #T_f1933_row2_col7, #T_f1933_row3_col7, #T_f1933_row5_col7, #T_f1933_row6_col7, #T_f1933_row7_col7, #T_f1933_row8_col7, #T_f1933_row9_col7, #T_f1933_row10_col7, #T_f1933_row11_col7, #T_f1933_row12_col7, #T_f1933_row13_col7, #T_f1933_row14_col7, #T_f1933_row16_col7 {\n",
              "  text-align: left;\n",
              "  background-color: lightgrey;\n",
              "}\n",
              "#T_f1933_row4_col7, #T_f1933_row15_col7 {\n",
              "  text-align: left;\n",
              "  background-color: yellow;\n",
              "  background-color: lightgrey;\n",
              "}\n",
              "</style>\n",
              "<table id=\"T_f1933\">\n",
              "  <thead>\n",
              "    <tr>\n",
              "      <th class=\"blank level0\" >&nbsp;</th>\n",
              "      <th id=\"T_f1933_level0_col0\" class=\"col_heading level0 col0\" >Model</th>\n",
              "      <th id=\"T_f1933_level0_col1\" class=\"col_heading level0 col1\" >MAE</th>\n",
              "      <th id=\"T_f1933_level0_col2\" class=\"col_heading level0 col2\" >MSE</th>\n",
              "      <th id=\"T_f1933_level0_col3\" class=\"col_heading level0 col3\" >RMSE</th>\n",
              "      <th id=\"T_f1933_level0_col4\" class=\"col_heading level0 col4\" >R2</th>\n",
              "      <th id=\"T_f1933_level0_col5\" class=\"col_heading level0 col5\" >RMSLE</th>\n",
              "      <th id=\"T_f1933_level0_col6\" class=\"col_heading level0 col6\" >MAPE</th>\n",
              "      <th id=\"T_f1933_level0_col7\" class=\"col_heading level0 col7\" >TT (Sec)</th>\n",
              "    </tr>\n",
              "  </thead>\n",
              "  <tbody>\n",
              "    <tr>\n",
              "      <th id=\"T_f1933_level0_row0\" class=\"row_heading level0 row0\" >lightgbm</th>\n",
              "      <td id=\"T_f1933_row0_col0\" class=\"data row0 col0\" >Light Gradient Boosting Machine</td>\n",
              "      <td id=\"T_f1933_row0_col1\" class=\"data row0 col1\" >1669.9660</td>\n",
              "      <td id=\"T_f1933_row0_col2\" class=\"data row0 col2\" >6375439.5238</td>\n",
              "      <td id=\"T_f1933_row0_col3\" class=\"data row0 col3\" >2500.3723</td>\n",
              "      <td id=\"T_f1933_row0_col4\" class=\"data row0 col4\" >0.9375</td>\n",
              "      <td id=\"T_f1933_row0_col5\" class=\"data row0 col5\" >0.2240</td>\n",
              "      <td id=\"T_f1933_row0_col6\" class=\"data row0 col6\" >0.1847</td>\n",
              "      <td id=\"T_f1933_row0_col7\" class=\"data row0 col7\" >0.2790</td>\n",
              "    </tr>\n",
              "    <tr>\n",
              "      <th id=\"T_f1933_level0_row1\" class=\"row_heading level0 row1\" >gbr</th>\n",
              "      <td id=\"T_f1933_row1_col0\" class=\"data row1 col0\" >Gradient Boosting Regressor</td>\n",
              "      <td id=\"T_f1933_row1_col1\" class=\"data row1 col1\" >1737.6510</td>\n",
              "      <td id=\"T_f1933_row1_col2\" class=\"data row1 col2\" >7032783.3658</td>\n",
              "      <td id=\"T_f1933_row1_col3\" class=\"data row1 col3\" >2611.4470</td>\n",
              "      <td id=\"T_f1933_row1_col4\" class=\"data row1 col4\" >0.9305</td>\n",
              "      <td id=\"T_f1933_row1_col5\" class=\"data row1 col5\" >0.2254</td>\n",
              "      <td id=\"T_f1933_row1_col6\" class=\"data row1 col6\" >0.1905</td>\n",
              "      <td id=\"T_f1933_row1_col7\" class=\"data row1 col7\" >0.2620</td>\n",
              "    </tr>\n",
              "    <tr>\n",
              "      <th id=\"T_f1933_level0_row2\" class=\"row_heading level0 row2\" >rf</th>\n",
              "      <td id=\"T_f1933_row2_col0\" class=\"data row2 col0\" >Random Forest Regressor</td>\n",
              "      <td id=\"T_f1933_row2_col1\" class=\"data row2 col1\" >1782.9765</td>\n",
              "      <td id=\"T_f1933_row2_col2\" class=\"data row2 col2\" >7562728.3995</td>\n",
              "      <td id=\"T_f1933_row2_col3\" class=\"data row2 col3\" >2730.7880</td>\n",
              "      <td id=\"T_f1933_row2_col4\" class=\"data row2 col4\" >0.9256</td>\n",
              "      <td id=\"T_f1933_row2_col5\" class=\"data row2 col5\" >0.2424</td>\n",
              "      <td id=\"T_f1933_row2_col6\" class=\"data row2 col6\" >0.1938</td>\n",
              "      <td id=\"T_f1933_row2_col7\" class=\"data row2 col7\" >0.3480</td>\n",
              "    </tr>\n",
              "    <tr>\n",
              "      <th id=\"T_f1933_level0_row3\" class=\"row_heading level0 row3\" >et</th>\n",
              "      <td id=\"T_f1933_row3_col0\" class=\"data row3 col0\" >Extra Trees Regressor</td>\n",
              "      <td id=\"T_f1933_row3_col1\" class=\"data row3 col1\" >1934.6340</td>\n",
              "      <td id=\"T_f1933_row3_col2\" class=\"data row3 col2\" >9478080.7982</td>\n",
              "      <td id=\"T_f1933_row3_col3\" class=\"data row3 col3\" >3060.6766</td>\n",
              "      <td id=\"T_f1933_row3_col4\" class=\"data row3 col4\" >0.9061</td>\n",
              "      <td id=\"T_f1933_row3_col5\" class=\"data row3 col5\" >0.2623</td>\n",
              "      <td id=\"T_f1933_row3_col6\" class=\"data row3 col6\" >0.2057</td>\n",
              "      <td id=\"T_f1933_row3_col7\" class=\"data row3 col7\" >0.4310</td>\n",
              "    </tr>\n",
              "    <tr>\n",
              "      <th id=\"T_f1933_level0_row4\" class=\"row_heading level0 row4\" >dt</th>\n",
              "      <td id=\"T_f1933_row4_col0\" class=\"data row4 col0\" >Decision Tree Regressor</td>\n",
              "      <td id=\"T_f1933_row4_col1\" class=\"data row4 col1\" >1958.1817</td>\n",
              "      <td id=\"T_f1933_row4_col2\" class=\"data row4 col2\" >10004086.6635</td>\n",
              "      <td id=\"T_f1933_row4_col3\" class=\"data row4 col3\" >3150.1290</td>\n",
              "      <td id=\"T_f1933_row4_col4\" class=\"data row4 col4\" >0.9005</td>\n",
              "      <td id=\"T_f1933_row4_col5\" class=\"data row4 col5\" >0.2636</td>\n",
              "      <td id=\"T_f1933_row4_col6\" class=\"data row4 col6\" >0.2068</td>\n",
              "      <td id=\"T_f1933_row4_col7\" class=\"data row4 col7\" >0.1390</td>\n",
              "    </tr>\n",
              "    <tr>\n",
              "      <th id=\"T_f1933_level0_row5\" class=\"row_heading level0 row5\" >huber</th>\n",
              "      <td id=\"T_f1933_row5_col0\" class=\"data row5 col0\" >Huber Regressor</td>\n",
              "      <td id=\"T_f1933_row5_col1\" class=\"data row5 col1\" >2475.4675</td>\n",
              "      <td id=\"T_f1933_row5_col2\" class=\"data row5 col2\" >14048592.6577</td>\n",
              "      <td id=\"T_f1933_row5_col3\" class=\"data row5 col3\" >3724.9835</td>\n",
              "      <td id=\"T_f1933_row5_col4\" class=\"data row5 col4\" >0.8618</td>\n",
              "      <td id=\"T_f1933_row5_col5\" class=\"data row5 col5\" >0.2791</td>\n",
              "      <td id=\"T_f1933_row5_col6\" class=\"data row5 col6\" >0.2457</td>\n",
              "      <td id=\"T_f1933_row5_col7\" class=\"data row5 col7\" >0.1590</td>\n",
              "    </tr>\n",
              "    <tr>\n",
              "      <th id=\"T_f1933_level0_row6\" class=\"row_heading level0 row6\" >ridge</th>\n",
              "      <td id=\"T_f1933_row6_col0\" class=\"data row6 col0\" >Ridge Regression</td>\n",
              "      <td id=\"T_f1933_row6_col1\" class=\"data row6 col1\" >2539.5880</td>\n",
              "      <td id=\"T_f1933_row6_col2\" class=\"data row6 col2\" >14482719.5883</td>\n",
              "      <td id=\"T_f1933_row6_col3\" class=\"data row6 col3\" >3781.7478</td>\n",
              "      <td id=\"T_f1933_row6_col4\" class=\"data row6 col4\" >0.8576</td>\n",
              "      <td id=\"T_f1933_row6_col5\" class=\"data row6 col5\" >0.2764</td>\n",
              "      <td id=\"T_f1933_row6_col6\" class=\"data row6 col6\" >0.2408</td>\n",
              "      <td id=\"T_f1933_row6_col7\" class=\"data row6 col7\" >0.1910</td>\n",
              "    </tr>\n",
              "    <tr>\n",
              "      <th id=\"T_f1933_level0_row7\" class=\"row_heading level0 row7\" >br</th>\n",
              "      <td id=\"T_f1933_row7_col0\" class=\"data row7 col0\" >Bayesian Ridge</td>\n",
              "      <td id=\"T_f1933_row7_col1\" class=\"data row7 col1\" >2543.2311</td>\n",
              "      <td id=\"T_f1933_row7_col2\" class=\"data row7 col2\" >14551919.1626</td>\n",
              "      <td id=\"T_f1933_row7_col3\" class=\"data row7 col3\" >3790.5845</td>\n",
              "      <td id=\"T_f1933_row7_col4\" class=\"data row7 col4\" >0.8569</td>\n",
              "      <td id=\"T_f1933_row7_col5\" class=\"data row7 col5\" >0.2765</td>\n",
              "      <td id=\"T_f1933_row7_col6\" class=\"data row7 col6\" >0.2408</td>\n",
              "      <td id=\"T_f1933_row7_col7\" class=\"data row7 col7\" >0.1460</td>\n",
              "    </tr>\n",
              "    <tr>\n",
              "      <th id=\"T_f1933_level0_row8\" class=\"row_heading level0 row8\" >lr</th>\n",
              "      <td id=\"T_f1933_row8_col0\" class=\"data row8 col0\" >Linear Regression</td>\n",
              "      <td id=\"T_f1933_row8_col1\" class=\"data row8 col1\" >2549.7090</td>\n",
              "      <td id=\"T_f1933_row8_col2\" class=\"data row8 col2\" >14747821.3379</td>\n",
              "      <td id=\"T_f1933_row8_col3\" class=\"data row8 col3\" >3814.4370</td>\n",
              "      <td id=\"T_f1933_row8_col4\" class=\"data row8 col4\" >0.8551</td>\n",
              "      <td id=\"T_f1933_row8_col5\" class=\"data row8 col5\" >0.2769</td>\n",
              "      <td id=\"T_f1933_row8_col6\" class=\"data row8 col6\" >0.2411</td>\n",
              "      <td id=\"T_f1933_row8_col7\" class=\"data row8 col7\" >0.8310</td>\n",
              "    </tr>\n",
              "    <tr>\n",
              "      <th id=\"T_f1933_level0_row9\" class=\"row_heading level0 row9\" >ada</th>\n",
              "      <td id=\"T_f1933_row9_col0\" class=\"data row9 col0\" >AdaBoost Regressor</td>\n",
              "      <td id=\"T_f1933_row9_col1\" class=\"data row9 col1\" >2765.7058</td>\n",
              "      <td id=\"T_f1933_row9_col2\" class=\"data row9 col2\" >25634838.3155</td>\n",
              "      <td id=\"T_f1933_row9_col3\" class=\"data row9 col3\" >4995.6865</td>\n",
              "      <td id=\"T_f1933_row9_col4\" class=\"data row9 col4\" >0.7525</td>\n",
              "      <td id=\"T_f1933_row9_col5\" class=\"data row9 col5\" >0.2955</td>\n",
              "      <td id=\"T_f1933_row9_col6\" class=\"data row9 col6\" >0.2298</td>\n",
              "      <td id=\"T_f1933_row9_col7\" class=\"data row9 col7\" >0.2680</td>\n",
              "    </tr>\n",
              "    <tr>\n",
              "      <th id=\"T_f1933_level0_row10\" class=\"row_heading level0 row10\" >omp</th>\n",
              "      <td id=\"T_f1933_row10_col0\" class=\"data row10 col0\" >Orthogonal Matching Pursuit</td>\n",
              "      <td id=\"T_f1933_row10_col1\" class=\"data row10 col1\" >3038.6247</td>\n",
              "      <td id=\"T_f1933_row10_col2\" class=\"data row10 col2\" >31316066.6892</td>\n",
              "      <td id=\"T_f1933_row10_col3\" class=\"data row10 col3\" >5534.5785</td>\n",
              "      <td id=\"T_f1933_row10_col4\" class=\"data row10 col4\" >0.6968</td>\n",
              "      <td id=\"T_f1933_row10_col5\" class=\"data row10 col5\" >0.3329</td>\n",
              "      <td id=\"T_f1933_row10_col6\" class=\"data row10 col6\" >0.2650</td>\n",
              "      <td id=\"T_f1933_row10_col7\" class=\"data row10 col7\" >0.1420</td>\n",
              "    </tr>\n",
              "    <tr>\n",
              "      <th id=\"T_f1933_level0_row11\" class=\"row_heading level0 row11\" >knn</th>\n",
              "      <td id=\"T_f1933_row11_col0\" class=\"data row11 col0\" >K Neighbors Regressor</td>\n",
              "      <td id=\"T_f1933_row11_col1\" class=\"data row11 col1\" >3952.7974</td>\n",
              "      <td id=\"T_f1933_row11_col2\" class=\"data row11 col2\" >50381371.8086</td>\n",
              "      <td id=\"T_f1933_row11_col3\" class=\"data row11 col3\" >7083.8504</td>\n",
              "      <td id=\"T_f1933_row11_col4\" class=\"data row11 col4\" >0.4941</td>\n",
              "      <td id=\"T_f1933_row11_col5\" class=\"data row11 col5\" >0.4582</td>\n",
              "      <td id=\"T_f1933_row11_col6\" class=\"data row11 col6\" >0.3308</td>\n",
              "      <td id=\"T_f1933_row11_col7\" class=\"data row11 col7\" >0.1480</td>\n",
              "    </tr>\n",
              "    <tr>\n",
              "      <th id=\"T_f1933_level0_row12\" class=\"row_heading level0 row12\" >lar</th>\n",
              "      <td id=\"T_f1933_row12_col0\" class=\"data row12 col0\" >Least Angle Regression</td>\n",
              "      <td id=\"T_f1933_row12_col1\" class=\"data row12 col1\" >984.4655</td>\n",
              "      <td id=\"T_f1933_row12_col2\" class=\"data row12 col2\" >12837341.7251</td>\n",
              "      <td id=\"T_f1933_row12_col3\" class=\"data row12 col3\" >1866.1171</td>\n",
              "      <td id=\"T_f1933_row12_col4\" class=\"data row12 col4\" >0.1663</td>\n",
              "      <td id=\"T_f1933_row12_col5\" class=\"data row12 col5\" >0.1338</td>\n",
              "      <td id=\"T_f1933_row12_col6\" class=\"data row12 col6\" >0.0902</td>\n",
              "      <td id=\"T_f1933_row12_col7\" class=\"data row12 col7\" >0.1460</td>\n",
              "    </tr>\n",
              "    <tr>\n",
              "      <th id=\"T_f1933_level0_row13\" class=\"row_heading level0 row13\" >lasso</th>\n",
              "      <td id=\"T_f1933_row13_col0\" class=\"data row13 col0\" >Lasso Regression</td>\n",
              "      <td id=\"T_f1933_row13_col1\" class=\"data row13 col1\" >6501.4794</td>\n",
              "      <td id=\"T_f1933_row13_col2\" class=\"data row13 col2\" >113812419.9972</td>\n",
              "      <td id=\"T_f1933_row13_col3\" class=\"data row13 col3\" >10639.8451</td>\n",
              "      <td id=\"T_f1933_row13_col4\" class=\"data row13 col4\" >-0.1270</td>\n",
              "      <td id=\"T_f1933_row13_col5\" class=\"data row13 col5\" >0.7148</td>\n",
              "      <td id=\"T_f1933_row13_col6\" class=\"data row13 col6\" >0.5619</td>\n",
              "      <td id=\"T_f1933_row13_col7\" class=\"data row13 col7\" >0.1740</td>\n",
              "    </tr>\n",
              "    <tr>\n",
              "      <th id=\"T_f1933_level0_row14\" class=\"row_heading level0 row14\" >en</th>\n",
              "      <td id=\"T_f1933_row14_col0\" class=\"data row14 col0\" >Elastic Net</td>\n",
              "      <td id=\"T_f1933_row14_col1\" class=\"data row14 col1\" >6501.4794</td>\n",
              "      <td id=\"T_f1933_row14_col2\" class=\"data row14 col2\" >113812419.9972</td>\n",
              "      <td id=\"T_f1933_row14_col3\" class=\"data row14 col3\" >10639.8451</td>\n",
              "      <td id=\"T_f1933_row14_col4\" class=\"data row14 col4\" >-0.1270</td>\n",
              "      <td id=\"T_f1933_row14_col5\" class=\"data row14 col5\" >0.7148</td>\n",
              "      <td id=\"T_f1933_row14_col6\" class=\"data row14 col6\" >0.5619</td>\n",
              "      <td id=\"T_f1933_row14_col7\" class=\"data row14 col7\" >0.1810</td>\n",
              "    </tr>\n",
              "    <tr>\n",
              "      <th id=\"T_f1933_level0_row15\" class=\"row_heading level0 row15\" >llar</th>\n",
              "      <td id=\"T_f1933_row15_col0\" class=\"data row15 col0\" >Lasso Least Angle Regression</td>\n",
              "      <td id=\"T_f1933_row15_col1\" class=\"data row15 col1\" >6501.4794</td>\n",
              "      <td id=\"T_f1933_row15_col2\" class=\"data row15 col2\" >113812419.9972</td>\n",
              "      <td id=\"T_f1933_row15_col3\" class=\"data row15 col3\" >10639.8451</td>\n",
              "      <td id=\"T_f1933_row15_col4\" class=\"data row15 col4\" >-0.1270</td>\n",
              "      <td id=\"T_f1933_row15_col5\" class=\"data row15 col5\" >0.7148</td>\n",
              "      <td id=\"T_f1933_row15_col6\" class=\"data row15 col6\" >0.5619</td>\n",
              "      <td id=\"T_f1933_row15_col7\" class=\"data row15 col7\" >0.1390</td>\n",
              "    </tr>\n",
              "    <tr>\n",
              "      <th id=\"T_f1933_level0_row16\" class=\"row_heading level0 row16\" >dummy</th>\n",
              "      <td id=\"T_f1933_row16_col0\" class=\"data row16 col0\" >Dummy Regressor</td>\n",
              "      <td id=\"T_f1933_row16_col1\" class=\"data row16 col1\" >6501.4794</td>\n",
              "      <td id=\"T_f1933_row16_col2\" class=\"data row16 col2\" >113812419.9972</td>\n",
              "      <td id=\"T_f1933_row16_col3\" class=\"data row16 col3\" >10639.8451</td>\n",
              "      <td id=\"T_f1933_row16_col4\" class=\"data row16 col4\" >-0.1270</td>\n",
              "      <td id=\"T_f1933_row16_col5\" class=\"data row16 col5\" >0.7148</td>\n",
              "      <td id=\"T_f1933_row16_col6\" class=\"data row16 col6\" >0.5619</td>\n",
              "      <td id=\"T_f1933_row16_col7\" class=\"data row16 col7\" >0.1590</td>\n",
              "    </tr>\n",
              "  </tbody>\n",
              "</table>\n"
            ],
            "text/plain": [
              "<pandas.io.formats.style.Styler at 0x18d12df0d30>"
            ]
          },
          "metadata": {},
          "output_type": "display_data"
        },
        {
          "data": {
            "text/html": [],
            "text/plain": [
              "<IPython.core.display.HTML object>"
            ]
          },
          "metadata": {},
          "output_type": "display_data"
        }
      ],
      "source": [
        "best_model = compare_models(exclude = ['ransac'])"
      ]
    },
    {
      "cell_type": "markdown",
      "source": [
        "##### **Tuning the Best Model**\n",
        "After selecting the best model, we will **fine-tune** it to improve performance.  \n",
        "PyCaret automatically adjusts **hyperparameters** to optimize the model.\n",
        "\n",
        "**What Happens in This Step?**\n",
        "- PyCaret searches for the **best hyperparameters**.\n",
        "- It evaluates multiple settings to **reduce error and improve accuracy**.\n",
        "- We set `n_iter=10` to **limit the number of tuning iterations**.\n",
        "\n",
        "🔽 **Run the following code to tune the best model:**"
      ],
      "metadata": {
        "id": "m9n1gakmzx4a"
      },
      "id": "m9n1gakmzx4a"
    },
    {
      "cell_type": "code",
      "execution_count": null,
      "id": "5ce3a20f",
      "metadata": {
        "colab": {
          "base_uri": "https://localhost:8080/",
          "height": 459,
          "referenced_widgets": [
            "e48c574d6a3a4b6aa71556216eea575f",
            "417122de1e7f4f33938b0a509b713f42",
            "a587fe0340504a6ca14727992e352237",
            "c7d1972b6ef945ec8f2eba82ccb8871e",
            "900ec0091cc3436ea18da3b1d91e87ea",
            "16184e00575a4053a8f4792328c590c4",
            "5fab4bee2e5c45c7a736e039c8c3f500",
            "f61670bbe79847518bbdf5183de9088e",
            "b5085cef597f41a89baf206f18cc1891",
            "f21eeed642a045649418fefe4040f58e",
            "f1e91ff038ab4e20a094ba9938e5c4ac"
          ]
        },
        "id": "5ce3a20f",
        "outputId": "b2f6922b-5e75-42fe-d6b4-c703ab90666a"
      },
      "outputs": [
        {
          "data": {
            "text/html": [],
            "text/plain": [
              "<IPython.core.display.HTML object>"
            ]
          },
          "metadata": {},
          "output_type": "display_data"
        },
        {
          "data": {
            "text/html": [
              "<style type=\"text/css\">\n",
              "#T_a919d_row10_col0, #T_a919d_row10_col1, #T_a919d_row10_col2, #T_a919d_row10_col3, #T_a919d_row10_col4, #T_a919d_row10_col5 {\n",
              "  background: yellow;\n",
              "}\n",
              "</style>\n",
              "<table id=\"T_a919d\">\n",
              "  <thead>\n",
              "    <tr>\n",
              "      <th class=\"blank level0\" >&nbsp;</th>\n",
              "      <th id=\"T_a919d_level0_col0\" class=\"col_heading level0 col0\" >MAE</th>\n",
              "      <th id=\"T_a919d_level0_col1\" class=\"col_heading level0 col1\" >MSE</th>\n",
              "      <th id=\"T_a919d_level0_col2\" class=\"col_heading level0 col2\" >RMSE</th>\n",
              "      <th id=\"T_a919d_level0_col3\" class=\"col_heading level0 col3\" >R2</th>\n",
              "      <th id=\"T_a919d_level0_col4\" class=\"col_heading level0 col4\" >RMSLE</th>\n",
              "      <th id=\"T_a919d_level0_col5\" class=\"col_heading level0 col5\" >MAPE</th>\n",
              "    </tr>\n",
              "    <tr>\n",
              "      <th class=\"index_name level0\" >Fold</th>\n",
              "      <th class=\"blank col0\" >&nbsp;</th>\n",
              "      <th class=\"blank col1\" >&nbsp;</th>\n",
              "      <th class=\"blank col2\" >&nbsp;</th>\n",
              "      <th class=\"blank col3\" >&nbsp;</th>\n",
              "      <th class=\"blank col4\" >&nbsp;</th>\n",
              "      <th class=\"blank col5\" >&nbsp;</th>\n",
              "    </tr>\n",
              "  </thead>\n",
              "  <tbody>\n",
              "    <tr>\n",
              "      <th id=\"T_a919d_level0_row0\" class=\"row_heading level0 row0\" >0</th>\n",
              "      <td id=\"T_a919d_row0_col0\" class=\"data row0 col0\" >4319.5830</td>\n",
              "      <td id=\"T_a919d_row0_col1\" class=\"data row0 col1\" >60120383.1118</td>\n",
              "      <td id=\"T_a919d_row0_col2\" class=\"data row0 col2\" >7753.7335</td>\n",
              "      <td id=\"T_a919d_row0_col3\" class=\"data row0 col3\" >0.3399</td>\n",
              "      <td id=\"T_a919d_row0_col4\" class=\"data row0 col4\" >0.4351</td>\n",
              "      <td id=\"T_a919d_row0_col5\" class=\"data row0 col5\" >0.3281</td>\n",
              "    </tr>\n",
              "    <tr>\n",
              "      <th id=\"T_a919d_level0_row1\" class=\"row_heading level0 row1\" >1</th>\n",
              "      <td id=\"T_a919d_row1_col0\" class=\"data row1 col0\" >4904.6526</td>\n",
              "      <td id=\"T_a919d_row1_col1\" class=\"data row1 col1\" >96919983.2673</td>\n",
              "      <td id=\"T_a919d_row1_col2\" class=\"data row1 col2\" >9844.7947</td>\n",
              "      <td id=\"T_a919d_row1_col3\" class=\"data row1 col3\" >0.2572</td>\n",
              "      <td id=\"T_a919d_row1_col4\" class=\"data row1 col4\" >0.4826</td>\n",
              "      <td id=\"T_a919d_row1_col5\" class=\"data row1 col5\" >0.3679</td>\n",
              "    </tr>\n",
              "    <tr>\n",
              "      <th id=\"T_a919d_level0_row2\" class=\"row_heading level0 row2\" >2</th>\n",
              "      <td id=\"T_a919d_row2_col0\" class=\"data row2 col0\" >4664.4244</td>\n",
              "      <td id=\"T_a919d_row2_col1\" class=\"data row2 col1\" >73992020.3137</td>\n",
              "      <td id=\"T_a919d_row2_col2\" class=\"data row2 col2\" >8601.8614</td>\n",
              "      <td id=\"T_a919d_row2_col3\" class=\"data row2 col3\" >0.3214</td>\n",
              "      <td id=\"T_a919d_row2_col4\" class=\"data row2 col4\" >0.4710</td>\n",
              "      <td id=\"T_a919d_row2_col5\" class=\"data row2 col5\" >0.3798</td>\n",
              "    </tr>\n",
              "    <tr>\n",
              "      <th id=\"T_a919d_level0_row3\" class=\"row_heading level0 row3\" >3</th>\n",
              "      <td id=\"T_a919d_row3_col0\" class=\"data row3 col0\" >4496.2940</td>\n",
              "      <td id=\"T_a919d_row3_col1\" class=\"data row3 col1\" >59351341.3712</td>\n",
              "      <td id=\"T_a919d_row3_col2\" class=\"data row3 col2\" >7703.9822</td>\n",
              "      <td id=\"T_a919d_row3_col3\" class=\"data row3 col3\" >0.3452</td>\n",
              "      <td id=\"T_a919d_row3_col4\" class=\"data row3 col4\" >0.4493</td>\n",
              "      <td id=\"T_a919d_row3_col5\" class=\"data row3 col5\" >0.3401</td>\n",
              "    </tr>\n",
              "    <tr>\n",
              "      <th id=\"T_a919d_level0_row4\" class=\"row_heading level0 row4\" >4</th>\n",
              "      <td id=\"T_a919d_row4_col0\" class=\"data row4 col0\" >4056.3383</td>\n",
              "      <td id=\"T_a919d_row4_col1\" class=\"data row4 col1\" >50226831.9594</td>\n",
              "      <td id=\"T_a919d_row4_col2\" class=\"data row4 col2\" >7087.0891</td>\n",
              "      <td id=\"T_a919d_row4_col3\" class=\"data row4 col3\" >0.3735</td>\n",
              "      <td id=\"T_a919d_row4_col4\" class=\"data row4 col4\" >0.4423</td>\n",
              "      <td id=\"T_a919d_row4_col5\" class=\"data row4 col5\" >0.3530</td>\n",
              "    </tr>\n",
              "    <tr>\n",
              "      <th id=\"T_a919d_level0_row5\" class=\"row_heading level0 row5\" >5</th>\n",
              "      <td id=\"T_a919d_row5_col0\" class=\"data row5 col0\" >4664.9298</td>\n",
              "      <td id=\"T_a919d_row5_col1\" class=\"data row5 col1\" >83124648.0235</td>\n",
              "      <td id=\"T_a919d_row5_col2\" class=\"data row5 col2\" >9117.2720</td>\n",
              "      <td id=\"T_a919d_row5_col3\" class=\"data row5 col3\" >0.2906</td>\n",
              "      <td id=\"T_a919d_row5_col4\" class=\"data row5 col4\" >0.4674</td>\n",
              "      <td id=\"T_a919d_row5_col5\" class=\"data row5 col5\" >0.3597</td>\n",
              "    </tr>\n",
              "    <tr>\n",
              "      <th id=\"T_a919d_level0_row6\" class=\"row_heading level0 row6\" >6</th>\n",
              "      <td id=\"T_a919d_row6_col0\" class=\"data row6 col0\" >4809.1151</td>\n",
              "      <td id=\"T_a919d_row6_col1\" class=\"data row6 col1\" >73729320.8209</td>\n",
              "      <td id=\"T_a919d_row6_col2\" class=\"data row6 col2\" >8586.5779</td>\n",
              "      <td id=\"T_a919d_row6_col3\" class=\"data row6 col3\" >0.3073</td>\n",
              "      <td id=\"T_a919d_row6_col4\" class=\"data row6 col4\" >0.4726</td>\n",
              "      <td id=\"T_a919d_row6_col5\" class=\"data row6 col5\" >0.3590</td>\n",
              "    </tr>\n",
              "    <tr>\n",
              "      <th id=\"T_a919d_level0_row7\" class=\"row_heading level0 row7\" >7</th>\n",
              "      <td id=\"T_a919d_row7_col0\" class=\"data row7 col0\" >4244.7974</td>\n",
              "      <td id=\"T_a919d_row7_col1\" class=\"data row7 col1\" >53585644.9779</td>\n",
              "      <td id=\"T_a919d_row7_col2\" class=\"data row7 col2\" >7320.2216</td>\n",
              "      <td id=\"T_a919d_row7_col3\" class=\"data row7 col3\" >0.3223</td>\n",
              "      <td id=\"T_a919d_row7_col4\" class=\"data row7 col4\" >0.4467</td>\n",
              "      <td id=\"T_a919d_row7_col5\" class=\"data row7 col5\" >0.3455</td>\n",
              "    </tr>\n",
              "    <tr>\n",
              "      <th id=\"T_a919d_level0_row8\" class=\"row_heading level0 row8\" >8</th>\n",
              "      <td id=\"T_a919d_row8_col0\" class=\"data row8 col0\" >4635.2538</td>\n",
              "      <td id=\"T_a919d_row8_col1\" class=\"data row8 col1\" >69548612.9951</td>\n",
              "      <td id=\"T_a919d_row8_col2\" class=\"data row8 col2\" >8339.5811</td>\n",
              "      <td id=\"T_a919d_row8_col3\" class=\"data row8 col3\" >0.3170</td>\n",
              "      <td id=\"T_a919d_row8_col4\" class=\"data row8 col4\" >0.4584</td>\n",
              "      <td id=\"T_a919d_row8_col5\" class=\"data row8 col5\" >0.3427</td>\n",
              "    </tr>\n",
              "    <tr>\n",
              "      <th id=\"T_a919d_level0_row9\" class=\"row_heading level0 row9\" >9</th>\n",
              "      <td id=\"T_a919d_row9_col0\" class=\"data row9 col0\" >4537.0846</td>\n",
              "      <td id=\"T_a919d_row9_col1\" class=\"data row9 col1\" >70467971.1908</td>\n",
              "      <td id=\"T_a919d_row9_col2\" class=\"data row9 col2\" >8394.5203</td>\n",
              "      <td id=\"T_a919d_row9_col3\" class=\"data row9 col3\" >0.3290</td>\n",
              "      <td id=\"T_a919d_row9_col4\" class=\"data row9 col4\" >0.4707</td>\n",
              "      <td id=\"T_a919d_row9_col5\" class=\"data row9 col5\" >0.3752</td>\n",
              "    </tr>\n",
              "    <tr>\n",
              "      <th id=\"T_a919d_level0_row10\" class=\"row_heading level0 row10\" >Mean</th>\n",
              "      <td id=\"T_a919d_row10_col0\" class=\"data row10 col0\" >4533.2473</td>\n",
              "      <td id=\"T_a919d_row10_col1\" class=\"data row10 col1\" >69106675.8032</td>\n",
              "      <td id=\"T_a919d_row10_col2\" class=\"data row10 col2\" >8274.9634</td>\n",
              "      <td id=\"T_a919d_row10_col3\" class=\"data row10 col3\" >0.3203</td>\n",
              "      <td id=\"T_a919d_row10_col4\" class=\"data row10 col4\" >0.4596</td>\n",
              "      <td id=\"T_a919d_row10_col5\" class=\"data row10 col5\" >0.3551</td>\n",
              "    </tr>\n",
              "    <tr>\n",
              "      <th id=\"T_a919d_level0_row11\" class=\"row_heading level0 row11\" >Std</th>\n",
              "      <td id=\"T_a919d_row11_col0\" class=\"data row11 col0\" >248.3297</td>\n",
              "      <td id=\"T_a919d_row11_col1\" class=\"data row11 col1\" >13381473.7473</td>\n",
              "      <td id=\"T_a919d_row11_col2\" class=\"data row11 col2\" >794.7683</td>\n",
              "      <td id=\"T_a919d_row11_col3\" class=\"data row11 col3\" >0.0299</td>\n",
              "      <td id=\"T_a919d_row11_col4\" class=\"data row11 col4\" >0.0148</td>\n",
              "      <td id=\"T_a919d_row11_col5\" class=\"data row11 col5\" >0.0156</td>\n",
              "    </tr>\n",
              "  </tbody>\n",
              "</table>\n"
            ],
            "text/plain": [
              "<pandas.io.formats.style.Styler at 0x18d12b89e50>"
            ]
          },
          "metadata": {},
          "output_type": "display_data"
        },
        {
          "data": {
            "text/html": [],
            "text/plain": [
              "<IPython.core.display.HTML object>"
            ]
          },
          "metadata": {},
          "output_type": "display_data"
        },
        {
          "name": "stdout",
          "output_type": "stream",
          "text": [
            "Fitting 10 folds for each of 10 candidates, totalling 100 fits\n",
            "Original model was better than the tuned model, hence it will be returned. NOTE: The display metrics are for the tuned model (not the original one).\n"
          ]
        }
      ],
      "source": [
        "tuned_best = tune_model(best_model, n_iter=10)  # Use a smaller number of iterations"
      ]
    },
    {
      "cell_type": "markdown",
      "id": "7b5c0556",
      "metadata": {
        "id": "7b5c0556"
      },
      "source": [
        "#### Individual model training"
      ]
    },
    {
      "cell_type": "markdown",
      "source": [
        "##### **Creating a LightGBM Model**  \n",
        "Now, we will **create a LightGBM (Light Gradient Boosting Machine) model**.  \n",
        "LightGBM is a **fast and efficient gradient boosting algorithm** widely used for regression tasks.\n",
        "\n",
        "**What Happens in This Step?**  \n",
        "- We create a **LightGBM model** using PyCaret.  \n",
        "- LightGBM is designed to handle **large datasets efficiently**.  \n",
        "- It is optimized for **speed, accuracy, and scalability**.  \n",
        "\n",
        "🔽 **Run the following code to create the model:**  \n"
      ],
      "metadata": {
        "id": "lnAfGZeT0Rz7"
      },
      "id": "lnAfGZeT0Rz7"
    },
    {
      "cell_type": "code",
      "execution_count": null,
      "id": "1508e405",
      "metadata": {
        "id": "1508e405",
        "outputId": "09bd79d8-e1e9-43d2-b641-f598da39bd82"
      },
      "outputs": [
        {
          "data": {
            "text/html": [],
            "text/plain": [
              "<IPython.core.display.HTML object>"
            ]
          },
          "metadata": {},
          "output_type": "display_data"
        },
        {
          "data": {
            "text/html": [
              "<style type=\"text/css\">\n",
              "#T_ce598_row10_col0, #T_ce598_row10_col1, #T_ce598_row10_col2, #T_ce598_row10_col3, #T_ce598_row10_col4, #T_ce598_row10_col5 {\n",
              "  background: yellow;\n",
              "}\n",
              "</style>\n",
              "<table id=\"T_ce598\">\n",
              "  <thead>\n",
              "    <tr>\n",
              "      <th class=\"blank level0\" >&nbsp;</th>\n",
              "      <th id=\"T_ce598_level0_col0\" class=\"col_heading level0 col0\" >MAE</th>\n",
              "      <th id=\"T_ce598_level0_col1\" class=\"col_heading level0 col1\" >MSE</th>\n",
              "      <th id=\"T_ce598_level0_col2\" class=\"col_heading level0 col2\" >RMSE</th>\n",
              "      <th id=\"T_ce598_level0_col3\" class=\"col_heading level0 col3\" >R2</th>\n",
              "      <th id=\"T_ce598_level0_col4\" class=\"col_heading level0 col4\" >RMSLE</th>\n",
              "      <th id=\"T_ce598_level0_col5\" class=\"col_heading level0 col5\" >MAPE</th>\n",
              "    </tr>\n",
              "    <tr>\n",
              "      <th class=\"index_name level0\" >Fold</th>\n",
              "      <th class=\"blank col0\" >&nbsp;</th>\n",
              "      <th class=\"blank col1\" >&nbsp;</th>\n",
              "      <th class=\"blank col2\" >&nbsp;</th>\n",
              "      <th class=\"blank col3\" >&nbsp;</th>\n",
              "      <th class=\"blank col4\" >&nbsp;</th>\n",
              "      <th class=\"blank col5\" >&nbsp;</th>\n",
              "    </tr>\n",
              "  </thead>\n",
              "  <tbody>\n",
              "    <tr>\n",
              "      <th id=\"T_ce598_level0_row0\" class=\"row_heading level0 row0\" >0</th>\n",
              "      <td id=\"T_ce598_row0_col0\" class=\"data row0 col0\" >1678.2105</td>\n",
              "      <td id=\"T_ce598_row0_col1\" class=\"data row0 col1\" >5447110.8380</td>\n",
              "      <td id=\"T_ce598_row0_col2\" class=\"data row0 col2\" >2333.9046</td>\n",
              "      <td id=\"T_ce598_row0_col3\" class=\"data row0 col3\" >0.9402</td>\n",
              "      <td id=\"T_ce598_row0_col4\" class=\"data row0 col4\" >0.2286</td>\n",
              "      <td id=\"T_ce598_row0_col5\" class=\"data row0 col5\" >0.1862</td>\n",
              "    </tr>\n",
              "    <tr>\n",
              "      <th id=\"T_ce598_level0_row1\" class=\"row_heading level0 row1\" >1</th>\n",
              "      <td id=\"T_ce598_row1_col0\" class=\"data row1 col0\" >1847.7449</td>\n",
              "      <td id=\"T_ce598_row1_col1\" class=\"data row1 col1\" >10082280.4520</td>\n",
              "      <td id=\"T_ce598_row1_col2\" class=\"data row1 col2\" >3175.2607</td>\n",
              "      <td id=\"T_ce598_row1_col3\" class=\"data row1 col3\" >0.9227</td>\n",
              "      <td id=\"T_ce598_row1_col4\" class=\"data row1 col4\" >0.2277</td>\n",
              "      <td id=\"T_ce598_row1_col5\" class=\"data row1 col5\" >0.1906</td>\n",
              "    </tr>\n",
              "    <tr>\n",
              "      <th id=\"T_ce598_level0_row2\" class=\"row_heading level0 row2\" >2</th>\n",
              "      <td id=\"T_ce598_row2_col0\" class=\"data row2 col0\" >1695.7549</td>\n",
              "      <td id=\"T_ce598_row2_col1\" class=\"data row2 col1\" >5279329.7646</td>\n",
              "      <td id=\"T_ce598_row2_col2\" class=\"data row2 col2\" >2297.6792</td>\n",
              "      <td id=\"T_ce598_row2_col3\" class=\"data row2 col3\" >0.9516</td>\n",
              "      <td id=\"T_ce598_row2_col4\" class=\"data row2 col4\" >0.2364</td>\n",
              "      <td id=\"T_ce598_row2_col5\" class=\"data row2 col5\" >0.1990</td>\n",
              "    </tr>\n",
              "    <tr>\n",
              "      <th id=\"T_ce598_level0_row3\" class=\"row_heading level0 row3\" >3</th>\n",
              "      <td id=\"T_ce598_row3_col0\" class=\"data row3 col0\" >1651.4778</td>\n",
              "      <td id=\"T_ce598_row3_col1\" class=\"data row3 col1\" >4882819.6043</td>\n",
              "      <td id=\"T_ce598_row3_col2\" class=\"data row3 col2\" >2209.7103</td>\n",
              "      <td id=\"T_ce598_row3_col3\" class=\"data row3 col3\" >0.9461</td>\n",
              "      <td id=\"T_ce598_row3_col4\" class=\"data row3 col4\" >0.2128</td>\n",
              "      <td id=\"T_ce598_row3_col5\" class=\"data row3 col5\" >0.1760</td>\n",
              "    </tr>\n",
              "    <tr>\n",
              "      <th id=\"T_ce598_level0_row4\" class=\"row_heading level0 row4\" >4</th>\n",
              "      <td id=\"T_ce598_row4_col0\" class=\"data row4 col0\" >1702.9998</td>\n",
              "      <td id=\"T_ce598_row4_col1\" class=\"data row4 col1\" >6187406.3738</td>\n",
              "      <td id=\"T_ce598_row4_col2\" class=\"data row4 col2\" >2487.4498</td>\n",
              "      <td id=\"T_ce598_row4_col3\" class=\"data row4 col3\" >0.9228</td>\n",
              "      <td id=\"T_ce598_row4_col4\" class=\"data row4 col4\" >0.2303</td>\n",
              "      <td id=\"T_ce598_row4_col5\" class=\"data row4 col5\" >0.1932</td>\n",
              "    </tr>\n",
              "    <tr>\n",
              "      <th id=\"T_ce598_level0_row5\" class=\"row_heading level0 row5\" >5</th>\n",
              "      <td id=\"T_ce598_row5_col0\" class=\"data row5 col0\" >1733.3395</td>\n",
              "      <td id=\"T_ce598_row5_col1\" class=\"data row5 col1\" >7181096.3976</td>\n",
              "      <td id=\"T_ce598_row5_col2\" class=\"data row5 col2\" >2679.7568</td>\n",
              "      <td id=\"T_ce598_row5_col3\" class=\"data row5 col3\" >0.9387</td>\n",
              "      <td id=\"T_ce598_row5_col4\" class=\"data row5 col4\" >0.2189</td>\n",
              "      <td id=\"T_ce598_row5_col5\" class=\"data row5 col5\" >0.1857</td>\n",
              "    </tr>\n",
              "    <tr>\n",
              "      <th id=\"T_ce598_level0_row6\" class=\"row_heading level0 row6\" >6</th>\n",
              "      <td id=\"T_ce598_row6_col0\" class=\"data row6 col0\" >1802.1759</td>\n",
              "      <td id=\"T_ce598_row6_col1\" class=\"data row6 col1\" >7521631.1279</td>\n",
              "      <td id=\"T_ce598_row6_col2\" class=\"data row6 col2\" >2742.5592</td>\n",
              "      <td id=\"T_ce598_row6_col3\" class=\"data row6 col3\" >0.9293</td>\n",
              "      <td id=\"T_ce598_row6_col4\" class=\"data row6 col4\" >0.2294</td>\n",
              "      <td id=\"T_ce598_row6_col5\" class=\"data row6 col5\" >0.1851</td>\n",
              "    </tr>\n",
              "    <tr>\n",
              "      <th id=\"T_ce598_level0_row7\" class=\"row_heading level0 row7\" >7</th>\n",
              "      <td id=\"T_ce598_row7_col0\" class=\"data row7 col0\" >1252.0478</td>\n",
              "      <td id=\"T_ce598_row7_col1\" class=\"data row7 col1\" >3454274.0051</td>\n",
              "      <td id=\"T_ce598_row7_col2\" class=\"data row7 col2\" >1858.5677</td>\n",
              "      <td id=\"T_ce598_row7_col3\" class=\"data row7 col3\" >0.9563</td>\n",
              "      <td id=\"T_ce598_row7_col4\" class=\"data row7 col4\" >0.1907</td>\n",
              "      <td id=\"T_ce598_row7_col5\" class=\"data row7 col5\" >0.1472</td>\n",
              "    </tr>\n",
              "    <tr>\n",
              "      <th id=\"T_ce598_level0_row8\" class=\"row_heading level0 row8\" >8</th>\n",
              "      <td id=\"T_ce598_row8_col0\" class=\"data row8 col0\" >1664.8319</td>\n",
              "      <td id=\"T_ce598_row8_col1\" class=\"data row8 col1\" >8028096.9159</td>\n",
              "      <td id=\"T_ce598_row8_col2\" class=\"data row8 col2\" >2833.3897</td>\n",
              "      <td id=\"T_ce598_row8_col3\" class=\"data row8 col3\" >0.9212</td>\n",
              "      <td id=\"T_ce598_row8_col4\" class=\"data row8 col4\" >0.2229</td>\n",
              "      <td id=\"T_ce598_row8_col5\" class=\"data row8 col5\" >0.1812</td>\n",
              "    </tr>\n",
              "    <tr>\n",
              "      <th id=\"T_ce598_level0_row9\" class=\"row_heading level0 row9\" >9</th>\n",
              "      <td id=\"T_ce598_row9_col0\" class=\"data row9 col0\" >1671.0769</td>\n",
              "      <td id=\"T_ce598_row9_col1\" class=\"data row9 col1\" >5690349.7583</td>\n",
              "      <td id=\"T_ce598_row9_col2\" class=\"data row9 col2\" >2385.4454</td>\n",
              "      <td id=\"T_ce598_row9_col3\" class=\"data row9 col3\" >0.9458</td>\n",
              "      <td id=\"T_ce598_row9_col4\" class=\"data row9 col4\" >0.2422</td>\n",
              "      <td id=\"T_ce598_row9_col5\" class=\"data row9 col5\" >0.2033</td>\n",
              "    </tr>\n",
              "    <tr>\n",
              "      <th id=\"T_ce598_level0_row10\" class=\"row_heading level0 row10\" >Mean</th>\n",
              "      <td id=\"T_ce598_row10_col0\" class=\"data row10 col0\" >1669.9660</td>\n",
              "      <td id=\"T_ce598_row10_col1\" class=\"data row10 col1\" >6375439.5238</td>\n",
              "      <td id=\"T_ce598_row10_col2\" class=\"data row10 col2\" >2500.3723</td>\n",
              "      <td id=\"T_ce598_row10_col3\" class=\"data row10 col3\" >0.9375</td>\n",
              "      <td id=\"T_ce598_row10_col4\" class=\"data row10 col4\" >0.2240</td>\n",
              "      <td id=\"T_ce598_row10_col5\" class=\"data row10 col5\" >0.1847</td>\n",
              "    </tr>\n",
              "    <tr>\n",
              "      <th id=\"T_ce598_level0_row11\" class=\"row_heading level0 row11\" >Std</th>\n",
              "      <td id=\"T_ce598_row11_col0\" class=\"data row11 col0\" >151.6411</td>\n",
              "      <td id=\"T_ce598_row11_col1\" class=\"data row11 col1\" >1782241.8952</td>\n",
              "      <td id=\"T_ce598_row11_col2\" class=\"data row11 col2\" >351.5362</td>\n",
              "      <td id=\"T_ce598_row11_col3\" class=\"data row11 col3\" >0.0121</td>\n",
              "      <td id=\"T_ce598_row11_col4\" class=\"data row11 col4\" >0.0136</td>\n",
              "      <td id=\"T_ce598_row11_col5\" class=\"data row11 col5\" >0.0147</td>\n",
              "    </tr>\n",
              "  </tbody>\n",
              "</table>\n"
            ],
            "text/plain": [
              "<pandas.io.formats.style.Styler at 0x18d13206130>"
            ]
          },
          "metadata": {},
          "output_type": "display_data"
        },
        {
          "data": {
            "text/html": [],
            "text/plain": [
              "<IPython.core.display.HTML object>"
            ]
          },
          "metadata": {},
          "output_type": "display_data"
        }
      ],
      "source": [
        "lightgbm = create_model('lightgbm')"
      ]
    },
    {
      "cell_type": "markdown",
      "source": [
        "##### **Tuning the LightGBM Model**  \n",
        "Now that we have created the **LightGBM model**, we will fine-tune its **hyperparameters** for better performance.  \n",
        "We define a **custom hyperparameter grid** to optimize the model.\n",
        "\n",
        "**What Happens in This Step?**  \n",
        "- We specify a **range of values** for key LightGBM hyperparameters.  \n",
        "- PyCaret will **test different hyperparameter combinations** to find the best configuration.  \n",
        "- This improves **model accuracy and reduces error**.  \n",
        "\n",
        "🔽 **Run the following code to tune the LightGBM model:**  \n"
      ],
      "metadata": {
        "id": "HEWB4NDk0Zwy"
      },
      "id": "HEWB4NDk0Zwy"
    },
    {
      "cell_type": "code",
      "execution_count": null,
      "id": "520c2858",
      "metadata": {
        "id": "520c2858",
        "outputId": "30f90546-b7f5-4b3f-9057-c29e8f8e0360"
      },
      "outputs": [
        {
          "data": {
            "text/html": [],
            "text/plain": [
              "<IPython.core.display.HTML object>"
            ]
          },
          "metadata": {},
          "output_type": "display_data"
        },
        {
          "data": {
            "text/html": [
              "<style type=\"text/css\">\n",
              "#T_28504_row10_col0, #T_28504_row10_col1, #T_28504_row10_col2, #T_28504_row10_col3, #T_28504_row10_col4, #T_28504_row10_col5 {\n",
              "  background: yellow;\n",
              "}\n",
              "</style>\n",
              "<table id=\"T_28504\">\n",
              "  <thead>\n",
              "    <tr>\n",
              "      <th class=\"blank level0\" >&nbsp;</th>\n",
              "      <th id=\"T_28504_level0_col0\" class=\"col_heading level0 col0\" >MAE</th>\n",
              "      <th id=\"T_28504_level0_col1\" class=\"col_heading level0 col1\" >MSE</th>\n",
              "      <th id=\"T_28504_level0_col2\" class=\"col_heading level0 col2\" >RMSE</th>\n",
              "      <th id=\"T_28504_level0_col3\" class=\"col_heading level0 col3\" >R2</th>\n",
              "      <th id=\"T_28504_level0_col4\" class=\"col_heading level0 col4\" >RMSLE</th>\n",
              "      <th id=\"T_28504_level0_col5\" class=\"col_heading level0 col5\" >MAPE</th>\n",
              "    </tr>\n",
              "    <tr>\n",
              "      <th class=\"index_name level0\" >Fold</th>\n",
              "      <th class=\"blank col0\" >&nbsp;</th>\n",
              "      <th class=\"blank col1\" >&nbsp;</th>\n",
              "      <th class=\"blank col2\" >&nbsp;</th>\n",
              "      <th class=\"blank col3\" >&nbsp;</th>\n",
              "      <th class=\"blank col4\" >&nbsp;</th>\n",
              "      <th class=\"blank col5\" >&nbsp;</th>\n",
              "    </tr>\n",
              "  </thead>\n",
              "  <tbody>\n",
              "    <tr>\n",
              "      <th id=\"T_28504_level0_row0\" class=\"row_heading level0 row0\" >0</th>\n",
              "      <td id=\"T_28504_row0_col0\" class=\"data row0 col0\" >1747.1811</td>\n",
              "      <td id=\"T_28504_row0_col1\" class=\"data row0 col1\" >6489691.9362</td>\n",
              "      <td id=\"T_28504_row0_col2\" class=\"data row0 col2\" >2547.4874</td>\n",
              "      <td id=\"T_28504_row0_col3\" class=\"data row0 col3\" >0.9288</td>\n",
              "      <td id=\"T_28504_row0_col4\" class=\"data row0 col4\" >0.2351</td>\n",
              "      <td id=\"T_28504_row0_col5\" class=\"data row0 col5\" >0.1893</td>\n",
              "    </tr>\n",
              "    <tr>\n",
              "      <th id=\"T_28504_level0_row1\" class=\"row_heading level0 row1\" >1</th>\n",
              "      <td id=\"T_28504_row1_col0\" class=\"data row1 col0\" >1890.9498</td>\n",
              "      <td id=\"T_28504_row1_col1\" class=\"data row1 col1\" >10012657.9404</td>\n",
              "      <td id=\"T_28504_row1_col2\" class=\"data row1 col2\" >3164.2784</td>\n",
              "      <td id=\"T_28504_row1_col3\" class=\"data row1 col3\" >0.9233</td>\n",
              "      <td id=\"T_28504_row1_col4\" class=\"data row1 col4\" >0.2387</td>\n",
              "      <td id=\"T_28504_row1_col5\" class=\"data row1 col5\" >0.1963</td>\n",
              "    </tr>\n",
              "    <tr>\n",
              "      <th id=\"T_28504_level0_row2\" class=\"row_heading level0 row2\" >2</th>\n",
              "      <td id=\"T_28504_row2_col0\" class=\"data row2 col0\" >1800.4001</td>\n",
              "      <td id=\"T_28504_row2_col1\" class=\"data row2 col1\" >6727290.4299</td>\n",
              "      <td id=\"T_28504_row2_col2\" class=\"data row2 col2\" >2593.7021</td>\n",
              "      <td id=\"T_28504_row2_col3\" class=\"data row2 col3\" >0.9383</td>\n",
              "      <td id=\"T_28504_row2_col4\" class=\"data row2 col4\" >0.2445</td>\n",
              "      <td id=\"T_28504_row2_col5\" class=\"data row2 col5\" >0.2045</td>\n",
              "    </tr>\n",
              "    <tr>\n",
              "      <th id=\"T_28504_level0_row3\" class=\"row_heading level0 row3\" >3</th>\n",
              "      <td id=\"T_28504_row3_col0\" class=\"data row3 col0\" >1718.9411</td>\n",
              "      <td id=\"T_28504_row3_col1\" class=\"data row3 col1\" >5526729.4912</td>\n",
              "      <td id=\"T_28504_row3_col2\" class=\"data row3 col2\" >2350.8997</td>\n",
              "      <td id=\"T_28504_row3_col3\" class=\"data row3 col3\" >0.9390</td>\n",
              "      <td id=\"T_28504_row3_col4\" class=\"data row3 col4\" >0.2198</td>\n",
              "      <td id=\"T_28504_row3_col5\" class=\"data row3 col5\" >0.1802</td>\n",
              "    </tr>\n",
              "    <tr>\n",
              "      <th id=\"T_28504_level0_row4\" class=\"row_heading level0 row4\" >4</th>\n",
              "      <td id=\"T_28504_row4_col0\" class=\"data row4 col0\" >1770.0638</td>\n",
              "      <td id=\"T_28504_row4_col1\" class=\"data row4 col1\" >7082823.4482</td>\n",
              "      <td id=\"T_28504_row4_col2\" class=\"data row4 col2\" >2661.3574</td>\n",
              "      <td id=\"T_28504_row4_col3\" class=\"data row4 col3\" >0.9117</td>\n",
              "      <td id=\"T_28504_row4_col4\" class=\"data row4 col4\" >0.2387</td>\n",
              "      <td id=\"T_28504_row4_col5\" class=\"data row4 col5\" >0.1983</td>\n",
              "    </tr>\n",
              "    <tr>\n",
              "      <th id=\"T_28504_level0_row5\" class=\"row_heading level0 row5\" >5</th>\n",
              "      <td id=\"T_28504_row5_col0\" class=\"data row5 col0\" >1768.6026</td>\n",
              "      <td id=\"T_28504_row5_col1\" class=\"data row5 col1\" >7165728.8317</td>\n",
              "      <td id=\"T_28504_row5_col2\" class=\"data row5 col2\" >2676.8879</td>\n",
              "      <td id=\"T_28504_row5_col3\" class=\"data row5 col3\" >0.9388</td>\n",
              "      <td id=\"T_28504_row5_col4\" class=\"data row5 col4\" >0.2274</td>\n",
              "      <td id=\"T_28504_row5_col5\" class=\"data row5 col5\" >0.1920</td>\n",
              "    </tr>\n",
              "    <tr>\n",
              "      <th id=\"T_28504_level0_row6\" class=\"row_heading level0 row6\" >6</th>\n",
              "      <td id=\"T_28504_row6_col0\" class=\"data row6 col0\" >1918.8357</td>\n",
              "      <td id=\"T_28504_row6_col1\" class=\"data row6 col1\" >9478762.9376</td>\n",
              "      <td id=\"T_28504_row6_col2\" class=\"data row6 col2\" >3078.7600</td>\n",
              "      <td id=\"T_28504_row6_col3\" class=\"data row6 col3\" >0.9109</td>\n",
              "      <td id=\"T_28504_row6_col4\" class=\"data row6 col4\" >0.2389</td>\n",
              "      <td id=\"T_28504_row6_col5\" class=\"data row6 col5\" >0.1896</td>\n",
              "    </tr>\n",
              "    <tr>\n",
              "      <th id=\"T_28504_level0_row7\" class=\"row_heading level0 row7\" >7</th>\n",
              "      <td id=\"T_28504_row7_col0\" class=\"data row7 col0\" >1305.5242</td>\n",
              "      <td id=\"T_28504_row7_col1\" class=\"data row7 col1\" >3883980.5777</td>\n",
              "      <td id=\"T_28504_row7_col2\" class=\"data row7 col2\" >1970.7817</td>\n",
              "      <td id=\"T_28504_row7_col3\" class=\"data row7 col3\" >0.9509</td>\n",
              "      <td id=\"T_28504_row7_col4\" class=\"data row7 col4\" >0.1963</td>\n",
              "      <td id=\"T_28504_row7_col5\" class=\"data row7 col5\" >0.1503</td>\n",
              "    </tr>\n",
              "    <tr>\n",
              "      <th id=\"T_28504_level0_row8\" class=\"row_heading level0 row8\" >8</th>\n",
              "      <td id=\"T_28504_row8_col0\" class=\"data row8 col0\" >1818.5610</td>\n",
              "      <td id=\"T_28504_row8_col1\" class=\"data row8 col1\" >9427799.9653</td>\n",
              "      <td id=\"T_28504_row8_col2\" class=\"data row8 col2\" >3070.4723</td>\n",
              "      <td id=\"T_28504_row8_col3\" class=\"data row8 col3\" >0.9074</td>\n",
              "      <td id=\"T_28504_row8_col4\" class=\"data row8 col4\" >0.2324</td>\n",
              "      <td id=\"T_28504_row8_col5\" class=\"data row8 col5\" >0.1882</td>\n",
              "    </tr>\n",
              "    <tr>\n",
              "      <th id=\"T_28504_level0_row9\" class=\"row_heading level0 row9\" >9</th>\n",
              "      <td id=\"T_28504_row9_col0\" class=\"data row9 col0\" >1793.2297</td>\n",
              "      <td id=\"T_28504_row9_col1\" class=\"data row9 col1\" >7201641.0199</td>\n",
              "      <td id=\"T_28504_row9_col2\" class=\"data row9 col2\" >2683.5873</td>\n",
              "      <td id=\"T_28504_row9_col3\" class=\"data row9 col3\" >0.9314</td>\n",
              "      <td id=\"T_28504_row9_col4\" class=\"data row9 col4\" >0.2516</td>\n",
              "      <td id=\"T_28504_row9_col5\" class=\"data row9 col5\" >0.2093</td>\n",
              "    </tr>\n",
              "    <tr>\n",
              "      <th id=\"T_28504_level0_row10\" class=\"row_heading level0 row10\" >Mean</th>\n",
              "      <td id=\"T_28504_row10_col0\" class=\"data row10 col0\" >1753.2289</td>\n",
              "      <td id=\"T_28504_row10_col1\" class=\"data row10 col1\" >7299710.6578</td>\n",
              "      <td id=\"T_28504_row10_col2\" class=\"data row10 col2\" >2679.8214</td>\n",
              "      <td id=\"T_28504_row10_col3\" class=\"data row10 col3\" >0.9281</td>\n",
              "      <td id=\"T_28504_row10_col4\" class=\"data row10 col4\" >0.2323</td>\n",
              "      <td id=\"T_28504_row10_col5\" class=\"data row10 col5\" >0.1898</td>\n",
              "    </tr>\n",
              "    <tr>\n",
              "      <th id=\"T_28504_level0_row11\" class=\"row_heading level0 row11\" >Std</th>\n",
              "      <td id=\"T_28504_row11_col0\" class=\"data row11 col0\" >160.2054</td>\n",
              "      <td id=\"T_28504_row11_col1\" class=\"data row11 col1\" >1802947.4254</td>\n",
              "      <td id=\"T_28504_row11_col2\" class=\"data row11 col2\" >343.9009</td>\n",
              "      <td id=\"T_28504_row11_col3\" class=\"data row11 col3\" >0.0137</td>\n",
              "      <td id=\"T_28504_row11_col4\" class=\"data row11 col4\" >0.0146</td>\n",
              "      <td id=\"T_28504_row11_col5\" class=\"data row11 col5\" >0.0154</td>\n",
              "    </tr>\n",
              "  </tbody>\n",
              "</table>\n"
            ],
            "text/plain": [
              "<pandas.io.formats.style.Styler at 0x18d1327fc10>"
            ]
          },
          "metadata": {},
          "output_type": "display_data"
        },
        {
          "data": {
            "text/html": [],
            "text/plain": [
              "<IPython.core.display.HTML object>"
            ]
          },
          "metadata": {},
          "output_type": "display_data"
        },
        {
          "name": "stdout",
          "output_type": "stream",
          "text": [
            "Fitting 10 folds for each of 10 candidates, totalling 100 fits\n",
            "Original model was better than the tuned model, hence it will be returned. NOTE: The display metrics are for the tuned model (not the original one).\n"
          ]
        }
      ],
      "source": [
        "import numpy as np\n",
        "lgbm_params = {'num_leaves': np.arange(10,200,10),\n",
        "                        'max_depth': [int(x) for x in np.linspace(10, 110, num = 11)],\n",
        "                        'learning_rate': np.arange(0.1,1,0.1)\n",
        "                        }\n",
        "\n",
        "tuned_lightgbm = tune_model(lightgbm,\n",
        "                            custom_grid = lgbm_params)"
      ]
    },
    {
      "cell_type": "markdown",
      "source": [
        "##### **Checking the Residuals of the Trained Model**  \n",
        "Residuals help us **analyze the difference** between actual and predicted values.  \n",
        "A good model should have **residuals randomly distributed around zero**.\n",
        "\n",
        "**What Happens in This Step?**  \n",
        "- We visualize the **residuals (errors) of the model**.  \n",
        "- A **random distribution of residuals** indicates a well-fitted model.  \n",
        "- Patterns in residuals suggest **model biases** or missing features.  \n",
        "\n",
        "🔽 **Run the following code to check the residuals:**  "
      ],
      "metadata": {
        "id": "EssXT-4h1XYJ"
      },
      "id": "EssXT-4h1XYJ"
    },
    {
      "cell_type": "code",
      "execution_count": null,
      "id": "5ea81bea",
      "metadata": {
        "id": "5ea81bea",
        "colab": {
          "referenced_widgets": [
            "1af7aca2578140149e0322bb4726f66b"
          ]
        },
        "outputId": "6a462d17-5ba7-453e-e83d-61b1dbe53a0d"
      },
      "outputs": [
        {
          "data": {
            "text/html": [],
            "text/plain": [
              "<IPython.core.display.HTML object>"
            ]
          },
          "metadata": {},
          "output_type": "display_data"
        },
        {
          "data": {
            "application/vnd.jupyter.widget-view+json": {
              "model_id": "1af7aca2578140149e0322bb4726f66b",
              "version_major": 2,
              "version_minor": 0
            },
            "text/plain": [
              "VBox(children=(HBox(children=(TukeyAnscombeWidget({\n",
              "    'data': [{'hovertemplate': 'Split=train<br>Predictions…"
            ]
          },
          "metadata": {},
          "output_type": "display_data"
        }
      ],
      "source": [
        "# check the residuals of trained model\n",
        "plot_model(tuned_best, plot = 'residuals_interactive')"
      ]
    },
    {
      "cell_type": "markdown",
      "source": [
        "##### **Checking Feature Importance**  \n",
        "Feature importance helps us understand **which variables have the most impact** on predictions.  \n",
        "A model assigns higher importance to features that contribute more to **reducing prediction error**.\n",
        "\n",
        "**What Happens in This Step?**  \n",
        "- We visualize the **importance of each feature** in the model.  \n",
        "- Higher values indicate **stronger influence** on predictions.  \n",
        "- Less important features might be **removed** to simplify the model.\n",
        "\n",
        "🔽 **Run the following code to check feature importance:**  "
      ],
      "metadata": {
        "id": "Un1f_atk2fqH"
      },
      "id": "Un1f_atk2fqH"
    },
    {
      "cell_type": "code",
      "execution_count": null,
      "id": "7cb2030a",
      "metadata": {
        "id": "7cb2030a",
        "outputId": "f21d7c37-1a62-4b3c-f124-9c4e1cc4bd89"
      },
      "outputs": [
        {
          "data": {
            "text/html": [],
            "text/plain": [
              "<IPython.core.display.HTML object>"
            ]
          },
          "metadata": {},
          "output_type": "display_data"
        },
        {
          "data": {
            "image/png": "[encoded data removed]",
            "text/plain": [
              "<Figure size 800x500 with 1 Axes>"
            ]
          },
          "metadata": {},
          "output_type": "display_data"
        }
      ],
      "source": [
        "# check feature importance\n",
        "plot_model(tuned_best, plot = 'feature')"
      ]
    },
    {
      "cell_type": "markdown",
      "source": [
        "##### **Checking Prediction Error**  \n",
        "The **prediction error plot** helps us understand how much the model's predictions deviate from actual values.  \n",
        "A well-performing model should have **small and randomly distributed errors**.\n",
        "\n",
        "**What Happens in This Step?**  \n",
        "- The plot shows the **distribution of prediction errors**.  \n",
        "- It helps identify **bias** (systematic over/under-prediction).  \n",
        "- A **narrow error distribution** means better model performance.\n",
        "\n",
        "🔽 **Run the following code to check prediction error:**  "
      ],
      "metadata": {
        "id": "fgo5BJRB2mHQ"
      },
      "id": "fgo5BJRB2mHQ"
    },
    {
      "cell_type": "code",
      "execution_count": null,
      "id": "1123211e",
      "metadata": {
        "id": "1123211e",
        "outputId": "f66f4b12-13a5-4272-bcf5-a6ada45416a1"
      },
      "outputs": [
        {
          "data": {
            "text/html": [],
            "text/plain": [
              "<IPython.core.display.HTML object>"
            ]
          },
          "metadata": {},
          "output_type": "display_data"
        },
        {
          "data": {
            "image/png": "[encoded data removed]",
            "text/plain": [
              "<Figure size 800x550 with 1 Axes>"
            ]
          },
          "metadata": {},
          "output_type": "display_data"
        }
      ],
      "source": [
        "plot_model(tuned_best, plot = 'error')"
      ]
    },
    {
      "cell_type": "markdown",
      "source": [
        "##### **Evaluating the Tuned Model**  \n",
        "Model evaluation helps us analyze **how well the trained model performs** using different metrics.  \n",
        "PyCaret provides an **interactive dashboard** to review model performance.\n",
        "\n",
        "**What Happens in This Step?**  \n",
        "- PyCaret generates **various evaluation metrics** (R², RMSE, MAE, etc.).  \n",
        "- It provides **visualizations** to analyze model accuracy and errors.  \n",
        "- This step helps in **identifying potential improvements**.\n",
        "\n",
        "🔽 **Run the following code to evaluate the model:**  "
      ],
      "metadata": {
        "id": "3nA4tsPu2sfc"
      },
      "id": "3nA4tsPu2sfc"
    },
    {
      "cell_type": "code",
      "execution_count": null,
      "id": "3748e556",
      "metadata": {
        "id": "3748e556",
        "colab": {
          "referenced_widgets": [
            "29e10af63958489a974e9cc4053842dd"
          ]
        },
        "outputId": "748817d8-ea53-44bc-982b-7a656a17b8a9"
      },
      "outputs": [
        {
          "data": {
            "image/png": "[encoded data removed]",
            "text/plain": [
              "<Figure size 5700x600 with 1 Axes>"
            ]
          },
          "metadata": {},
          "output_type": "display_data"
        },
        {
          "data": {
            "application/vnd.jupyter.widget-view+json": {
              "model_id": "29e10af63958489a974e9cc4053842dd",
              "version_major": 2,
              "version_minor": 0
            },
            "text/plain": [
              "interactive(children=(ToggleButtons(description='Plot Type:', icons=('',), options=(('Pipeline Plot', 'pipelin…"
            ]
          },
          "metadata": {},
          "output_type": "display_data"
        }
      ],
      "source": [
        "evaluate_model(tuned_best)"
      ]
    },
    {
      "cell_type": "markdown",
      "id": "09d11f8e",
      "metadata": {
        "id": "09d11f8e"
      },
      "source": [
        "#### Evaluate model with test data"
      ]
    },
    {
      "cell_type": "markdown",
      "id": "63484aea",
      "metadata": {
        "id": "63484aea"
      },
      "source": [
        "Before finalizing the model, it is recommended to perform a final check by predicting the test set and reviewing the evaluation metrics. All of the evaluation metrics we've seen above are cross-validated results based **only on the training set (70%)**. Now, we are going to use the test data to see if the performance is different and there may be overfitting."
      ]
    },
    {
      "cell_type": "code",
      "execution_count": null,
      "id": "daf14f02",
      "metadata": {
        "id": "daf14f02",
        "outputId": "7d8848a9-f9c9-437a-e507-a514c73740b1"
      },
      "outputs": [
        {
          "data": {
            "text/html": [
              "<style type=\"text/css\">\n",
              "</style>\n",
              "<table id=\"T_5979b\">\n",
              "  <thead>\n",
              "    <tr>\n",
              "      <th class=\"blank level0\" >&nbsp;</th>\n",
              "      <th id=\"T_5979b_level0_col0\" class=\"col_heading level0 col0\" >Model</th>\n",
              "      <th id=\"T_5979b_level0_col1\" class=\"col_heading level0 col1\" >MAE</th>\n",
              "      <th id=\"T_5979b_level0_col2\" class=\"col_heading level0 col2\" >MSE</th>\n",
              "      <th id=\"T_5979b_level0_col3\" class=\"col_heading level0 col3\" >RMSE</th>\n",
              "      <th id=\"T_5979b_level0_col4\" class=\"col_heading level0 col4\" >R2</th>\n",
              "      <th id=\"T_5979b_level0_col5\" class=\"col_heading level0 col5\" >RMSLE</th>\n",
              "      <th id=\"T_5979b_level0_col6\" class=\"col_heading level0 col6\" >MAPE</th>\n",
              "    </tr>\n",
              "  </thead>\n",
              "  <tbody>\n",
              "    <tr>\n",
              "      <th id=\"T_5979b_level0_row0\" class=\"row_heading level0 row0\" >0</th>\n",
              "      <td id=\"T_5979b_row0_col0\" class=\"data row0 col0\" >Light Gradient Boosting Machine</td>\n",
              "      <td id=\"T_5979b_row0_col1\" class=\"data row0 col1\" >1663.0680</td>\n",
              "      <td id=\"T_5979b_row0_col2\" class=\"data row0 col2\" >5695398.9005</td>\n",
              "      <td id=\"T_5979b_row0_col3\" class=\"data row0 col3\" >2386.5035</td>\n",
              "      <td id=\"T_5979b_row0_col4\" class=\"data row0 col4\" >0.9481</td>\n",
              "      <td id=\"T_5979b_row0_col5\" class=\"data row0 col5\" >0.2233</td>\n",
              "      <td id=\"T_5979b_row0_col6\" class=\"data row0 col6\" >0.1835</td>\n",
              "    </tr>\n",
              "  </tbody>\n",
              "</table>\n"
            ],
            "text/plain": [
              "<pandas.io.formats.style.Styler at 0x18d20663910>"
            ]
          },
          "metadata": {},
          "output_type": "display_data"
        }
      ],
      "source": [
        "predict_model(tuned_best);"
      ]
    },
    {
      "cell_type": "markdown",
      "id": "bdb67afd",
      "metadata": {
        "id": "bdb67afd"
      },
      "source": [
        "##### **Making Predictions on the Test Data**  \n",
        "After training and evaluating the model, we use it to **make predictions** on new data.  \n",
        "This step helps us see how well the model performs on **unseen data**.\n",
        "\n",
        "**What Happens in This Step?**  \n",
        "- The model predicts **diamond prices** for the test dataset.  \n",
        "- PyCaret automatically adds a **prediction column** to the dataset.  \n",
        "- We can compare **actual vs. predicted values**.\n",
        "\n",
        "🔽 **Run the following code to make predictions:**  "
      ]
    },
    {
      "cell_type": "code",
      "execution_count": null,
      "id": "aaea49b9",
      "metadata": {
        "id": "aaea49b9",
        "outputId": "f8f98fec-ce38-4b27-f558-1fa0e62d16d5"
      },
      "outputs": [
        {
          "name": "stdout",
          "output_type": "stream",
          "text": [
            "Transformation Pipeline and Model Successfully Saved\n"
          ]
        },
        {
          "data": {
            "text/plain": [
              "(Pipeline(memory=Memory(location=None),\n",
              "          steps=[('target_transformation',\n",
              "                  TransformerWrapperWithInverse(transformer=TargetTransformer(estimator=PowerTransformer(standardize=False)))),\n",
              "                 ('numerical_imputer',\n",
              "                  TransformerWrapper(include=['Carat Weight'],\n",
              "                                     transformer=SimpleImputer())),\n",
              "                 ('categorical_imputer',\n",
              "                  TransformerWrapper(include=['Cut', 'Color', 'Clarity',\n",
              "                                              'P...\n",
              "                                     transformer=KBinsDiscretizer(encode='ordinal',\n",
              "                                                                  strategy='kmeans'))),\n",
              "                 ('transformation',\n",
              "                  TransformerWrapper(transformer=PowerTransformer(standardize=False))),\n",
              "                 ('normalize', TransformerWrapper(transformer=StandardScaler())),\n",
              "                 ('clean_column_names',\n",
              "                  TransformerWrapper(transformer=CleanColumnNames())),\n",
              "                 ('actual_estimator',\n",
              "                  LGBMRegressor(n_jobs=-1, random_state=123))]),\n",
              " 'diamond-pipeline.pkl')"
            ]
          },
          "execution_count": 25,
          "metadata": {},
          "output_type": "execute_result"
        }
      ],
      "source": [
        "# finalize the model\n",
        "final_best = finalize_model(tuned_best)\n",
        "\n",
        "# save model to disk\n",
        "save_model(final_best, 'diamond-pipeline')"
      ]
    },
    {
      "cell_type": "markdown",
      "id": "0ce10376",
      "metadata": {
        "id": "0ce10376"
      },
      "source": [
        "##### **Making Predictions on Unseen Data**  \n",
        "Now, we will use the **trained model** to predict diamond prices for **completely unseen data**.  \n",
        "This step helps us evaluate how well the model generalizes to **new, real-world data**.\n",
        "\n",
        "**What Happens in This Step?**  \n",
        "- The model predicts **diamond prices** for the **unseen test dataset** (`data_unseen`).  \n",
        "- PyCaret adds a **\"Label\" column** containing the predicted values.  \n",
        "- We can compare **actual vs. predicted prices** for performance evaluation.\n",
        "\n",
        "🔽 **Run the following code to make predictions on unseen data:**  \n"
      ]
    },
    {
      "cell_type": "code",
      "execution_count": null,
      "id": "63fcc50e",
      "metadata": {
        "id": "63fcc50e",
        "scrolled": true,
        "outputId": "042d2bd4-358c-46fe-ee96-ce1fc28ceb21"
      },
      "outputs": [
        {
          "data": {
            "text/html": [
              "<style type=\"text/css\">\n",
              "</style>\n",
              "<table id=\"T_1a9da\">\n",
              "  <thead>\n",
              "    <tr>\n",
              "      <th class=\"blank level0\" >&nbsp;</th>\n",
              "      <th id=\"T_1a9da_level0_col0\" class=\"col_heading level0 col0\" >Model</th>\n",
              "      <th id=\"T_1a9da_level0_col1\" class=\"col_heading level0 col1\" >MAE</th>\n",
              "      <th id=\"T_1a9da_level0_col2\" class=\"col_heading level0 col2\" >MSE</th>\n",
              "      <th id=\"T_1a9da_level0_col3\" class=\"col_heading level0 col3\" >RMSE</th>\n",
              "      <th id=\"T_1a9da_level0_col4\" class=\"col_heading level0 col4\" >R2</th>\n",
              "      <th id=\"T_1a9da_level0_col5\" class=\"col_heading level0 col5\" >RMSLE</th>\n",
              "      <th id=\"T_1a9da_level0_col6\" class=\"col_heading level0 col6\" >MAPE</th>\n",
              "    </tr>\n",
              "  </thead>\n",
              "  <tbody>\n",
              "    <tr>\n",
              "      <th id=\"T_1a9da_level0_row0\" class=\"row_heading level0 row0\" >0</th>\n",
              "      <td id=\"T_1a9da_row0_col0\" class=\"data row0 col0\" >Light Gradient Boosting Machine</td>\n",
              "      <td id=\"T_1a9da_row0_col1\" class=\"data row0 col1\" >1707.3372</td>\n",
              "      <td id=\"T_1a9da_row0_col2\" class=\"data row0 col2\" >6413577.3322</td>\n",
              "      <td id=\"T_1a9da_row0_col3\" class=\"data row0 col3\" >2532.5042</td>\n",
              "      <td id=\"T_1a9da_row0_col4\" class=\"data row0 col4\" >0.9377</td>\n",
              "      <td id=\"T_1a9da_row0_col5\" class=\"data row0 col5\" >0.2202</td>\n",
              "      <td id=\"T_1a9da_row0_col6\" class=\"data row0 col6\" >0.1802</td>\n",
              "    </tr>\n",
              "  </tbody>\n",
              "</table>\n"
            ],
            "text/plain": [
              "<pandas.io.formats.style.Styler at 0x18d1284e2b0>"
            ]
          },
          "metadata": {},
          "output_type": "display_data"
        },
        {
          "data": {
            "text/html": [
              "<div>\n",
              "<style scoped>\n",
              "    .dataframe tbody tr th:only-of-type {\n",
              "        vertical-align: middle;\n",
              "    }\n",
              "\n",
              "    .dataframe tbody tr th {\n",
              "        vertical-align: top;\n",
              "    }\n",
              "\n",
              "    .dataframe thead th {\n",
              "        text-align: right;\n",
              "    }\n",
              "</style>\n",
              "<table border=\"1\" class=\"dataframe\">\n",
              "  <thead>\n",
              "    <tr style=\"text-align: right;\">\n",
              "      <th></th>\n",
              "      <th>Carat Weight</th>\n",
              "      <th>Cut</th>\n",
              "      <th>Color</th>\n",
              "      <th>Clarity</th>\n",
              "      <th>Polish</th>\n",
              "      <th>Symmetry</th>\n",
              "      <th>Report</th>\n",
              "      <th>Price</th>\n",
              "      <th>prediction_label</th>\n",
              "    </tr>\n",
              "  </thead>\n",
              "  <tbody>\n",
              "    <tr>\n",
              "      <th>0</th>\n",
              "      <td>1.53</td>\n",
              "      <td>Ideal</td>\n",
              "      <td>E</td>\n",
              "      <td>SI1</td>\n",
              "      <td>ID</td>\n",
              "      <td>ID</td>\n",
              "      <td>AGSL</td>\n",
              "      <td>12791</td>\n",
              "      <td>10512.192162</td>\n",
              "    </tr>\n",
              "    <tr>\n",
              "      <th>1</th>\n",
              "      <td>1.50</td>\n",
              "      <td>Fair</td>\n",
              "      <td>F</td>\n",
              "      <td>SI1</td>\n",
              "      <td>VG</td>\n",
              "      <td>VG</td>\n",
              "      <td>GIA</td>\n",
              "      <td>10450</td>\n",
              "      <td>10658.978702</td>\n",
              "    </tr>\n",
              "    <tr>\n",
              "      <th>2</th>\n",
              "      <td>1.01</td>\n",
              "      <td>Good</td>\n",
              "      <td>E</td>\n",
              "      <td>SI1</td>\n",
              "      <td>G</td>\n",
              "      <td>G</td>\n",
              "      <td>GIA</td>\n",
              "      <td>5161</td>\n",
              "      <td>4679.748196</td>\n",
              "    </tr>\n",
              "    <tr>\n",
              "      <th>3</th>\n",
              "      <td>2.51</td>\n",
              "      <td>Very Good</td>\n",
              "      <td>G</td>\n",
              "      <td>VS2</td>\n",
              "      <td>VG</td>\n",
              "      <td>VG</td>\n",
              "      <td>GIA</td>\n",
              "      <td>34361</td>\n",
              "      <td>33204.129546</td>\n",
              "    </tr>\n",
              "    <tr>\n",
              "      <th>4</th>\n",
              "      <td>1.01</td>\n",
              "      <td>Good</td>\n",
              "      <td>I</td>\n",
              "      <td>SI1</td>\n",
              "      <td>VG</td>\n",
              "      <td>VG</td>\n",
              "      <td>GIA</td>\n",
              "      <td>4238</td>\n",
              "      <td>3804.655310</td>\n",
              "    </tr>\n",
              "  </tbody>\n",
              "</table>\n",
              "</div>"
            ],
            "text/plain": [
              "   Carat Weight        Cut Color Clarity Polish Symmetry Report  Price  \\\n",
              "0          1.53      Ideal     E     SI1     ID       ID   AGSL  12791   \n",
              "1          1.50       Fair     F     SI1     VG       VG    GIA  10450   \n",
              "2          1.01       Good     E     SI1      G        G    GIA   5161   \n",
              "3          2.51  Very Good     G     VS2     VG       VG    GIA  34361   \n",
              "4          1.01       Good     I     SI1     VG       VG    GIA   4238   \n",
              "\n",
              "   prediction_label  \n",
              "0      10512.192162  \n",
              "1      10658.978702  \n",
              "2       4679.748196  \n",
              "3      33204.129546  \n",
              "4       3804.655310  "
            ]
          },
          "execution_count": 27,
          "metadata": {},
          "output_type": "execute_result"
        }
      ],
      "source": [
        "unseen_predictions = predict_model(final_best, data=data_unseen)\n",
        "unseen_predictions.head()"
      ]
    },
    {
      "cell_type": "markdown",
      "source": [
        "##### **Evaluating Model Performance Using R² Score**  \n",
        "Now, we will calculate the **R² Score (Coefficient of Determination)** to measure how well our model predicts unseen data.  \n",
        "The **R² Score** indicates how much variance in the target variable is explained by the model.\n",
        "\n",
        "**What Happens in This Step?**  \n",
        "- We compare the **actual** and **predicted** values for unseen data.  \n",
        "- A higher **R² Score (closer to 1.0)** means better predictions.  \n",
        "- A lower score (closer to 0) means the model **does not explain the variance well**.\n",
        "\n",
        "🔽 **Run the following code to calculate the R² Score:**  "
      ],
      "metadata": {
        "id": "VF1SroU63uFd"
      },
      "id": "VF1SroU63uFd"
    },
    {
      "cell_type": "code",
      "execution_count": null,
      "id": "795237ad",
      "metadata": {
        "id": "795237ad",
        "outputId": "3675005b-ae6e-4038-c71a-b80522967522"
      },
      "outputs": [
        {
          "name": "stdout",
          "output_type": "stream",
          "text": [
            "R2 Score: 0.9376524035521808\n"
          ]
        }
      ],
      "source": [
        "from sklearn.metrics import r2_score\n",
        "\n",
        "# Using the correct column names for actual and predicted values\n",
        "r2 = r2_score(unseen_predictions['Price'], unseen_predictions['prediction_label'])\n",
        "print(f'R2 Score: {r2}')\n"
      ]
    },
    {
      "cell_type": "code",
      "execution_count": null,
      "id": "a4ea7986",
      "metadata": {
        "id": "a4ea7986"
      },
      "outputs": [],
      "source": []
    },
    {
      "cell_type": "code",
      "execution_count": null,
      "id": "5cc8e317",
      "metadata": {
        "id": "5cc8e317"
      },
      "outputs": [],
      "source": []
    }
  ],
  "metadata": {
    "colab": {
      "provenance": []
    },
    "kernelspec": {
      "display_name": "Python 3.9.13 (PyCaret)",
      "language": "python",
      "name": "pycaret_env"
    },
    "language_info": {
      "codemirror_mode": {
        "name": "ipython",
        "version": 3
      },
      "file_extension": ".py",
      "mimetype": "text/x-python",
      "name": "python",
      "nbconvert_exporter": "python",
      "pygments_lexer": "ipython3",
      "version": "3.9.21"
    },
    "widgets": {
      "application/vnd.jupyter.widget-state+json": {
        "16184e00575a4053a8f4792328c590c4": {
          "model_module": "@jupyter-widgets/base",
          "model_module_version": "1.2.0",
          "model_name": "LayoutModel",
          "state": {
            "_model_module": "@jupyter-widgets/base",
            "_model_module_version": "1.2.0",
            "_model_name": "LayoutModel",
            "_view_count": null,
            "_view_module": "@jupyter-widgets/base",
            "_view_module_version": "1.2.0",
            "_view_name": "LayoutView",
            "align_content": null,
            "align_items": null,
            "align_self": null,
            "border": null,
            "bottom": null,
            "display": null,
            "flex": null,
            "flex_flow": null,
            "grid_area": null,
            "grid_auto_columns": null,
            "grid_auto_flow": null,
            "grid_auto_rows": null,
            "grid_column": null,
            "grid_gap": null,
            "grid_row": null,
            "grid_template_areas": null,
            "grid_template_columns": null,
            "grid_template_rows": null,
            "height": null,
            "justify_content": null,
            "justify_items": null,
            "left": null,
            "margin": null,
            "max_height": null,
            "max_width": null,
            "min_height": null,
            "min_width": null,
            "object_fit": null,
            "object_position": null,
            "order": null,
            "overflow": null,
            "overflow_x": null,
            "overflow_y": null,
            "padding": null,
            "right": null,
            "top": null,
            "visibility": null,
            "width": null
          }
        },
        "234c4a1feee24e4bb130b8e7ccc32dbd": {
          "model_module": "@jupyter-widgets/controls",
          "model_module_version": "1.5.0",
          "model_name": "DescriptionStyleModel",
          "state": {
            "_model_module": "@jupyter-widgets/controls",
            "_model_module_version": "1.5.0",
            "_model_name": "DescriptionStyleModel",
            "_view_count": null,
            "_view_module": "@jupyter-widgets/base",
            "_view_module_version": "1.2.0",
            "_view_name": "StyleView",
            "description_width": ""
          }
        },
        "2de741e5ffeb4c6d81be4ef86d17f389": {
          "model_module": "@jupyter-widgets/base",
          "model_module_version": "1.2.0",
          "model_name": "LayoutModel",
          "state": {
            "_model_module": "@jupyter-widgets/base",
            "_model_module_version": "1.2.0",
            "_model_name": "LayoutModel",
            "_view_count": null,
            "_view_module": "@jupyter-widgets/base",
            "_view_module_version": "1.2.0",
            "_view_name": "LayoutView",
            "align_content": null,
            "align_items": null,
            "align_self": null,
            "border": null,
            "bottom": null,
            "display": null,
            "flex": null,
            "flex_flow": null,
            "grid_area": null,
            "grid_auto_columns": null,
            "grid_auto_flow": null,
            "grid_auto_rows": null,
            "grid_column": null,
            "grid_gap": null,
            "grid_row": null,
            "grid_template_areas": null,
            "grid_template_columns": null,
            "grid_template_rows": null,
            "height": null,
            "justify_content": null,
            "justify_items": null,
            "left": null,
            "margin": null,
            "max_height": null,
            "max_width": null,
            "min_height": null,
            "min_width": null,
            "object_fit": null,
            "object_position": null,
            "order": null,
            "overflow": null,
            "overflow_x": null,
            "overflow_y": null,
            "padding": null,
            "right": null,
            "top": null,
            "visibility": null,
            "width": null
          }
        },
        "3cfa62a7caf14e7ea4cc261af8714d12": {
          "model_module": "@jupyter-widgets/controls",
          "model_module_version": "1.5.0",
          "model_name": "DescriptionStyleModel",
          "state": {
            "_model_module": "@jupyter-widgets/controls",
            "_model_module_version": "1.5.0",
            "_model_name": "DescriptionStyleModel",
            "_view_count": null,
            "_view_module": "@jupyter-widgets/base",
            "_view_module_version": "1.2.0",
            "_view_name": "StyleView",
            "description_width": ""
          }
        },
        "417122de1e7f4f33938b0a509b713f42": {
          "model_module": "@jupyter-widgets/controls",
          "model_module_version": "1.5.0",
          "model_name": "HTMLModel",
          "state": {
            "_dom_classes": [],
            "_model_module": "@jupyter-widgets/controls",
            "_model_module_version": "1.5.0",
            "_model_name": "HTMLModel",
            "_view_count": null,
            "_view_module": "@jupyter-widgets/controls",
            "_view_module_version": "1.5.0",
            "_view_name": "HTMLView",
            "description": "",
            "description_tooltip": null,
            "layout": "IPY_MODEL_16184e00575a4053a8f4792328c590c4",
            "placeholder": "​",
            "style": "IPY_MODEL_5fab4bee2e5c45c7a736e039c8c3f500",
            "value": "Processing:   0%"
          }
        },
        "53eb767e3ec24555b0e1bdb9a3ac667c": {
          "model_module": "@jupyter-widgets/controls",
          "model_module_version": "1.5.0",
          "model_name": "FloatProgressModel",
          "state": {
            "_dom_classes": [],
            "_model_module": "@jupyter-widgets/controls",
            "_model_module_version": "1.5.0",
            "_model_name": "FloatProgressModel",
            "_view_count": null,
            "_view_module": "@jupyter-widgets/controls",
            "_view_module_version": "1.5.0",
            "_view_name": "ProgressView",
            "bar_style": "",
            "description": "",
            "description_tooltip": null,
            "layout": "IPY_MODEL_6fe40fc939694cf5b26f12cbb59fdcf8",
            "max": 77,
            "min": 0,
            "orientation": "horizontal",
            "style": "IPY_MODEL_b7ef9f8bcfbe4376ba502461ee7a1f1c",
            "value": 77
          }
        },
        "5fab4bee2e5c45c7a736e039c8c3f500": {
          "model_module": "@jupyter-widgets/controls",
          "model_module_version": "1.5.0",
          "model_name": "DescriptionStyleModel",
          "state": {
            "_model_module": "@jupyter-widgets/controls",
            "_model_module_version": "1.5.0",
            "_model_name": "DescriptionStyleModel",
            "_view_count": null,
            "_view_module": "@jupyter-widgets/base",
            "_view_module_version": "1.2.0",
            "_view_name": "StyleView",
            "description_width": ""
          }
        },
        "6fe40fc939694cf5b26f12cbb59fdcf8": {
          "model_module": "@jupyter-widgets/base",
          "model_module_version": "1.2.0",
          "model_name": "LayoutModel",
          "state": {
            "_model_module": "@jupyter-widgets/base",
            "_model_module_version": "1.2.0",
            "_model_name": "LayoutModel",
            "_view_count": null,
            "_view_module": "@jupyter-widgets/base",
            "_view_module_version": "1.2.0",
            "_view_name": "LayoutView",
            "align_content": null,
            "align_items": null,
            "align_self": null,
            "border": null,
            "bottom": null,
            "display": null,
            "flex": null,
            "flex_flow": null,
            "grid_area": null,
            "grid_auto_columns": null,
            "grid_auto_flow": null,
            "grid_auto_rows": null,
            "grid_column": null,
            "grid_gap": null,
            "grid_row": null,
            "grid_template_areas": null,
            "grid_template_columns": null,
            "grid_template_rows": null,
            "height": null,
            "justify_content": null,
            "justify_items": null,
            "left": null,
            "margin": null,
            "max_height": null,
            "max_width": null,
            "min_height": null,
            "min_width": null,
            "object_fit": null,
            "object_position": null,
            "order": null,
            "overflow": null,
            "overflow_x": null,
            "overflow_y": null,
            "padding": null,
            "right": null,
            "top": null,
            "visibility": null,
            "width": null
          }
        },
        "81d74a0853934b678b759773b3ac6215": {
          "model_module": "@jupyter-widgets/base",
          "model_module_version": "1.2.0",
          "model_name": "LayoutModel",
          "state": {
            "_model_module": "@jupyter-widgets/base",
            "_model_module_version": "1.2.0",
            "_model_name": "LayoutModel",
            "_view_count": null,
            "_view_module": "@jupyter-widgets/base",
            "_view_module_version": "1.2.0",
            "_view_name": "LayoutView",
            "align_content": null,
            "align_items": null,
            "align_self": null,
            "border": null,
            "bottom": null,
            "display": null,
            "flex": null,
            "flex_flow": null,
            "grid_area": null,
            "grid_auto_columns": null,
            "grid_auto_flow": null,
            "grid_auto_rows": null,
            "grid_column": null,
            "grid_gap": null,
            "grid_row": null,
            "grid_template_areas": null,
            "grid_template_columns": null,
            "grid_template_rows": null,
            "height": null,
            "justify_content": null,
            "justify_items": null,
            "left": null,
            "margin": null,
            "max_height": null,
            "max_width": null,
            "min_height": null,
            "min_width": null,
            "object_fit": null,
            "object_position": null,
            "order": null,
            "overflow": null,
            "overflow_x": null,
            "overflow_y": null,
            "padding": null,
            "right": null,
            "top": null,
            "visibility": null,
            "width": null
          }
        },
        "8ee9510272df44fe981a528c3f685945": {
          "model_module": "@jupyter-widgets/controls",
          "model_module_version": "1.5.0",
          "model_name": "HTMLModel",
          "state": {
            "_dom_classes": [],
            "_model_module": "@jupyter-widgets/controls",
            "_model_module_version": "1.5.0",
            "_model_name": "HTMLModel",
            "_view_count": null,
            "_view_module": "@jupyter-widgets/controls",
            "_view_module_version": "1.5.0",
            "_view_name": "HTMLView",
            "description": "",
            "description_tooltip": null,
            "layout": "IPY_MODEL_2de741e5ffeb4c6d81be4ef86d17f389",
            "placeholder": "​",
            "style": "IPY_MODEL_234c4a1feee24e4bb130b8e7ccc32dbd",
            "value": "Processing: 100%"
          }
        },
        "900ec0091cc3436ea18da3b1d91e87ea": {
          "model_module": "@jupyter-widgets/base",
          "model_module_version": "1.2.0",
          "model_name": "LayoutModel",
          "state": {
            "_model_module": "@jupyter-widgets/base",
            "_model_module_version": "1.2.0",
            "_model_name": "LayoutModel",
            "_view_count": null,
            "_view_module": "@jupyter-widgets/base",
            "_view_module_version": "1.2.0",
            "_view_name": "LayoutView",
            "align_content": null,
            "align_items": null,
            "align_self": null,
            "border": null,
            "bottom": null,
            "display": null,
            "flex": null,
            "flex_flow": null,
            "grid_area": null,
            "grid_auto_columns": null,
            "grid_auto_flow": null,
            "grid_auto_rows": null,
            "grid_column": null,
            "grid_gap": null,
            "grid_row": null,
            "grid_template_areas": null,
            "grid_template_columns": null,
            "grid_template_rows": null,
            "height": null,
            "justify_content": null,
            "justify_items": null,
            "left": null,
            "margin": null,
            "max_height": null,
            "max_width": null,
            "min_height": null,
            "min_width": null,
            "object_fit": null,
            "object_position": null,
            "order": null,
            "overflow": null,
            "overflow_x": null,
            "overflow_y": null,
            "padding": null,
            "right": null,
            "top": null,
            "visibility": null,
            "width": null
          }
        },
        "9c6cc13bc5174dd6a251a55fde1a2aaf": {
          "model_module": "@jupyter-widgets/controls",
          "model_module_version": "1.5.0",
          "model_name": "HBoxModel",
          "state": {
            "_dom_classes": [],
            "_model_module": "@jupyter-widgets/controls",
            "_model_module_version": "1.5.0",
            "_model_name": "HBoxModel",
            "_view_count": null,
            "_view_module": "@jupyter-widgets/controls",
            "_view_module_version": "1.5.0",
            "_view_name": "HBoxView",
            "box_style": "",
            "children": [
              "IPY_MODEL_8ee9510272df44fe981a528c3f685945",
              "IPY_MODEL_53eb767e3ec24555b0e1bdb9a3ac667c",
              "IPY_MODEL_eb13ceba62344c9096bc7392e45954f4"
            ],
            "layout": "IPY_MODEL_e903268c2c2440078bd07fce02e8039b"
          }
        },
        "a587fe0340504a6ca14727992e352237": {
          "model_module": "@jupyter-widgets/controls",
          "model_module_version": "1.5.0",
          "model_name": "FloatProgressModel",
          "state": {
            "_dom_classes": [],
            "_model_module": "@jupyter-widgets/controls",
            "_model_module_version": "1.5.0",
            "_model_name": "FloatProgressModel",
            "_view_count": null,
            "_view_module": "@jupyter-widgets/controls",
            "_view_module_version": "1.5.0",
            "_view_name": "ProgressView",
            "bar_style": "",
            "description": "",
            "description_tooltip": null,
            "layout": "IPY_MODEL_f61670bbe79847518bbdf5183de9088e",
            "max": 7,
            "min": 0,
            "orientation": "horizontal",
            "style": "IPY_MODEL_b5085cef597f41a89baf206f18cc1891",
            "value": 0
          }
        },
        "b5085cef597f41a89baf206f18cc1891": {
          "model_module": "@jupyter-widgets/controls",
          "model_module_version": "1.5.0",
          "model_name": "ProgressStyleModel",
          "state": {
            "_model_module": "@jupyter-widgets/controls",
            "_model_module_version": "1.5.0",
            "_model_name": "ProgressStyleModel",
            "_view_count": null,
            "_view_module": "@jupyter-widgets/base",
            "_view_module_version": "1.2.0",
            "_view_name": "StyleView",
            "bar_color": null,
            "description_width": ""
          }
        },
        "b7ef9f8bcfbe4376ba502461ee7a1f1c": {
          "model_module": "@jupyter-widgets/controls",
          "model_module_version": "1.5.0",
          "model_name": "ProgressStyleModel",
          "state": {
            "_model_module": "@jupyter-widgets/controls",
            "_model_module_version": "1.5.0",
            "_model_name": "ProgressStyleModel",
            "_view_count": null,
            "_view_module": "@jupyter-widgets/base",
            "_view_module_version": "1.2.0",
            "_view_name": "StyleView",
            "bar_color": null,
            "description_width": ""
          }
        },
        "c7d1972b6ef945ec8f2eba82ccb8871e": {
          "model_module": "@jupyter-widgets/controls",
          "model_module_version": "1.5.0",
          "model_name": "HTMLModel",
          "state": {
            "_dom_classes": [],
            "_model_module": "@jupyter-widgets/controls",
            "_model_module_version": "1.5.0",
            "_model_name": "HTMLModel",
            "_view_count": null,
            "_view_module": "@jupyter-widgets/controls",
            "_view_module_version": "1.5.0",
            "_view_name": "HTMLView",
            "description": "",
            "description_tooltip": null,
            "layout": "IPY_MODEL_f21eeed642a045649418fefe4040f58e",
            "placeholder": "​",
            "style": "IPY_MODEL_f1e91ff038ab4e20a094ba9938e5c4ac",
            "value": " 0/7 [00:00&lt;?, ?it/s]"
          }
        },
        "e48c574d6a3a4b6aa71556216eea575f": {
          "model_module": "@jupyter-widgets/controls",
          "model_module_version": "1.5.0",
          "model_name": "HBoxModel",
          "state": {
            "_dom_classes": [],
            "_model_module": "@jupyter-widgets/controls",
            "_model_module_version": "1.5.0",
            "_model_name": "HBoxModel",
            "_view_count": null,
            "_view_module": "@jupyter-widgets/controls",
            "_view_module_version": "1.5.0",
            "_view_name": "HBoxView",
            "box_style": "",
            "children": [
              "IPY_MODEL_417122de1e7f4f33938b0a509b713f42",
              "IPY_MODEL_a587fe0340504a6ca14727992e352237",
              "IPY_MODEL_c7d1972b6ef945ec8f2eba82ccb8871e"
            ],
            "layout": "IPY_MODEL_900ec0091cc3436ea18da3b1d91e87ea"
          }
        },
        "e903268c2c2440078bd07fce02e8039b": {
          "model_module": "@jupyter-widgets/base",
          "model_module_version": "1.2.0",
          "model_name": "LayoutModel",
          "state": {
            "_model_module": "@jupyter-widgets/base",
            "_model_module_version": "1.2.0",
            "_model_name": "LayoutModel",
            "_view_count": null,
            "_view_module": "@jupyter-widgets/base",
            "_view_module_version": "1.2.0",
            "_view_name": "LayoutView",
            "align_content": null,
            "align_items": null,
            "align_self": null,
            "border": null,
            "bottom": null,
            "display": null,
            "flex": null,
            "flex_flow": null,
            "grid_area": null,
            "grid_auto_columns": null,
            "grid_auto_flow": null,
            "grid_auto_rows": null,
            "grid_column": null,
            "grid_gap": null,
            "grid_row": null,
            "grid_template_areas": null,
            "grid_template_columns": null,
            "grid_template_rows": null,
            "height": null,
            "justify_content": null,
            "justify_items": null,
            "left": null,
            "margin": null,
            "max_height": null,
            "max_width": null,
            "min_height": null,
            "min_width": null,
            "object_fit": null,
            "object_position": null,
            "order": null,
            "overflow": null,
            "overflow_x": null,
            "overflow_y": null,
            "padding": null,
            "right": null,
            "top": null,
            "visibility": "hidden",
            "width": null
          }
        },
        "eb13ceba62344c9096bc7392e45954f4": {
          "model_module": "@jupyter-widgets/controls",
          "model_module_version": "1.5.0",
          "model_name": "HTMLModel",
          "state": {
            "_dom_classes": [],
            "_model_module": "@jupyter-widgets/controls",
            "_model_module_version": "1.5.0",
            "_model_name": "HTMLModel",
            "_view_count": null,
            "_view_module": "@jupyter-widgets/controls",
            "_view_module_version": "1.5.0",
            "_view_name": "HTMLView",
            "description": "",
            "description_tooltip": null,
            "layout": "IPY_MODEL_81d74a0853934b678b759773b3ac6215",
            "placeholder": "​",
            "style": "IPY_MODEL_3cfa62a7caf14e7ea4cc261af8714d12",
            "value": " 77/77 [02:05&lt;00:00,  4.23s/it]"
          }
        },
        "f1e91ff038ab4e20a094ba9938e5c4ac": {
          "model_module": "@jupyter-widgets/controls",
          "model_module_version": "1.5.0",
          "model_name": "DescriptionStyleModel",
          "state": {
            "_model_module": "@jupyter-widgets/controls",
            "_model_module_version": "1.5.0",
            "_model_name": "DescriptionStyleModel",
            "_view_count": null,
            "_view_module": "@jupyter-widgets/base",
            "_view_module_version": "1.2.0",
            "_view_name": "StyleView",
            "description_width": ""
          }
        },
        "f21eeed642a045649418fefe4040f58e": {
          "model_module": "@jupyter-widgets/base",
          "model_module_version": "1.2.0",
          "model_name": "LayoutModel",
          "state": {
            "_model_module": "@jupyter-widgets/base",
            "_model_module_version": "1.2.0",
            "_model_name": "LayoutModel",
            "_view_count": null,
            "_view_module": "@jupyter-widgets/base",
            "_view_module_version": "1.2.0",
            "_view_name": "LayoutView",
            "align_content": null,
            "align_items": null,
            "align_self": null,
            "border": null,
            "bottom": null,
            "display": null,
            "flex": null,
            "flex_flow": null,
            "grid_area": null,
            "grid_auto_columns": null,
            "grid_auto_flow": null,
            "grid_auto_rows": null,
            "grid_column": null,
            "grid_gap": null,
            "grid_row": null,
            "grid_template_areas": null,
            "grid_template_columns": null,
            "grid_template_rows": null,
            "height": null,
            "justify_content": null,
            "justify_items": null,
            "left": null,
            "margin": null,
            "max_height": null,
            "max_width": null,
            "min_height": null,
            "min_width": null,
            "object_fit": null,
            "object_position": null,
            "order": null,
            "overflow": null,
            "overflow_x": null,
            "overflow_y": null,
            "padding": null,
            "right": null,
            "top": null,
            "visibility": null,
            "width": null
          }
        },
        "f61670bbe79847518bbdf5183de9088e": {
          "model_module": "@jupyter-widgets/base",
          "model_module_version": "1.2.0",
          "model_name": "LayoutModel",
          "state": {
            "_model_module": "@jupyter-widgets/base",
            "_model_module_version": "1.2.0",
            "_model_name": "LayoutModel",
            "_view_count": null,
            "_view_module": "@jupyter-widgets/base",
            "_view_module_version": "1.2.0",
            "_view_name": "LayoutView",
            "align_content": null,
            "align_items": null,
            "align_self": null,
            "border": null,
            "bottom": null,
            "display": null,
            "flex": null,
            "flex_flow": null,
            "grid_area": null,
            "grid_auto_columns": null,
            "grid_auto_flow": null,
            "grid_auto_rows": null,
            "grid_column": null,
            "grid_gap": null,
            "grid_row": null,
            "grid_template_areas": null,
            "grid_template_columns": null,
            "grid_template_rows": null,
            "height": null,
            "justify_content": null,
            "justify_items": null,
            "left": null,
            "margin": null,
            "max_height": null,
            "max_width": null,
            "min_height": null,
            "min_width": null,
            "object_fit": null,
            "object_position": null,
            "order": null,
            "overflow": null,
            "overflow_x": null,
            "overflow_y": null,
            "padding": null,
            "right": null,
            "top": null,
            "visibility": null,
            "width": null
          }
        }
      }
    }
  },
  "nbformat": 4,
  "nbformat_minor": 5
}
