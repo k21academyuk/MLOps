{
  "cells": [
    {
      "cell_type": "markdown",
      "source": [
        "# **Regression Modeling with PyCaret**\n",
        "\n",
        "### 📝 **Introduction**\n",
        "In this Lab we will **predict diamond prices** using **regression models**.\n",
        "\n",
        "We will use **PyCaret**, an automated machine learning library, to:\n",
        "- Load and preprocess data.\n",
        "- Compare multiple machine learning models.\n",
        "- Train, tune, and evaluate the best model.\n",
        "- Predict diamond prices based on various features.\n",
        "\n",
        "💡 **What is Regression?**\n",
        "Regression is a type of machine learning used to predict **continuous values**.  \n",
        "For example, predicting **house prices, stock values, or sales revenue**.\n",
        "\n",
        "💡 **What is PyCaret?**\n",
        "PyCaret is a **low-code machine learning library** that allows you to build ML models quickly with just a few lines of code.\n",
        "\n",
        "🚀 **By the end of this lab, you will be able to:**\n",
        "1. Load and preprocess data.\n",
        "2. Compare different regression models automatically.\n",
        "3. Train and tune a machine learning model.\n",
        "4. Evaluate the model and make predictions.\n",
        "\n",
        "Let's get started! 🎯\n"
      ],
      "metadata": {
        "id": "Csu65VFfq01P"
      },
      "id": "Csu65VFfq01P"
    },
    {
      "cell_type": "markdown",
      "source": [
        "### **Install Required Libraries**\n",
        "\n",
        "Before we begin, we need to install some essential Python libraries.\n",
        "\n",
        "- `pycaret` → Automates the entire machine learning pipeline.\n",
        "- `mlflow` → Used for model tracking and logging.\n",
        "- `importlib-metadata` → Helps manage library dependencies.\n",
        "\n",
        "🔽 **Run the following code to install them:**\n"
      ],
      "metadata": {
        "id": "FCNgS1NqrMiu"
      },
      "id": "FCNgS1NqrMiu"
    },
    {
      "cell_type": "code",
      "execution_count": null,
      "id": "9ae42ebd",
      "metadata": {
        "id": "9ae42ebd",
        "outputId": "dd262c82-ab0a-4d02-bd5b-dc2f5614cbbd"
      },
      "outputs": [
        {
          "name": "stdout",
          "output_type": "stream",
          "text": [
            "Requirement already satisfied: pycaret in c:\\users\\supriya\\anaconda3\\lib\\site-packages (3.3.2)\n",
            "Requirement already satisfied: ipython>=5.5.0 in c:\\users\\supriya\\anaconda3\\lib\\site-packages (from pycaret) (8.27.0)\n",
            "Requirement already satisfied: ipywidgets>=7.6.5 in c:\\users\\supriya\\anaconda3\\lib\\site-packages (from pycaret) (7.8.1)\n",
            "Requirement already satisfied: tqdm>=4.62.0 in c:\\users\\supriya\\anaconda3\\lib\\site-packages (from pycaret) (4.66.5)\n",
            "Requirement already satisfied: numpy<1.27,>=1.21 in c:\\users\\supriya\\anaconda3\\lib\\site-packages (from pycaret) (1.26.4)\n",
            "Requirement already satisfied: pandas<2.2.0 in c:\\users\\supriya\\anaconda3\\lib\\site-packages (from pycaret) (2.1.4)\n",
            "Requirement already satisfied: jinja2>=3 in c:\\users\\supriya\\anaconda3\\lib\\site-packages (from pycaret) (3.1.4)\n",
            "Requirement already satisfied: scipy<=1.11.4,>=1.6.1 in c:\\users\\supriya\\anaconda3\\lib\\site-packages (from pycaret) (1.11.4)\n",
            "Requirement already satisfied: joblib<1.4,>=1.2.0 in c:\\users\\supriya\\anaconda3\\lib\\site-packages (from pycaret) (1.3.2)\n",
            "Requirement already satisfied: scikit-learn>1.4.0 in c:\\users\\supriya\\anaconda3\\lib\\site-packages (from pycaret) (1.4.2)\n",
            "Requirement already satisfied: pyod>=1.1.3 in c:\\users\\supriya\\anaconda3\\lib\\site-packages (from pycaret) (2.0.3)\n",
            "Requirement already satisfied: imbalanced-learn>=0.12.0 in c:\\users\\supriya\\anaconda3\\lib\\site-packages (from pycaret) (0.12.3)\n",
            "Requirement already satisfied: category-encoders>=2.4.0 in c:\\users\\supriya\\anaconda3\\lib\\site-packages (from pycaret) (2.7.0)\n",
            "Requirement already satisfied: lightgbm>=3.0.0 in c:\\users\\supriya\\anaconda3\\lib\\site-packages (from pycaret) (4.5.0)\n",
            "Requirement already satisfied: numba>=0.55.0 in c:\\users\\supriya\\anaconda3\\lib\\site-packages (from pycaret) (0.60.0)\n",
            "Requirement already satisfied: requests>=2.27.1 in c:\\users\\supriya\\anaconda3\\lib\\site-packages (from pycaret) (2.32.3)\n",
            "Requirement already satisfied: psutil>=5.9.0 in c:\\users\\supriya\\anaconda3\\lib\\site-packages (from pycaret) (5.9.0)\n",
            "Requirement already satisfied: markupsafe>=2.0.1 in c:\\users\\supriya\\anaconda3\\lib\\site-packages (from pycaret) (2.1.3)\n",
            "Requirement already satisfied: importlib-metadata>=4.12.0 in c:\\users\\supriya\\anaconda3\\lib\\site-packages (from pycaret) (8.5.0)\n",
            "Requirement already satisfied: nbformat>=4.2.0 in c:\\users\\supriya\\anaconda3\\lib\\site-packages (from pycaret) (5.10.4)\n",
            "Requirement already satisfied: cloudpickle in c:\\users\\supriya\\anaconda3\\lib\\site-packages (from pycaret) (3.0.0)\n",
            "Requirement already satisfied: deprecation>=2.1.0 in c:\\users\\supriya\\anaconda3\\lib\\site-packages (from pycaret) (2.1.0)\n",
            "Requirement already satisfied: xxhash in c:\\users\\supriya\\anaconda3\\lib\\site-packages (from pycaret) (3.5.0)\n",
            "Requirement already satisfied: matplotlib<3.8.0 in c:\\users\\supriya\\anaconda3\\lib\\site-packages (from pycaret) (3.7.5)\n",
            "Requirement already satisfied: scikit-plot>=0.3.7 in c:\\users\\supriya\\anaconda3\\lib\\site-packages (from pycaret) (0.3.7)\n",
            "Requirement already satisfied: yellowbrick>=1.4 in c:\\users\\supriya\\anaconda3\\lib\\site-packages (from pycaret) (1.5)\n",
            "Requirement already satisfied: plotly>=5.14.0 in c:\\users\\supriya\\anaconda3\\lib\\site-packages (from pycaret) (5.24.1)\n",
            "Requirement already satisfied: kaleido>=0.2.1 in c:\\users\\supriya\\anaconda3\\lib\\site-packages (from pycaret) (0.2.1)\n",
            "Requirement already satisfied: schemdraw==0.15 in c:\\users\\supriya\\anaconda3\\lib\\site-packages (from pycaret) (0.15)\n",
            "Requirement already satisfied: plotly-resampler>=0.8.3.1 in c:\\users\\supriya\\anaconda3\\lib\\site-packages (from pycaret) (0.10.0)\n",
            "Requirement already satisfied: statsmodels>=0.12.1 in c:\\users\\supriya\\anaconda3\\lib\\site-packages (from pycaret) (0.14.2)\n",
            "Requirement already satisfied: sktime==0.26.0 in c:\\users\\supriya\\anaconda3\\lib\\site-packages (from pycaret) (0.26.0)\n",
            "Requirement already satisfied: tbats>=1.1.3 in c:\\users\\supriya\\anaconda3\\lib\\site-packages (from pycaret) (1.1.3)\n",
            "Requirement already satisfied: pmdarima>=2.0.4 in c:\\users\\supriya\\anaconda3\\lib\\site-packages (from pycaret) (2.0.4)\n",
            "Requirement already satisfied: packaging in c:\\users\\supriya\\anaconda3\\lib\\site-packages (from sktime==0.26.0->pycaret) (24.1)\n",
            "Requirement already satisfied: scikit-base<0.8.0 in c:\\users\\supriya\\anaconda3\\lib\\site-packages (from sktime==0.26.0->pycaret) (0.7.8)\n",
            "Requirement already satisfied: patsy>=0.5.1 in c:\\users\\supriya\\anaconda3\\lib\\site-packages (from category-encoders>=2.4.0->pycaret) (0.5.6)\n",
            "Requirement already satisfied: threadpoolctl>=2.0.0 in c:\\users\\supriya\\anaconda3\\lib\\site-packages (from imbalanced-learn>=0.12.0->pycaret) (3.5.0)\n",
            "Requirement already satisfied: zipp>=3.20 in c:\\users\\supriya\\anaconda3\\lib\\site-packages (from importlib-metadata>=4.12.0->pycaret) (3.21.0)\n",
            "Requirement already satisfied: decorator in c:\\users\\supriya\\anaconda3\\lib\\site-packages (from ipython>=5.5.0->pycaret) (5.1.1)\n",
            "Requirement already satisfied: jedi>=0.16 in c:\\users\\supriya\\anaconda3\\lib\\site-packages (from ipython>=5.5.0->pycaret) (0.19.1)\n",
            "Requirement already satisfied: matplotlib-inline in c:\\users\\supriya\\anaconda3\\lib\\site-packages (from ipython>=5.5.0->pycaret) (0.1.6)\n",
            "Requirement already satisfied: prompt-toolkit<3.1.0,>=3.0.41 in c:\\users\\supriya\\anaconda3\\lib\\site-packages (from ipython>=5.5.0->pycaret) (3.0.43)\n",
            "Requirement already satisfied: pygments>=2.4.0 in c:\\users\\supriya\\anaconda3\\lib\\site-packages (from ipython>=5.5.0->pycaret) (2.15.1)\n",
            "Requirement already satisfied: stack-data in c:\\users\\supriya\\anaconda3\\lib\\site-packages (from ipython>=5.5.0->pycaret) (0.2.0)\n",
            "Requirement already satisfied: traitlets>=5.13.0 in c:\\users\\supriya\\anaconda3\\lib\\site-packages (from ipython>=5.5.0->pycaret) (5.14.3)\n",
            "Requirement already satisfied: colorama in c:\\users\\supriya\\anaconda3\\lib\\site-packages (from ipython>=5.5.0->pycaret) (0.4.6)\n",
            "Requirement already satisfied: comm>=0.1.3 in c:\\users\\supriya\\anaconda3\\lib\\site-packages (from ipywidgets>=7.6.5->pycaret) (0.2.1)\n",
            "Requirement already satisfied: ipython-genutils~=0.2.0 in c:\\users\\supriya\\anaconda3\\lib\\site-packages (from ipywidgets>=7.6.5->pycaret) (0.2.0)\n",
            "Requirement already satisfied: widgetsnbextension~=3.6.6 in c:\\users\\supriya\\anaconda3\\lib\\site-packages (from ipywidgets>=7.6.5->pycaret) (3.6.6)\n",
            "Requirement already satisfied: jupyterlab-widgets<3,>=1.0.0 in c:\\users\\supriya\\anaconda3\\lib\\site-packages (from ipywidgets>=7.6.5->pycaret) (1.0.0)\n",
            "Requirement already satisfied: contourpy>=1.0.1 in c:\\users\\supriya\\anaconda3\\lib\\site-packages (from matplotlib<3.8.0->pycaret) (1.2.0)\n",
            "Requirement already satisfied: cycler>=0.10 in c:\\users\\supriya\\anaconda3\\lib\\site-packages (from matplotlib<3.8.0->pycaret) (0.11.0)\n",
            "Requirement already satisfied: fonttools>=4.22.0 in c:\\users\\supriya\\anaconda3\\lib\\site-packages (from matplotlib<3.8.0->pycaret) (4.51.0)\n",
            "Requirement already satisfied: kiwisolver>=1.0.1 in c:\\users\\supriya\\anaconda3\\lib\\site-packages (from matplotlib<3.8.0->pycaret) (1.4.4)\n",
            "Requirement already satisfied: pillow>=6.2.0 in c:\\users\\supriya\\anaconda3\\lib\\site-packages (from matplotlib<3.8.0->pycaret) (10.4.0)\n",
            "Requirement already satisfied: pyparsing>=2.3.1 in c:\\users\\supriya\\anaconda3\\lib\\site-packages (from matplotlib<3.8.0->pycaret) (3.1.2)\n",
            "Requirement already satisfied: python-dateutil>=2.7 in c:\\users\\supriya\\anaconda3\\lib\\site-packages (from matplotlib<3.8.0->pycaret) (2.9.0.post0)\n",
            "Requirement already satisfied: fastjsonschema>=2.15 in c:\\users\\supriya\\anaconda3\\lib\\site-packages (from nbformat>=4.2.0->pycaret) (2.16.2)\n",
            "Requirement already satisfied: jsonschema>=2.6 in c:\\users\\supriya\\anaconda3\\lib\\site-packages (from nbformat>=4.2.0->pycaret) (4.23.0)\n",
            "Requirement already satisfied: jupyter-core!=5.0.*,>=4.12 in c:\\users\\supriya\\anaconda3\\lib\\site-packages (from nbformat>=4.2.0->pycaret) (5.7.2)\n",
            "Requirement already satisfied: llvmlite<0.44,>=0.43.0dev0 in c:\\users\\supriya\\anaconda3\\lib\\site-packages (from numba>=0.55.0->pycaret) (0.43.0)\n",
            "Requirement already satisfied: pytz>=2020.1 in c:\\users\\supriya\\anaconda3\\lib\\site-packages (from pandas<2.2.0->pycaret) (2024.1)\n",
            "Requirement already satisfied: tzdata>=2022.1 in c:\\users\\supriya\\anaconda3\\lib\\site-packages (from pandas<2.2.0->pycaret) (2023.3)\n",
            "Requirement already satisfied: tenacity>=6.2.0 in c:\\users\\supriya\\anaconda3\\lib\\site-packages (from plotly>=5.14.0->pycaret) (8.2.3)\n",
            "Requirement already satisfied: dash>=2.9.0 in c:\\users\\supriya\\anaconda3\\lib\\site-packages (from plotly-resampler>=0.8.3.1->pycaret) (2.18.2)\n",
            "Requirement already satisfied: orjson<4.0.0,>=3.8.0 in c:\\users\\supriya\\anaconda3\\lib\\site-packages (from plotly-resampler>=0.8.3.1->pycaret) (3.10.15)\n",
            "Requirement already satisfied: tsdownsample>=0.1.3 in c:\\users\\supriya\\anaconda3\\lib\\site-packages (from plotly-resampler>=0.8.3.1->pycaret) (0.1.4.1)\n",
            "Requirement already satisfied: Cython!=0.29.18,!=0.29.31,>=0.29 in c:\\users\\supriya\\anaconda3\\lib\\site-packages (from pmdarima>=2.0.4->pycaret) (3.0.11)\n",
            "Requirement already satisfied: urllib3 in c:\\users\\supriya\\anaconda3\\lib\\site-packages (from pmdarima>=2.0.4->pycaret) (2.2.3)\n",
            "Requirement already satisfied: setuptools!=50.0.0,>=38.6.0 in c:\\users\\supriya\\anaconda3\\lib\\site-packages (from pmdarima>=2.0.4->pycaret) (75.1.0)\n",
            "Requirement already satisfied: charset-normalizer<4,>=2 in c:\\users\\supriya\\anaconda3\\lib\\site-packages (from requests>=2.27.1->pycaret) (3.3.2)\n",
            "Requirement already satisfied: idna<4,>=2.5 in c:\\users\\supriya\\anaconda3\\lib\\site-packages (from requests>=2.27.1->pycaret) (3.7)\n",
            "Requirement already satisfied: certifi>=2017.4.17 in c:\\users\\supriya\\anaconda3\\lib\\site-packages (from requests>=2.27.1->pycaret) (2025.1.31)\n",
            "Requirement already satisfied: Flask<3.1,>=1.0.4 in c:\\users\\supriya\\anaconda3\\lib\\site-packages (from dash>=2.9.0->plotly-resampler>=0.8.3.1->pycaret) (3.0.3)\n",
            "Requirement already satisfied: Werkzeug<3.1 in c:\\users\\supriya\\anaconda3\\lib\\site-packages (from dash>=2.9.0->plotly-resampler>=0.8.3.1->pycaret) (3.0.3)\n",
            "Requirement already satisfied: dash-html-components==2.0.0 in c:\\users\\supriya\\anaconda3\\lib\\site-packages (from dash>=2.9.0->plotly-resampler>=0.8.3.1->pycaret) (2.0.0)\n",
            "Requirement already satisfied: dash-core-components==2.0.0 in c:\\users\\supriya\\anaconda3\\lib\\site-packages (from dash>=2.9.0->plotly-resampler>=0.8.3.1->pycaret) (2.0.0)\n",
            "Requirement already satisfied: dash-table==5.0.0 in c:\\users\\supriya\\anaconda3\\lib\\site-packages (from dash>=2.9.0->plotly-resampler>=0.8.3.1->pycaret) (5.0.0)\n",
            "Requirement already satisfied: typing-extensions>=4.1.1 in c:\\users\\supriya\\anaconda3\\lib\\site-packages (from dash>=2.9.0->plotly-resampler>=0.8.3.1->pycaret) (4.11.0)\n",
            "Requirement already satisfied: retrying in c:\\users\\supriya\\anaconda3\\lib\\site-packages (from dash>=2.9.0->plotly-resampler>=0.8.3.1->pycaret) (1.3.4)\n",
            "Requirement already satisfied: nest-asyncio in c:\\users\\supriya\\anaconda3\\lib\\site-packages (from dash>=2.9.0->plotly-resampler>=0.8.3.1->pycaret) (1.6.0)\n",
            "Requirement already satisfied: parso<0.9.0,>=0.8.3 in c:\\users\\supriya\\anaconda3\\lib\\site-packages (from jedi>=0.16->ipython>=5.5.0->pycaret) (0.8.3)\n",
            "Requirement already satisfied: attrs>=22.2.0 in c:\\users\\supriya\\anaconda3\\lib\\site-packages (from jsonschema>=2.6->nbformat>=4.2.0->pycaret) (23.1.0)\n",
            "Requirement already satisfied: jsonschema-specifications>=2023.03.6 in c:\\users\\supriya\\anaconda3\\lib\\site-packages (from jsonschema>=2.6->nbformat>=4.2.0->pycaret) (2023.7.1)\n",
            "Requirement already satisfied: referencing>=0.28.4 in c:\\users\\supriya\\anaconda3\\lib\\site-packages (from jsonschema>=2.6->nbformat>=4.2.0->pycaret) (0.30.2)\n",
            "Requirement already satisfied: rpds-py>=0.7.1 in c:\\users\\supriya\\anaconda3\\lib\\site-packages (from jsonschema>=2.6->nbformat>=4.2.0->pycaret) (0.10.6)\n",
            "Requirement already satisfied: platformdirs>=2.5 in c:\\users\\supriya\\anaconda3\\lib\\site-packages (from jupyter-core!=5.0.*,>=4.12->nbformat>=4.2.0->pycaret) (3.10.0)\n",
            "Requirement already satisfied: pywin32>=300 in c:\\users\\supriya\\anaconda3\\lib\\site-packages (from jupyter-core!=5.0.*,>=4.12->nbformat>=4.2.0->pycaret) (305.1)\n",
            "Requirement already satisfied: six in c:\\users\\supriya\\anaconda3\\lib\\site-packages (from patsy>=0.5.1->category-encoders>=2.4.0->pycaret) (1.16.0)\n",
            "Requirement already satisfied: wcwidth in c:\\users\\supriya\\anaconda3\\lib\\site-packages (from prompt-toolkit<3.1.0,>=3.0.41->ipython>=5.5.0->pycaret) (0.2.5)\n",
            "Requirement already satisfied: notebook>=4.4.1 in c:\\users\\supriya\\anaconda3\\lib\\site-packages (from widgetsnbextension~=3.6.6->ipywidgets>=7.6.5->pycaret) (7.2.2)\n",
            "Requirement already satisfied: executing in c:\\users\\supriya\\anaconda3\\lib\\site-packages (from stack-data->ipython>=5.5.0->pycaret) (0.8.3)\n",
            "Requirement already satisfied: asttokens in c:\\users\\supriya\\anaconda3\\lib\\site-packages (from stack-data->ipython>=5.5.0->pycaret) (2.0.5)\n",
            "Requirement already satisfied: pure-eval in c:\\users\\supriya\\anaconda3\\lib\\site-packages (from stack-data->ipython>=5.5.0->pycaret) (0.2.2)\n",
            "Requirement already satisfied: itsdangerous>=2.1.2 in c:\\users\\supriya\\anaconda3\\lib\\site-packages (from Flask<3.1,>=1.0.4->dash>=2.9.0->plotly-resampler>=0.8.3.1->pycaret) (2.2.0)\n",
            "Requirement already satisfied: click>=8.1.3 in c:\\users\\supriya\\anaconda3\\lib\\site-packages (from Flask<3.1,>=1.0.4->dash>=2.9.0->plotly-resampler>=0.8.3.1->pycaret) (8.1.7)\n",
            "Requirement already satisfied: blinker>=1.6.2 in c:\\users\\supriya\\anaconda3\\lib\\site-packages (from Flask<3.1,>=1.0.4->dash>=2.9.0->plotly-resampler>=0.8.3.1->pycaret) (1.6.2)\n",
            "Requirement already satisfied: jupyter-server<3,>=2.4.0 in c:\\users\\supriya\\anaconda3\\lib\\site-packages (from notebook>=4.4.1->widgetsnbextension~=3.6.6->ipywidgets>=7.6.5->pycaret) (2.15.0)\n",
            "Requirement already satisfied: jupyterlab-server<3,>=2.27.1 in c:\\users\\supriya\\anaconda3\\lib\\site-packages (from notebook>=4.4.1->widgetsnbextension~=3.6.6->ipywidgets>=7.6.5->pycaret) (2.27.3)\n",
            "Requirement already satisfied: jupyterlab<4.3,>=4.2.0 in c:\\users\\supriya\\anaconda3\\lib\\site-packages (from notebook>=4.4.1->widgetsnbextension~=3.6.6->ipywidgets>=7.6.5->pycaret) (4.2.5)\n",
            "Requirement already satisfied: notebook-shim<0.3,>=0.2 in c:\\users\\supriya\\anaconda3\\lib\\site-packages (from notebook>=4.4.1->widgetsnbextension~=3.6.6->ipywidgets>=7.6.5->pycaret) (0.2.4)\n",
            "Requirement already satisfied: tornado>=6.2.0 in c:\\users\\supriya\\anaconda3\\lib\\site-packages (from notebook>=4.4.1->widgetsnbextension~=3.6.6->ipywidgets>=7.6.5->pycaret) (6.4.1)\n",
            "Requirement already satisfied: anyio>=3.1.0 in c:\\users\\supriya\\anaconda3\\lib\\site-packages (from jupyter-server<3,>=2.4.0->notebook>=4.4.1->widgetsnbextension~=3.6.6->ipywidgets>=7.6.5->pycaret) (4.2.0)\n",
            "Requirement already satisfied: argon2-cffi>=21.1 in c:\\users\\supriya\\anaconda3\\lib\\site-packages (from jupyter-server<3,>=2.4.0->notebook>=4.4.1->widgetsnbextension~=3.6.6->ipywidgets>=7.6.5->pycaret) (21.3.0)\n",
            "Requirement already satisfied: jupyter-client>=7.4.4 in c:\\users\\supriya\\anaconda3\\lib\\site-packages (from jupyter-server<3,>=2.4.0->notebook>=4.4.1->widgetsnbextension~=3.6.6->ipywidgets>=7.6.5->pycaret) (8.6.0)\n",
            "Requirement already satisfied: jupyter-events>=0.11.0 in c:\\users\\supriya\\anaconda3\\lib\\site-packages (from jupyter-server<3,>=2.4.0->notebook>=4.4.1->widgetsnbextension~=3.6.6->ipywidgets>=7.6.5->pycaret) (0.12.0)\n",
            "Requirement already satisfied: jupyter-server-terminals>=0.4.4 in c:\\users\\supriya\\anaconda3\\lib\\site-packages (from jupyter-server<3,>=2.4.0->notebook>=4.4.1->widgetsnbextension~=3.6.6->ipywidgets>=7.6.5->pycaret) (0.4.4)\n",
            "Requirement already satisfied: nbconvert>=6.4.4 in c:\\users\\supriya\\anaconda3\\lib\\site-packages (from jupyter-server<3,>=2.4.0->notebook>=4.4.1->widgetsnbextension~=3.6.6->ipywidgets>=7.6.5->pycaret) (7.16.4)\n",
            "Requirement already satisfied: overrides>=5.0 in c:\\users\\supriya\\anaconda3\\lib\\site-packages (from jupyter-server<3,>=2.4.0->notebook>=4.4.1->widgetsnbextension~=3.6.6->ipywidgets>=7.6.5->pycaret) (7.4.0)\n",
            "Requirement already satisfied: prometheus-client>=0.9 in c:\\users\\supriya\\anaconda3\\lib\\site-packages (from jupyter-server<3,>=2.4.0->notebook>=4.4.1->widgetsnbextension~=3.6.6->ipywidgets>=7.6.5->pycaret) (0.14.1)\n",
            "Requirement already satisfied: pywinpty>=2.0.1 in c:\\users\\supriya\\anaconda3\\lib\\site-packages (from jupyter-server<3,>=2.4.0->notebook>=4.4.1->widgetsnbextension~=3.6.6->ipywidgets>=7.6.5->pycaret) (2.0.10)\n",
            "Requirement already satisfied: pyzmq>=24 in c:\\users\\supriya\\anaconda3\\lib\\site-packages (from jupyter-server<3,>=2.4.0->notebook>=4.4.1->widgetsnbextension~=3.6.6->ipywidgets>=7.6.5->pycaret) (25.1.2)\n",
            "Requirement already satisfied: send2trash>=1.8.2 in c:\\users\\supriya\\anaconda3\\lib\\site-packages (from jupyter-server<3,>=2.4.0->notebook>=4.4.1->widgetsnbextension~=3.6.6->ipywidgets>=7.6.5->pycaret) (1.8.2)\n",
            "Requirement already satisfied: terminado>=0.8.3 in c:\\users\\supriya\\anaconda3\\lib\\site-packages (from jupyter-server<3,>=2.4.0->notebook>=4.4.1->widgetsnbextension~=3.6.6->ipywidgets>=7.6.5->pycaret) (0.17.1)\n",
            "Requirement already satisfied: websocket-client>=1.7 in c:\\users\\supriya\\anaconda3\\lib\\site-packages (from jupyter-server<3,>=2.4.0->notebook>=4.4.1->widgetsnbextension~=3.6.6->ipywidgets>=7.6.5->pycaret) (1.8.0)\n",
            "Requirement already satisfied: async-lru>=1.0.0 in c:\\users\\supriya\\anaconda3\\lib\\site-packages (from jupyterlab<4.3,>=4.2.0->notebook>=4.4.1->widgetsnbextension~=3.6.6->ipywidgets>=7.6.5->pycaret) (2.0.4)\n",
            "Requirement already satisfied: httpx>=0.25.0 in c:\\users\\supriya\\anaconda3\\lib\\site-packages (from jupyterlab<4.3,>=4.2.0->notebook>=4.4.1->widgetsnbextension~=3.6.6->ipywidgets>=7.6.5->pycaret) (0.27.0)\n",
            "Requirement already satisfied: ipykernel>=6.5.0 in c:\\users\\supriya\\anaconda3\\lib\\site-packages (from jupyterlab<4.3,>=4.2.0->notebook>=4.4.1->widgetsnbextension~=3.6.6->ipywidgets>=7.6.5->pycaret) (6.28.0)\n",
            "Requirement already satisfied: jupyter-lsp>=2.0.0 in c:\\users\\supriya\\anaconda3\\lib\\site-packages (from jupyterlab<4.3,>=4.2.0->notebook>=4.4.1->widgetsnbextension~=3.6.6->ipywidgets>=7.6.5->pycaret) (2.2.5)\n",
            "Requirement already satisfied: babel>=2.10 in c:\\users\\supriya\\anaconda3\\lib\\site-packages (from jupyterlab-server<3,>=2.27.1->notebook>=4.4.1->widgetsnbextension~=3.6.6->ipywidgets>=7.6.5->pycaret) (2.11.0)\n",
            "Requirement already satisfied: json5>=0.9.0 in c:\\users\\supriya\\anaconda3\\lib\\site-packages (from jupyterlab-server<3,>=2.27.1->notebook>=4.4.1->widgetsnbextension~=3.6.6->ipywidgets>=7.6.5->pycaret) (0.9.6)\n",
            "Requirement already satisfied: sniffio>=1.1 in c:\\users\\supriya\\anaconda3\\lib\\site-packages (from anyio>=3.1.0->jupyter-server<3,>=2.4.0->notebook>=4.4.1->widgetsnbextension~=3.6.6->ipywidgets>=7.6.5->pycaret) (1.3.0)\n",
            "Requirement already satisfied: argon2-cffi-bindings in c:\\users\\supriya\\anaconda3\\lib\\site-packages (from argon2-cffi>=21.1->jupyter-server<3,>=2.4.0->notebook>=4.4.1->widgetsnbextension~=3.6.6->ipywidgets>=7.6.5->pycaret) (21.2.0)\n",
            "Requirement already satisfied: httpcore==1.* in c:\\users\\supriya\\anaconda3\\lib\\site-packages (from httpx>=0.25.0->jupyterlab<4.3,>=4.2.0->notebook>=4.4.1->widgetsnbextension~=3.6.6->ipywidgets>=7.6.5->pycaret) (1.0.2)\n",
            "Requirement already satisfied: h11<0.15,>=0.13 in c:\\users\\supriya\\anaconda3\\lib\\site-packages (from httpcore==1.*->httpx>=0.25.0->jupyterlab<4.3,>=4.2.0->notebook>=4.4.1->widgetsnbextension~=3.6.6->ipywidgets>=7.6.5->pycaret) (0.14.0)\n",
            "Requirement already satisfied: debugpy>=1.6.5 in c:\\users\\supriya\\anaconda3\\lib\\site-packages (from ipykernel>=6.5.0->jupyterlab<4.3,>=4.2.0->notebook>=4.4.1->widgetsnbextension~=3.6.6->ipywidgets>=7.6.5->pycaret) (1.6.7)\n",
            "Requirement already satisfied: python-json-logger>=2.0.4 in c:\\users\\supriya\\anaconda3\\lib\\site-packages (from jupyter-events>=0.11.0->jupyter-server<3,>=2.4.0->notebook>=4.4.1->widgetsnbextension~=3.6.6->ipywidgets>=7.6.5->pycaret) (2.0.7)\n",
            "Requirement already satisfied: pyyaml>=5.3 in c:\\users\\supriya\\anaconda3\\lib\\site-packages (from jupyter-events>=0.11.0->jupyter-server<3,>=2.4.0->notebook>=4.4.1->widgetsnbextension~=3.6.6->ipywidgets>=7.6.5->pycaret) (6.0.1)\n",
            "Requirement already satisfied: rfc3339-validator in c:\\users\\supriya\\anaconda3\\lib\\site-packages (from jupyter-events>=0.11.0->jupyter-server<3,>=2.4.0->notebook>=4.4.1->widgetsnbextension~=3.6.6->ipywidgets>=7.6.5->pycaret) (0.1.4)\n",
            "Requirement already satisfied: rfc3986-validator>=0.1.1 in c:\\users\\supriya\\anaconda3\\lib\\site-packages (from jupyter-events>=0.11.0->jupyter-server<3,>=2.4.0->notebook>=4.4.1->widgetsnbextension~=3.6.6->ipywidgets>=7.6.5->pycaret) (0.1.1)\n",
            "Requirement already satisfied: beautifulsoup4 in c:\\users\\supriya\\anaconda3\\lib\\site-packages (from nbconvert>=6.4.4->jupyter-server<3,>=2.4.0->notebook>=4.4.1->widgetsnbextension~=3.6.6->ipywidgets>=7.6.5->pycaret) (4.12.3)\n",
            "Requirement already satisfied: bleach!=5.0.0 in c:\\users\\supriya\\anaconda3\\lib\\site-packages (from nbconvert>=6.4.4->jupyter-server<3,>=2.4.0->notebook>=4.4.1->widgetsnbextension~=3.6.6->ipywidgets>=7.6.5->pycaret) (4.1.0)\n",
            "Requirement already satisfied: defusedxml in c:\\users\\supriya\\anaconda3\\lib\\site-packages (from nbconvert>=6.4.4->jupyter-server<3,>=2.4.0->notebook>=4.4.1->widgetsnbextension~=3.6.6->ipywidgets>=7.6.5->pycaret) (0.7.1)\n",
            "Requirement already satisfied: jupyterlab-pygments in c:\\users\\supriya\\anaconda3\\lib\\site-packages (from nbconvert>=6.4.4->jupyter-server<3,>=2.4.0->notebook>=4.4.1->widgetsnbextension~=3.6.6->ipywidgets>=7.6.5->pycaret) (0.1.2)\n",
            "Requirement already satisfied: mistune<4,>=2.0.3 in c:\\users\\supriya\\anaconda3\\lib\\site-packages (from nbconvert>=6.4.4->jupyter-server<3,>=2.4.0->notebook>=4.4.1->widgetsnbextension~=3.6.6->ipywidgets>=7.6.5->pycaret) (2.0.4)\n",
            "Requirement already satisfied: nbclient>=0.5.0 in c:\\users\\supriya\\anaconda3\\lib\\site-packages (from nbconvert>=6.4.4->jupyter-server<3,>=2.4.0->notebook>=4.4.1->widgetsnbextension~=3.6.6->ipywidgets>=7.6.5->pycaret) (0.8.0)\n",
            "Requirement already satisfied: pandocfilters>=1.4.1 in c:\\users\\supriya\\anaconda3\\lib\\site-packages (from nbconvert>=6.4.4->jupyter-server<3,>=2.4.0->notebook>=4.4.1->widgetsnbextension~=3.6.6->ipywidgets>=7.6.5->pycaret) (1.5.0)\n",
            "Requirement already satisfied: tinycss2 in c:\\users\\supriya\\anaconda3\\lib\\site-packages (from nbconvert>=6.4.4->jupyter-server<3,>=2.4.0->notebook>=4.4.1->widgetsnbextension~=3.6.6->ipywidgets>=7.6.5->pycaret) (1.2.1)\n",
            "Requirement already satisfied: webencodings in c:\\users\\supriya\\anaconda3\\lib\\site-packages (from bleach!=5.0.0->nbconvert>=6.4.4->jupyter-server<3,>=2.4.0->notebook>=4.4.1->widgetsnbextension~=3.6.6->ipywidgets>=7.6.5->pycaret) (0.5.1)\n",
            "Requirement already satisfied: fqdn in c:\\users\\supriya\\anaconda3\\lib\\site-packages (from jsonschema[format-nongpl]>=4.18.0->jupyter-events>=0.11.0->jupyter-server<3,>=2.4.0->notebook>=4.4.1->widgetsnbextension~=3.6.6->ipywidgets>=7.6.5->pycaret) (1.5.1)\n",
            "Requirement already satisfied: isoduration in c:\\users\\supriya\\anaconda3\\lib\\site-packages (from jsonschema[format-nongpl]>=4.18.0->jupyter-events>=0.11.0->jupyter-server<3,>=2.4.0->notebook>=4.4.1->widgetsnbextension~=3.6.6->ipywidgets>=7.6.5->pycaret) (20.11.0)\n",
            "Requirement already satisfied: jsonpointer>1.13 in c:\\users\\supriya\\anaconda3\\lib\\site-packages (from jsonschema[format-nongpl]>=4.18.0->jupyter-events>=0.11.0->jupyter-server<3,>=2.4.0->notebook>=4.4.1->widgetsnbextension~=3.6.6->ipywidgets>=7.6.5->pycaret) (2.1)\n",
            "Requirement already satisfied: uri-template in c:\\users\\supriya\\anaconda3\\lib\\site-packages (from jsonschema[format-nongpl]>=4.18.0->jupyter-events>=0.11.0->jupyter-server<3,>=2.4.0->notebook>=4.4.1->widgetsnbextension~=3.6.6->ipywidgets>=7.6.5->pycaret) (1.3.0)\n",
            "Requirement already satisfied: webcolors>=24.6.0 in c:\\users\\supriya\\anaconda3\\lib\\site-packages (from jsonschema[format-nongpl]>=4.18.0->jupyter-events>=0.11.0->jupyter-server<3,>=2.4.0->notebook>=4.4.1->widgetsnbextension~=3.6.6->ipywidgets>=7.6.5->pycaret) (24.11.1)\n",
            "Requirement already satisfied: cffi>=1.0.1 in c:\\users\\supriya\\anaconda3\\lib\\site-packages (from argon2-cffi-bindings->argon2-cffi>=21.1->jupyter-server<3,>=2.4.0->notebook>=4.4.1->widgetsnbextension~=3.6.6->ipywidgets>=7.6.5->pycaret) (1.17.1)\n",
            "Requirement already satisfied: soupsieve>1.2 in c:\\users\\supriya\\anaconda3\\lib\\site-packages (from beautifulsoup4->nbconvert>=6.4.4->jupyter-server<3,>=2.4.0->notebook>=4.4.1->widgetsnbextension~=3.6.6->ipywidgets>=7.6.5->pycaret) (2.5)\n",
            "Requirement already satisfied: pycparser in c:\\users\\supriya\\anaconda3\\lib\\site-packages (from cffi>=1.0.1->argon2-cffi-bindings->argon2-cffi>=21.1->jupyter-server<3,>=2.4.0->notebook>=4.4.1->widgetsnbextension~=3.6.6->ipywidgets>=7.6.5->pycaret) (2.21)\n",
            "Requirement already satisfied: arrow>=0.15.0 in c:\\users\\supriya\\anaconda3\\lib\\site-packages (from isoduration->jsonschema[format-nongpl]>=4.18.0->jupyter-events>=0.11.0->jupyter-server<3,>=2.4.0->notebook>=4.4.1->widgetsnbextension~=3.6.6->ipywidgets>=7.6.5->pycaret) (1.2.3)\n",
            "Requirement already satisfied: mlflow in c:\\users\\supriya\\anaconda3\\lib\\site-packages (2.20.1)\n",
            "Requirement already satisfied: mlflow-skinny==2.20.1 in c:\\users\\supriya\\anaconda3\\lib\\site-packages (from mlflow) (2.20.1)\n",
            "Requirement already satisfied: Flask<4 in c:\\users\\supriya\\anaconda3\\lib\\site-packages (from mlflow) (3.0.3)\n",
            "Requirement already satisfied: Jinja2<4,>=3.0 in c:\\users\\supriya\\anaconda3\\lib\\site-packages (from mlflow) (3.1.4)\n",
            "Requirement already satisfied: alembic!=1.10.0,<2 in c:\\users\\supriya\\anaconda3\\lib\\site-packages (from mlflow) (1.13.3)\n",
            "Requirement already satisfied: docker<8,>=4.0.0 in c:\\users\\supriya\\anaconda3\\lib\\site-packages (from mlflow) (7.1.0)\n",
            "Requirement already satisfied: graphene<4 in c:\\users\\supriya\\anaconda3\\lib\\site-packages (from mlflow) (3.4.3)\n",
            "Requirement already satisfied: markdown<4,>=3.3 in c:\\users\\supriya\\anaconda3\\lib\\site-packages (from mlflow) (3.4.1)\n",
            "Requirement already satisfied: matplotlib<4 in c:\\users\\supriya\\anaconda3\\lib\\site-packages (from mlflow) (3.7.5)\n",
            "Requirement already satisfied: numpy<3 in c:\\users\\supriya\\anaconda3\\lib\\site-packages (from mlflow) (1.26.4)\n",
            "Requirement already satisfied: pandas<3 in c:\\users\\supriya\\anaconda3\\lib\\site-packages (from mlflow) (2.1.4)\n",
            "Requirement already satisfied: pyarrow<19,>=4.0.0 in c:\\users\\supriya\\anaconda3\\lib\\site-packages (from mlflow) (16.1.0)\n",
            "Requirement already satisfied: scikit-learn<2 in c:\\users\\supriya\\anaconda3\\lib\\site-packages (from mlflow) (1.4.2)\n",
            "Requirement already satisfied: scipy<2 in c:\\users\\supriya\\anaconda3\\lib\\site-packages (from mlflow) (1.11.4)\n",
            "Requirement already satisfied: sqlalchemy<3,>=1.4.0 in c:\\users\\supriya\\anaconda3\\lib\\site-packages (from mlflow) (2.0.34)\n",
            "Requirement already satisfied: waitress<4 in c:\\users\\supriya\\anaconda3\\lib\\site-packages (from mlflow) (3.0.2)\n",
            "Requirement already satisfied: cachetools<6,>=5.0.0 in c:\\users\\supriya\\anaconda3\\lib\\site-packages (from mlflow-skinny==2.20.1->mlflow) (5.3.3)\n",
            "Requirement already satisfied: click<9,>=7.0 in c:\\users\\supriya\\anaconda3\\lib\\site-packages (from mlflow-skinny==2.20.1->mlflow) (8.1.7)\n",
            "Requirement already satisfied: cloudpickle<4 in c:\\users\\supriya\\anaconda3\\lib\\site-packages (from mlflow-skinny==2.20.1->mlflow) (3.0.0)\n",
            "Requirement already satisfied: databricks-sdk<1,>=0.20.0 in c:\\users\\supriya\\anaconda3\\lib\\site-packages (from mlflow-skinny==2.20.1->mlflow) (0.43.0)\n",
            "Requirement already satisfied: gitpython<4,>=3.1.9 in c:\\users\\supriya\\anaconda3\\lib\\site-packages (from mlflow-skinny==2.20.1->mlflow) (3.1.43)\n",
            "Requirement already satisfied: importlib_metadata!=4.7.0,<9,>=3.7.0 in c:\\users\\supriya\\anaconda3\\lib\\site-packages (from mlflow-skinny==2.20.1->mlflow) (8.5.0)\n",
            "Requirement already satisfied: opentelemetry-api<3,>=1.9.0 in c:\\users\\supriya\\anaconda3\\lib\\site-packages (from mlflow-skinny==2.20.1->mlflow) (1.30.0)\n",
            "Requirement already satisfied: opentelemetry-sdk<3,>=1.9.0 in c:\\users\\supriya\\anaconda3\\lib\\site-packages (from mlflow-skinny==2.20.1->mlflow) (1.30.0)\n",
            "Requirement already satisfied: packaging<25 in c:\\users\\supriya\\anaconda3\\lib\\site-packages (from mlflow-skinny==2.20.1->mlflow) (24.1)\n",
            "Requirement already satisfied: protobuf<6,>=3.12.0 in c:\\users\\supriya\\anaconda3\\lib\\site-packages (from mlflow-skinny==2.20.1->mlflow) (4.25.3)\n",
            "Requirement already satisfied: pydantic<3,>=1.0 in c:\\users\\supriya\\anaconda3\\lib\\site-packages (from mlflow-skinny==2.20.1->mlflow) (2.8.2)\n",
            "Requirement already satisfied: pyyaml<7,>=5.1 in c:\\users\\supriya\\anaconda3\\lib\\site-packages (from mlflow-skinny==2.20.1->mlflow) (6.0.1)\n",
            "Requirement already satisfied: requests<3,>=2.17.3 in c:\\users\\supriya\\anaconda3\\lib\\site-packages (from mlflow-skinny==2.20.1->mlflow) (2.32.3)\n",
            "Requirement already satisfied: sqlparse<1,>=0.4.0 in c:\\users\\supriya\\anaconda3\\lib\\site-packages (from mlflow-skinny==2.20.1->mlflow) (0.5.3)\n",
            "Requirement already satisfied: typing-extensions<5,>=4.0.0 in c:\\users\\supriya\\anaconda3\\lib\\site-packages (from mlflow-skinny==2.20.1->mlflow) (4.11.0)\n",
            "Requirement already satisfied: Mako in c:\\users\\supriya\\anaconda3\\lib\\site-packages (from alembic!=1.10.0,<2->mlflow) (1.2.3)\n",
            "Requirement already satisfied: pywin32>=304 in c:\\users\\supriya\\anaconda3\\lib\\site-packages (from docker<8,>=4.0.0->mlflow) (305.1)\n",
            "Requirement already satisfied: urllib3>=1.26.0 in c:\\users\\supriya\\anaconda3\\lib\\site-packages (from docker<8,>=4.0.0->mlflow) (2.2.3)\n",
            "Requirement already satisfied: Werkzeug>=3.0.0 in c:\\users\\supriya\\anaconda3\\lib\\site-packages (from Flask<4->mlflow) (3.0.3)\n",
            "Requirement already satisfied: itsdangerous>=2.1.2 in c:\\users\\supriya\\anaconda3\\lib\\site-packages (from Flask<4->mlflow) (2.2.0)\n",
            "Requirement already satisfied: blinker>=1.6.2 in c:\\users\\supriya\\anaconda3\\lib\\site-packages (from Flask<4->mlflow) (1.6.2)\n",
            "Requirement already satisfied: graphql-core<3.3,>=3.1 in c:\\users\\supriya\\anaconda3\\lib\\site-packages (from graphene<4->mlflow) (3.2.6)\n",
            "Requirement already satisfied: graphql-relay<3.3,>=3.1 in c:\\users\\supriya\\anaconda3\\lib\\site-packages (from graphene<4->mlflow) (3.2.0)\n",
            "Requirement already satisfied: python-dateutil<3,>=2.7.0 in c:\\users\\supriya\\anaconda3\\lib\\site-packages (from graphene<4->mlflow) (2.9.0.post0)\n",
            "Requirement already satisfied: MarkupSafe>=2.0 in c:\\users\\supriya\\anaconda3\\lib\\site-packages (from Jinja2<4,>=3.0->mlflow) (2.1.3)\n",
            "Requirement already satisfied: contourpy>=1.0.1 in c:\\users\\supriya\\anaconda3\\lib\\site-packages (from matplotlib<4->mlflow) (1.2.0)\n",
            "Requirement already satisfied: cycler>=0.10 in c:\\users\\supriya\\anaconda3\\lib\\site-packages (from matplotlib<4->mlflow) (0.11.0)\n",
            "Requirement already satisfied: fonttools>=4.22.0 in c:\\users\\supriya\\anaconda3\\lib\\site-packages (from matplotlib<4->mlflow) (4.51.0)\n",
            "Requirement already satisfied: kiwisolver>=1.0.1 in c:\\users\\supriya\\anaconda3\\lib\\site-packages (from matplotlib<4->mlflow) (1.4.4)\n",
            "Requirement already satisfied: pillow>=6.2.0 in c:\\users\\supriya\\anaconda3\\lib\\site-packages (from matplotlib<4->mlflow) (10.4.0)\n",
            "Requirement already satisfied: pyparsing>=2.3.1 in c:\\users\\supriya\\anaconda3\\lib\\site-packages (from matplotlib<4->mlflow) (3.1.2)\n",
            "Requirement already satisfied: pytz>=2020.1 in c:\\users\\supriya\\anaconda3\\lib\\site-packages (from pandas<3->mlflow) (2024.1)\n",
            "Requirement already satisfied: tzdata>=2022.1 in c:\\users\\supriya\\anaconda3\\lib\\site-packages (from pandas<3->mlflow) (2023.3)\n",
            "Requirement already satisfied: joblib>=1.2.0 in c:\\users\\supriya\\anaconda3\\lib\\site-packages (from scikit-learn<2->mlflow) (1.3.2)\n",
            "Requirement already satisfied: threadpoolctl>=2.0.0 in c:\\users\\supriya\\anaconda3\\lib\\site-packages (from scikit-learn<2->mlflow) (3.5.0)\n",
            "Requirement already satisfied: greenlet!=0.4.17 in c:\\users\\supriya\\anaconda3\\lib\\site-packages (from sqlalchemy<3,>=1.4.0->mlflow) (3.0.1)\n",
            "Requirement already satisfied: colorama in c:\\users\\supriya\\anaconda3\\lib\\site-packages (from click<9,>=7.0->mlflow-skinny==2.20.1->mlflow) (0.4.6)\n",
            "Requirement already satisfied: google-auth~=2.0 in c:\\users\\supriya\\anaconda3\\lib\\site-packages (from databricks-sdk<1,>=0.20.0->mlflow-skinny==2.20.1->mlflow) (2.38.0)\n",
            "Requirement already satisfied: gitdb<5,>=4.0.1 in c:\\users\\supriya\\anaconda3\\lib\\site-packages (from gitpython<4,>=3.1.9->mlflow-skinny==2.20.1->mlflow) (4.0.7)\n",
            "Requirement already satisfied: zipp>=3.20 in c:\\users\\supriya\\anaconda3\\lib\\site-packages (from importlib_metadata!=4.7.0,<9,>=3.7.0->mlflow-skinny==2.20.1->mlflow) (3.21.0)\n",
            "Requirement already satisfied: deprecated>=1.2.6 in c:\\users\\supriya\\anaconda3\\lib\\site-packages (from opentelemetry-api<3,>=1.9.0->mlflow-skinny==2.20.1->mlflow) (1.2.18)\n",
            "Requirement already satisfied: opentelemetry-semantic-conventions==0.51b0 in c:\\users\\supriya\\anaconda3\\lib\\site-packages (from opentelemetry-sdk<3,>=1.9.0->mlflow-skinny==2.20.1->mlflow) (0.51b0)\n",
            "Requirement already satisfied: annotated-types>=0.4.0 in c:\\users\\supriya\\anaconda3\\lib\\site-packages (from pydantic<3,>=1.0->mlflow-skinny==2.20.1->mlflow) (0.6.0)\n",
            "Requirement already satisfied: pydantic-core==2.20.1 in c:\\users\\supriya\\anaconda3\\lib\\site-packages (from pydantic<3,>=1.0->mlflow-skinny==2.20.1->mlflow) (2.20.1)\n",
            "Requirement already satisfied: six>=1.5 in c:\\users\\supriya\\anaconda3\\lib\\site-packages (from python-dateutil<3,>=2.7.0->graphene<4->mlflow) (1.16.0)\n",
            "Requirement already satisfied: charset-normalizer<4,>=2 in c:\\users\\supriya\\anaconda3\\lib\\site-packages (from requests<3,>=2.17.3->mlflow-skinny==2.20.1->mlflow) (3.3.2)\n",
            "Requirement already satisfied: idna<4,>=2.5 in c:\\users\\supriya\\anaconda3\\lib\\site-packages (from requests<3,>=2.17.3->mlflow-skinny==2.20.1->mlflow) (3.7)\n",
            "Requirement already satisfied: certifi>=2017.4.17 in c:\\users\\supriya\\anaconda3\\lib\\site-packages (from requests<3,>=2.17.3->mlflow-skinny==2.20.1->mlflow) (2025.1.31)\n",
            "Requirement already satisfied: wrapt<2,>=1.10 in c:\\users\\supriya\\anaconda3\\lib\\site-packages (from deprecated>=1.2.6->opentelemetry-api<3,>=1.9.0->mlflow-skinny==2.20.1->mlflow) (1.14.1)\n",
            "Requirement already satisfied: smmap<5,>=3.0.1 in c:\\users\\supriya\\anaconda3\\lib\\site-packages (from gitdb<5,>=4.0.1->gitpython<4,>=3.1.9->mlflow-skinny==2.20.1->mlflow) (4.0.0)\n",
            "Requirement already satisfied: pyasn1-modules>=0.2.1 in c:\\users\\supriya\\anaconda3\\lib\\site-packages (from google-auth~=2.0->databricks-sdk<1,>=0.20.0->mlflow-skinny==2.20.1->mlflow) (0.2.8)\n",
            "Requirement already satisfied: rsa<5,>=3.1.4 in c:\\users\\supriya\\anaconda3\\lib\\site-packages (from google-auth~=2.0->databricks-sdk<1,>=0.20.0->mlflow-skinny==2.20.1->mlflow) (4.9)\n",
            "Requirement already satisfied: pyasn1<0.5.0,>=0.4.6 in c:\\users\\supriya\\anaconda3\\lib\\site-packages (from pyasn1-modules>=0.2.1->google-auth~=2.0->databricks-sdk<1,>=0.20.0->mlflow-skinny==2.20.1->mlflow) (0.4.8)\n",
            "Requirement already satisfied: importlib-metadata==8.5.0 in c:\\users\\supriya\\anaconda3\\lib\\site-packages (8.5.0)\n",
            "Requirement already satisfied: zipp>=3.20 in c:\\users\\supriya\\anaconda3\\lib\\site-packages (from importlib-metadata==8.5.0) (3.21.0)\n"
          ]
        }
      ],
      "source": [
        "!pip install pycaret --upgrade\n",
        "!pip install mlflow --upgrade\n",
        "!pip install importlib-metadata==8.5.0\n"
      ]
    },
    {
      "cell_type": "markdown",
      "source": [
        "### Import PyCaret for Regression\n",
        "\n",
        "Now, we will **import PyCaret's regression module**, which provides all the necessary functions for:\n",
        "\n",
        "Data preprocessing  \n",
        "Model training  \n",
        "Model evaluation  \n",
        "Hyperparameter tuning  \n",
        "Model saving and deployment  \n",
        "\n",
        "🔽 **Run the following code to import PyCaret:**"
      ],
      "metadata": {
        "id": "zIWiZqiksPyi"
      },
      "id": "zIWiZqiksPyi"
    },
    {
      "cell_type": "code",
      "execution_count": null,
      "id": "8ugkeVvNRjUx",
      "metadata": {
        "id": "8ugkeVvNRjUx"
      },
      "outputs": [],
      "source": [
        "from pycaret.regression import *"
      ]
    },
    {
      "cell_type": "markdown",
      "source": [
        "#### Load the Dataset from PyCaret\n",
        "\n",
        "We will use **PyCaret's built-in dataset** called `\"diamond\"`.  \n",
        "This dataset contains information about **diamond characteristics** and their **prices**.\n",
        "\n",
        "**Why Use PyCaret’s Built-in Dataset?**\n",
        "- PyCaret provides several datasets for **quick experiments**.\n",
        "- No need to manually download or preprocess external datasets.\n",
        "- It allows us to **focus on model building**.\n",
        "\n",
        "🔽 **Run the following code to load the dataset:**"
      ],
      "metadata": {
        "id": "8dr4tk-GsyxL"
      },
      "id": "8dr4tk-GsyxL"
    },
    {
      "cell_type": "code",
      "execution_count": null,
      "id": "d299f435",
      "metadata": {
        "colab": {
          "base_uri": "https://localhost:8080/",
          "height": 206
        },
        "id": "d299f435",
        "outputId": "c812aa01-aa57-4bfd-f672-2a98cfd8e39a"
      },
      "outputs": [
        {
          "data": {
            "text/html": [
              "<div>\n",
              "<style scoped>\n",
              "    .dataframe tbody tr th:only-of-type {\n",
              "        vertical-align: middle;\n",
              "    }\n",
              "\n",
              "    .dataframe tbody tr th {\n",
              "        vertical-align: top;\n",
              "    }\n",
              "\n",
              "    .dataframe thead th {\n",
              "        text-align: right;\n",
              "    }\n",
              "</style>\n",
              "<table border=\"1\" class=\"dataframe\">\n",
              "  <thead>\n",
              "    <tr style=\"text-align: right;\">\n",
              "      <th></th>\n",
              "      <th>Carat Weight</th>\n",
              "      <th>Cut</th>\n",
              "      <th>Color</th>\n",
              "      <th>Clarity</th>\n",
              "      <th>Polish</th>\n",
              "      <th>Symmetry</th>\n",
              "      <th>Report</th>\n",
              "      <th>Price</th>\n",
              "    </tr>\n",
              "  </thead>\n",
              "  <tbody>\n",
              "    <tr>\n",
              "      <th>0</th>\n",
              "      <td>1.10</td>\n",
              "      <td>Ideal</td>\n",
              "      <td>H</td>\n",
              "      <td>SI1</td>\n",
              "      <td>VG</td>\n",
              "      <td>EX</td>\n",
              "      <td>GIA</td>\n",
              "      <td>5169</td>\n",
              "    </tr>\n",
              "    <tr>\n",
              "      <th>1</th>\n",
              "      <td>0.83</td>\n",
              "      <td>Ideal</td>\n",
              "      <td>H</td>\n",
              "      <td>VS1</td>\n",
              "      <td>ID</td>\n",
              "      <td>ID</td>\n",
              "      <td>AGSL</td>\n",
              "      <td>3470</td>\n",
              "    </tr>\n",
              "    <tr>\n",
              "      <th>2</th>\n",
              "      <td>0.85</td>\n",
              "      <td>Ideal</td>\n",
              "      <td>H</td>\n",
              "      <td>SI1</td>\n",
              "      <td>EX</td>\n",
              "      <td>EX</td>\n",
              "      <td>GIA</td>\n",
              "      <td>3183</td>\n",
              "    </tr>\n",
              "    <tr>\n",
              "      <th>3</th>\n",
              "      <td>0.91</td>\n",
              "      <td>Ideal</td>\n",
              "      <td>E</td>\n",
              "      <td>SI1</td>\n",
              "      <td>VG</td>\n",
              "      <td>VG</td>\n",
              "      <td>GIA</td>\n",
              "      <td>4370</td>\n",
              "    </tr>\n",
              "    <tr>\n",
              "      <th>4</th>\n",
              "      <td>0.83</td>\n",
              "      <td>Ideal</td>\n",
              "      <td>G</td>\n",
              "      <td>SI1</td>\n",
              "      <td>EX</td>\n",
              "      <td>EX</td>\n",
              "      <td>GIA</td>\n",
              "      <td>3171</td>\n",
              "    </tr>\n",
              "  </tbody>\n",
              "</table>\n",
              "</div>"
            ],
            "text/plain": [
              "   Carat Weight    Cut Color Clarity Polish Symmetry Report  Price\n",
              "0          1.10  Ideal     H     SI1     VG       EX    GIA   5169\n",
              "1          0.83  Ideal     H     VS1     ID       ID   AGSL   3470\n",
              "2          0.85  Ideal     H     SI1     EX       EX    GIA   3183\n",
              "3          0.91  Ideal     E     SI1     VG       VG    GIA   4370\n",
              "4          0.83  Ideal     G     SI1     EX       EX    GIA   3171"
            ]
          },
          "metadata": {},
          "output_type": "display_data"
        }
      ],
      "source": [
        "# load the dataset from pycaret\n",
        "from pycaret.datasets import get_data\n",
        "dataset = get_data('diamond')"
      ]
    },
    {
      "cell_type": "markdown",
      "source": [
        "####Splitting the Dataset for Training and Testing\n",
        "\n",
        "After loading the dataset, we need to **split it into two parts**:\n",
        "\n",
        "1 **Training Data (90%)** → Used to train and optimize the model.  \n",
        "2 **Unseen Data (10%)** → Used to test how well the model predicts new values.\n",
        "\n",
        "🔽 **Run the following code to split the dataset:**"
      ],
      "metadata": {
        "id": "oGKGtui7wy1s"
      },
      "id": "oGKGtui7wy1s"
    },
    {
      "cell_type": "code",
      "execution_count": null,
      "id": "7c4be895",
      "metadata": {
        "colab": {
          "base_uri": "https://localhost:8080/"
        },
        "id": "7c4be895",
        "outputId": "f9bad6e9-3ca8-4f6b-a505-7b3c4fd5b447"
      },
      "outputs": [
        {
          "name": "stdout",
          "output_type": "stream",
          "text": [
            "Data for Modeling: (5400, 8)\n",
            "Unseen Data For Predictions (600, 8)\n"
          ]
        }
      ],
      "source": [
        "data = dataset.sample(frac=0.9, random_state=786)\n",
        "data_unseen = dataset.drop(data.index)\n",
        "\n",
        "data.reset_index(drop=True, inplace=True)\n",
        "data_unseen.reset_index(drop=True, inplace=True)\n",
        "\n",
        "print('Data for Modeling: ' + str(data.shape))\n",
        "print('Unseen Data For Predictions ' + str(data_unseen.shape))"
      ]
    },
    {
      "cell_type": "markdown",
      "id": "84ff9cd3",
      "metadata": {
        "id": "84ff9cd3"
      },
      "source": [
        "#### Initializing PyCaret for Regression\n",
        "\n",
        "After loading and splitting the dataset, we need to **initialize PyCaret** to:\n",
        "✅ Define the **target variable** (`Price`).  \n",
        "✅ Apply **data preprocessing** (normalization, transformation, feature engineering).  \n",
        "✅ Handle **multicollinearity** (remove highly correlated features).  \n",
        "✅ Log the experiment for easy tracking.  \n",
        "\n",
        "🔽 **Run the following code to set up PyCaret for regression:**\n",
        "       \n",
        "\n"
      ]
    },
    {
      "cell_type": "code",
      "execution_count": null,
      "id": "d885b6f6",
      "metadata": {
        "id": "d885b6f6"
      },
      "outputs": [],
      "source": [
        "# Initialize PyCaret setup for regression with the 'Price' column as the target\n",
        "exp_reg102 = setup(data=data,\n",
        "                   target='Price',\n",
        "                   session_id=123,  # Random seed for reproducibility\n",
        "                   normalize=True,  # Normalize the data\n",
        "                   transformation=True,  # Apply transformations to the data\n",
        "                   transform_target=True,  # Transform the target variable\n",
        "                   rare_to_value=0.05,  # Assign rare category values\n",
        "                   remove_multicollinearity=True,  # Remove multicollinearity\n",
        "                   multicollinearity_threshold=0.95,  # Multicollinearity threshold\n",
        "                   bin_numeric_features=['Carat Weight'],  # Bin 'Carat Weight' feature\n",
        "                   log_experiment=True,  # Log the experiment in the workspace\n",
        "                   experiment_name='diamond_price_prediction',  # Name for the experiment\n",
        "                   verbose=False)  # Suppress detailed output"
      ]
    },
    {
      "cell_type": "markdown",
      "id": "e62a5f68",
      "metadata": {
        "id": "e62a5f68"
      },
      "source": [
        "#####**Comparing Regression Models**\n",
        "\n",
        "PyCaret allows us to **automatically test multiple regression models** and find the best-performing one.\n",
        "\n",
        "**What Happens in This Step?**\n",
        "- PyCaret trains **multiple regression models** on our dataset.\n",
        "- It evaluates models using different **metrics** (R², RMSE, MAE, etc.).\n",
        "- It selects the **best model** based on overall performance.\n",
        "- We exclude the `'ransac'` model from the comparison.\n",
        "\n",
        "🔽 **Run the following code to compare models:**\n"
      ]
    },
    {
      "cell_type": "code",
      "execution_count": null,
      "id": "827b835c",
      "metadata": {
        "colab": {
          "base_uri": "https://localhost:8080/",
          "height": 614,
          "referenced_widgets": [
            "9c6cc13bc5174dd6a251a55fde1a2aaf",
            "8ee9510272df44fe981a528c3f685945",
            "53eb767e3ec24555b0e1bdb9a3ac667c",
            "eb13ceba62344c9096bc7392e45954f4",
            "e903268c2c2440078bd07fce02e8039b",
            "2de741e5ffeb4c6d81be4ef86d17f389",
            "234c4a1feee24e4bb130b8e7ccc32dbd",
            "6fe40fc939694cf5b26f12cbb59fdcf8",
            "b7ef9f8bcfbe4376ba502461ee7a1f1c",
            "81d74a0853934b678b759773b3ac6215",
            "3cfa62a7caf14e7ea4cc261af8714d12"
          ]
        },
        "id": "827b835c",
        "outputId": "546a9ef8-7e04-4141-8776-32c7cbd605be"
      },
      "outputs": [
        {
          "data": {
            "text/html": [],
            "text/plain": [
              "<IPython.core.display.HTML object>"
            ]
          },
          "metadata": {},
          "output_type": "display_data"
        },
        {
          "data": {
            "text/html": [
              "<style type=\"text/css\">\n",
              "#T_f1933 th {\n",
              "  text-align: left;\n",
              "}\n",
              "#T_f1933_row0_col0, #T_f1933_row0_col1, #T_f1933_row0_col3, #T_f1933_row0_col5, #T_f1933_row0_col6, #T_f1933_row1_col0, #T_f1933_row1_col1, #T_f1933_row1_col2, #T_f1933_row1_col3, #T_f1933_row1_col4, #T_f1933_row1_col5, #T_f1933_row1_col6, #T_f1933_row2_col0, #T_f1933_row2_col1, #T_f1933_row2_col2, #T_f1933_row2_col3, #T_f1933_row2_col4, #T_f1933_row2_col5, #T_f1933_row2_col6, #T_f1933_row3_col0, #T_f1933_row3_col1, #T_f1933_row3_col2, #T_f1933_row3_col3, #T_f1933_row3_col4, #T_f1933_row3_col5, #T_f1933_row3_col6, #T_f1933_row4_col0, #T_f1933_row4_col1, #T_f1933_row4_col2, #T_f1933_row4_col3, #T_f1933_row4_col4, #T_f1933_row4_col5, #T_f1933_row4_col6, #T_f1933_row5_col0, #T_f1933_row5_col1, #T_f1933_row5_col2, #T_f1933_row5_col3, #T_f1933_row5_col4, #T_f1933_row5_col5, #T_f1933_row5_col6, #T_f1933_row6_col0, #T_f1933_row6_col1, #T_f1933_row6_col2, #T_f1933_row6_col3, #T_f1933_row6_col4, #T_f1933_row6_col5, #T_f1933_row6_col6, #T_f1933_row7_col0, #T_f1933_row7_col1, #T_f1933_row7_col2, #T_f1933_row7_col3, #T_f1933_row7_col4, #T_f1933_row7_col5, #T_f1933_row7_col6, #T_f1933_row8_col0, #T_f1933_row8_col1, #T_f1933_row8_col2, #T_f1933_row8_col3, #T_f1933_row8_col4, #T_f1933_row8_col5, #T_f1933_row8_col6, #T_f1933_row9_col0, #T_f1933_row9_col1, #T_f1933_row9_col2, #T_f1933_row9_col3, #T_f1933_row9_col4, #T_f1933_row9_col5, #T_f1933_row9_col6, #T_f1933_row10_col0, #T_f1933_row10_col1, #T_f1933_row10_col2, #T_f1933_row10_col3, #T_f1933_row10_col4, #T_f1933_row10_col5, #T_f1933_row10_col6, #T_f1933_row11_col0, #T_f1933_row11_col1, #T_f1933_row11_col2, #T_f1933_row11_col3, #T_f1933_row11_col4, #T_f1933_row11_col5, #T_f1933_row11_col6, #T_f1933_row12_col0, #T_f1933_row12_col2, #T_f1933_row12_col4, #T_f1933_row13_col0, #T_f1933_row13_col1, #T_f1933_row13_col2, #T_f1933_row13_col3, #T_f1933_row13_col4, #T_f1933_row13_col5, #T_f1933_row13_col6, #T_f1933_row14_col0, #T_f1933_row14_col1, #T_f1933_row14_col2, #T_f1933_row14_col3, #T_f1933_row14_col4, #T_f1933_row14_col5, #T_f1933_row14_col6, #T_f1933_row15_col0, #T_f1933_row15_col1, #T_f1933_row15_col2, #T_f1933_row15_col3, #T_f1933_row15_col4, #T_f1933_row15_col5, #T_f1933_row15_col6, #T_f1933_row16_col0, #T_f1933_row16_col1, #T_f1933_row16_col2, #T_f1933_row16_col3, #T_f1933_row16_col4, #T_f1933_row16_col5, #T_f1933_row16_col6 {\n",
              "  text-align: left;\n",
              "}\n",
              "#T_f1933_row0_col2, #T_f1933_row0_col4, #T_f1933_row12_col1, #T_f1933_row12_col3, #T_f1933_row12_col5, #T_f1933_row12_col6 {\n",
              "  text-align: left;\n",
              "  background-color: yellow;\n",
              "}\n",
              "#T_f1933_row0_col7, #T_f1933_row1_col7, #T_f1933_row2_col7, #T_f1933_row3_col7, #T_f1933_row5_col7, #T_f1933_row6_col7, #T_f1933_row7_col7, #T_f1933_row8_col7, #T_f1933_row9_col7, #T_f1933_row10_col7, #T_f1933_row11_col7, #T_f1933_row12_col7, #T_f1933_row13_col7, #T_f1933_row14_col7, #T_f1933_row16_col7 {\n",
              "  text-align: left;\n",
              "  background-color: lightgrey;\n",
              "}\n",
              "#T_f1933_row4_col7, #T_f1933_row15_col7 {\n",
              "  text-align: left;\n",
              "  background-color: yellow;\n",
              "  background-color: lightgrey;\n",
              "}\n",
              "</style>\n",
              "<table id=\"T_f1933\">\n",
              "  <thead>\n",
              "    <tr>\n",
              "      <th class=\"blank level0\" >&nbsp;</th>\n",
              "      <th id=\"T_f1933_level0_col0\" class=\"col_heading level0 col0\" >Model</th>\n",
              "      <th id=\"T_f1933_level0_col1\" class=\"col_heading level0 col1\" >MAE</th>\n",
              "      <th id=\"T_f1933_level0_col2\" class=\"col_heading level0 col2\" >MSE</th>\n",
              "      <th id=\"T_f1933_level0_col3\" class=\"col_heading level0 col3\" >RMSE</th>\n",
              "      <th id=\"T_f1933_level0_col4\" class=\"col_heading level0 col4\" >R2</th>\n",
              "      <th id=\"T_f1933_level0_col5\" class=\"col_heading level0 col5\" >RMSLE</th>\n",
              "      <th id=\"T_f1933_level0_col6\" class=\"col_heading level0 col6\" >MAPE</th>\n",
              "      <th id=\"T_f1933_level0_col7\" class=\"col_heading level0 col7\" >TT (Sec)</th>\n",
              "    </tr>\n",
              "  </thead>\n",
              "  <tbody>\n",
              "    <tr>\n",
              "      <th id=\"T_f1933_level0_row0\" class=\"row_heading level0 row0\" >lightgbm</th>\n",
              "      <td id=\"T_f1933_row0_col0\" class=\"data row0 col0\" >Light Gradient Boosting Machine</td>\n",
              "      <td id=\"T_f1933_row0_col1\" class=\"data row0 col1\" >1669.9660</td>\n",
              "      <td id=\"T_f1933_row0_col2\" class=\"data row0 col2\" >6375439.5238</td>\n",
              "      <td id=\"T_f1933_row0_col3\" class=\"data row0 col3\" >2500.3723</td>\n",
              "      <td id=\"T_f1933_row0_col4\" class=\"data row0 col4\" >0.9375</td>\n",
              "      <td id=\"T_f1933_row0_col5\" class=\"data row0 col5\" >0.2240</td>\n",
              "      <td id=\"T_f1933_row0_col6\" class=\"data row0 col6\" >0.1847</td>\n",
              "      <td id=\"T_f1933_row0_col7\" class=\"data row0 col7\" >0.2790</td>\n",
              "    </tr>\n",
              "    <tr>\n",
              "      <th id=\"T_f1933_level0_row1\" class=\"row_heading level0 row1\" >gbr</th>\n",
              "      <td id=\"T_f1933_row1_col0\" class=\"data row1 col0\" >Gradient Boosting Regressor</td>\n",
              "      <td id=\"T_f1933_row1_col1\" class=\"data row1 col1\" >1737.6510</td>\n",
              "      <td id=\"T_f1933_row1_col2\" class=\"data row1 col2\" >7032783.3658</td>\n",
              "      <td id=\"T_f1933_row1_col3\" class=\"data row1 col3\" >2611.4470</td>\n",
              "      <td id=\"T_f1933_row1_col4\" class=\"data row1 col4\" >0.9305</td>\n",
              "      <td id=\"T_f1933_row1_col5\" class=\"data row1 col5\" >0.2254</td>\n",
              "      <td id=\"T_f1933_row1_col6\" class=\"data row1 col6\" >0.1905</td>\n",
              "      <td id=\"T_f1933_row1_col7\" class=\"data row1 col7\" >0.2620</td>\n",
              "    </tr>\n",
              "    <tr>\n",
              "      <th id=\"T_f1933_level0_row2\" class=\"row_heading level0 row2\" >rf</th>\n",
              "      <td id=\"T_f1933_row2_col0\" class=\"data row2 col0\" >Random Forest Regressor</td>\n",
              "      <td id=\"T_f1933_row2_col1\" class=\"data row2 col1\" >1782.9765</td>\n",
              "      <td id=\"T_f1933_row2_col2\" class=\"data row2 col2\" >7562728.3995</td>\n",
              "      <td id=\"T_f1933_row2_col3\" class=\"data row2 col3\" >2730.7880</td>\n",
              "      <td id=\"T_f1933_row2_col4\" class=\"data row2 col4\" >0.9256</td>\n",
              "      <td id=\"T_f1933_row2_col5\" class=\"data row2 col5\" >0.2424</td>\n",
              "      <td id=\"T_f1933_row2_col6\" class=\"data row2 col6\" >0.1938</td>\n",
              "      <td id=\"T_f1933_row2_col7\" class=\"data row2 col7\" >0.3480</td>\n",
              "    </tr>\n",
              "    <tr>\n",
              "      <th id=\"T_f1933_level0_row3\" class=\"row_heading level0 row3\" >et</th>\n",
              "      <td id=\"T_f1933_row3_col0\" class=\"data row3 col0\" >Extra Trees Regressor</td>\n",
              "      <td id=\"T_f1933_row3_col1\" class=\"data row3 col1\" >1934.6340</td>\n",
              "      <td id=\"T_f1933_row3_col2\" class=\"data row3 col2\" >9478080.7982</td>\n",
              "      <td id=\"T_f1933_row3_col3\" class=\"data row3 col3\" >3060.6766</td>\n",
              "      <td id=\"T_f1933_row3_col4\" class=\"data row3 col4\" >0.9061</td>\n",
              "      <td id=\"T_f1933_row3_col5\" class=\"data row3 col5\" >0.2623</td>\n",
              "      <td id=\"T_f1933_row3_col6\" class=\"data row3 col6\" >0.2057</td>\n",
              "      <td id=\"T_f1933_row3_col7\" class=\"data row3 col7\" >0.4310</td>\n",
              "    </tr>\n",
              "    <tr>\n",
              "      <th id=\"T_f1933_level0_row4\" class=\"row_heading level0 row4\" >dt</th>\n",
              "      <td id=\"T_f1933_row4_col0\" class=\"data row4 col0\" >Decision Tree Regressor</td>\n",
              "      <td id=\"T_f1933_row4_col1\" class=\"data row4 col1\" >1958.1817</td>\n",
              "      <td id=\"T_f1933_row4_col2\" class=\"data row4 col2\" >10004086.6635</td>\n",
              "      <td id=\"T_f1933_row4_col3\" class=\"data row4 col3\" >3150.1290</td>\n",
              "      <td id=\"T_f1933_row4_col4\" class=\"data row4 col4\" >0.9005</td>\n",
              "      <td id=\"T_f1933_row4_col5\" class=\"data row4 col5\" >0.2636</td>\n",
              "      <td id=\"T_f1933_row4_col6\" class=\"data row4 col6\" >0.2068</td>\n",
              "      <td id=\"T_f1933_row4_col7\" class=\"data row4 col7\" >0.1390</td>\n",
              "    </tr>\n",
              "    <tr>\n",
              "      <th id=\"T_f1933_level0_row5\" class=\"row_heading level0 row5\" >huber</th>\n",
              "      <td id=\"T_f1933_row5_col0\" class=\"data row5 col0\" >Huber Regressor</td>\n",
              "      <td id=\"T_f1933_row5_col1\" class=\"data row5 col1\" >2475.4675</td>\n",
              "      <td id=\"T_f1933_row5_col2\" class=\"data row5 col2\" >14048592.6577</td>\n",
              "      <td id=\"T_f1933_row5_col3\" class=\"data row5 col3\" >3724.9835</td>\n",
              "      <td id=\"T_f1933_row5_col4\" class=\"data row5 col4\" >0.8618</td>\n",
              "      <td id=\"T_f1933_row5_col5\" class=\"data row5 col5\" >0.2791</td>\n",
              "      <td id=\"T_f1933_row5_col6\" class=\"data row5 col6\" >0.2457</td>\n",
              "      <td id=\"T_f1933_row5_col7\" class=\"data row5 col7\" >0.1590</td>\n",
              "    </tr>\n",
              "    <tr>\n",
              "      <th id=\"T_f1933_level0_row6\" class=\"row_heading level0 row6\" >ridge</th>\n",
              "      <td id=\"T_f1933_row6_col0\" class=\"data row6 col0\" >Ridge Regression</td>\n",
              "      <td id=\"T_f1933_row6_col1\" class=\"data row6 col1\" >2539.5880</td>\n",
              "      <td id=\"T_f1933_row6_col2\" class=\"data row6 col2\" >14482719.5883</td>\n",
              "      <td id=\"T_f1933_row6_col3\" class=\"data row6 col3\" >3781.7478</td>\n",
              "      <td id=\"T_f1933_row6_col4\" class=\"data row6 col4\" >0.8576</td>\n",
              "      <td id=\"T_f1933_row6_col5\" class=\"data row6 col5\" >0.2764</td>\n",
              "      <td id=\"T_f1933_row6_col6\" class=\"data row6 col6\" >0.2408</td>\n",
              "      <td id=\"T_f1933_row6_col7\" class=\"data row6 col7\" >0.1910</td>\n",
              "    </tr>\n",
              "    <tr>\n",
              "      <th id=\"T_f1933_level0_row7\" class=\"row_heading level0 row7\" >br</th>\n",
              "      <td id=\"T_f1933_row7_col0\" class=\"data row7 col0\" >Bayesian Ridge</td>\n",
              "      <td id=\"T_f1933_row7_col1\" class=\"data row7 col1\" >2543.2311</td>\n",
              "      <td id=\"T_f1933_row7_col2\" class=\"data row7 col2\" >14551919.1626</td>\n",
              "      <td id=\"T_f1933_row7_col3\" class=\"data row7 col3\" >3790.5845</td>\n",
              "      <td id=\"T_f1933_row7_col4\" class=\"data row7 col4\" >0.8569</td>\n",
              "      <td id=\"T_f1933_row7_col5\" class=\"data row7 col5\" >0.2765</td>\n",
              "      <td id=\"T_f1933_row7_col6\" class=\"data row7 col6\" >0.2408</td>\n",
              "      <td id=\"T_f1933_row7_col7\" class=\"data row7 col7\" >0.1460</td>\n",
              "    </tr>\n",
              "    <tr>\n",
              "      <th id=\"T_f1933_level0_row8\" class=\"row_heading level0 row8\" >lr</th>\n",
              "      <td id=\"T_f1933_row8_col0\" class=\"data row8 col0\" >Linear Regression</td>\n",
              "      <td id=\"T_f1933_row8_col1\" class=\"data row8 col1\" >2549.7090</td>\n",
              "      <td id=\"T_f1933_row8_col2\" class=\"data row8 col2\" >14747821.3379</td>\n",
              "      <td id=\"T_f1933_row8_col3\" class=\"data row8 col3\" >3814.4370</td>\n",
              "      <td id=\"T_f1933_row8_col4\" class=\"data row8 col4\" >0.8551</td>\n",
              "      <td id=\"T_f1933_row8_col5\" class=\"data row8 col5\" >0.2769</td>\n",
              "      <td id=\"T_f1933_row8_col6\" class=\"data row8 col6\" >0.2411</td>\n",
              "      <td id=\"T_f1933_row8_col7\" class=\"data row8 col7\" >0.8310</td>\n",
              "    </tr>\n",
              "    <tr>\n",
              "      <th id=\"T_f1933_level0_row9\" class=\"row_heading level0 row9\" >ada</th>\n",
              "      <td id=\"T_f1933_row9_col0\" class=\"data row9 col0\" >AdaBoost Regressor</td>\n",
              "      <td id=\"T_f1933_row9_col1\" class=\"data row9 col1\" >2765.7058</td>\n",
              "      <td id=\"T_f1933_row9_col2\" class=\"data row9 col2\" >25634838.3155</td>\n",
              "      <td id=\"T_f1933_row9_col3\" class=\"data row9 col3\" >4995.6865</td>\n",
              "      <td id=\"T_f1933_row9_col4\" class=\"data row9 col4\" >0.7525</td>\n",
              "      <td id=\"T_f1933_row9_col5\" class=\"data row9 col5\" >0.2955</td>\n",
              "      <td id=\"T_f1933_row9_col6\" class=\"data row9 col6\" >0.2298</td>\n",
              "      <td id=\"T_f1933_row9_col7\" class=\"data row9 col7\" >0.2680</td>\n",
              "    </tr>\n",
              "    <tr>\n",
              "      <th id=\"T_f1933_level0_row10\" class=\"row_heading level0 row10\" >omp</th>\n",
              "      <td id=\"T_f1933_row10_col0\" class=\"data row10 col0\" >Orthogonal Matching Pursuit</td>\n",
              "      <td id=\"T_f1933_row10_col1\" class=\"data row10 col1\" >3038.6247</td>\n",
              "      <td id=\"T_f1933_row10_col2\" class=\"data row10 col2\" >31316066.6892</td>\n",
              "      <td id=\"T_f1933_row10_col3\" class=\"data row10 col3\" >5534.5785</td>\n",
              "      <td id=\"T_f1933_row10_col4\" class=\"data row10 col4\" >0.6968</td>\n",
              "      <td id=\"T_f1933_row10_col5\" class=\"data row10 col5\" >0.3329</td>\n",
              "      <td id=\"T_f1933_row10_col6\" class=\"data row10 col6\" >0.2650</td>\n",
              "      <td id=\"T_f1933_row10_col7\" class=\"data row10 col7\" >0.1420</td>\n",
              "    </tr>\n",
              "    <tr>\n",
              "      <th id=\"T_f1933_level0_row11\" class=\"row_heading level0 row11\" >knn</th>\n",
              "      <td id=\"T_f1933_row11_col0\" class=\"data row11 col0\" >K Neighbors Regressor</td>\n",
              "      <td id=\"T_f1933_row11_col1\" class=\"data row11 col1\" >3952.7974</td>\n",
              "      <td id=\"T_f1933_row11_col2\" class=\"data row11 col2\" >50381371.8086</td>\n",
              "      <td id=\"T_f1933_row11_col3\" class=\"data row11 col3\" >7083.8504</td>\n",
              "      <td id=\"T_f1933_row11_col4\" class=\"data row11 col4\" >0.4941</td>\n",
              "      <td id=\"T_f1933_row11_col5\" class=\"data row11 col5\" >0.4582</td>\n",
              "      <td id=\"T_f1933_row11_col6\" class=\"data row11 col6\" >0.3308</td>\n",
              "      <td id=\"T_f1933_row11_col7\" class=\"data row11 col7\" >0.1480</td>\n",
              "    </tr>\n",
              "    <tr>\n",
              "      <th id=\"T_f1933_level0_row12\" class=\"row_heading level0 row12\" >lar</th>\n",
              "      <td id=\"T_f1933_row12_col0\" class=\"data row12 col0\" >Least Angle Regression</td>\n",
              "      <td id=\"T_f1933_row12_col1\" class=\"data row12 col1\" >984.4655</td>\n",
              "      <td id=\"T_f1933_row12_col2\" class=\"data row12 col2\" >12837341.7251</td>\n",
              "      <td id=\"T_f1933_row12_col3\" class=\"data row12 col3\" >1866.1171</td>\n",
              "      <td id=\"T_f1933_row12_col4\" class=\"data row12 col4\" >0.1663</td>\n",
              "      <td id=\"T_f1933_row12_col5\" class=\"data row12 col5\" >0.1338</td>\n",
              "      <td id=\"T_f1933_row12_col6\" class=\"data row12 col6\" >0.0902</td>\n",
              "      <td id=\"T_f1933_row12_col7\" class=\"data row12 col7\" >0.1460</td>\n",
              "    </tr>\n",
              "    <tr>\n",
              "      <th id=\"T_f1933_level0_row13\" class=\"row_heading level0 row13\" >lasso</th>\n",
              "      <td id=\"T_f1933_row13_col0\" class=\"data row13 col0\" >Lasso Regression</td>\n",
              "      <td id=\"T_f1933_row13_col1\" class=\"data row13 col1\" >6501.4794</td>\n",
              "      <td id=\"T_f1933_row13_col2\" class=\"data row13 col2\" >113812419.9972</td>\n",
              "      <td id=\"T_f1933_row13_col3\" class=\"data row13 col3\" >10639.8451</td>\n",
              "      <td id=\"T_f1933_row13_col4\" class=\"data row13 col4\" >-0.1270</td>\n",
              "      <td id=\"T_f1933_row13_col5\" class=\"data row13 col5\" >0.7148</td>\n",
              "      <td id=\"T_f1933_row13_col6\" class=\"data row13 col6\" >0.5619</td>\n",
              "      <td id=\"T_f1933_row13_col7\" class=\"data row13 col7\" >0.1740</td>\n",
              "    </tr>\n",
              "    <tr>\n",
              "      <th id=\"T_f1933_level0_row14\" class=\"row_heading level0 row14\" >en</th>\n",
              "      <td id=\"T_f1933_row14_col0\" class=\"data row14 col0\" >Elastic Net</td>\n",
              "      <td id=\"T_f1933_row14_col1\" class=\"data row14 col1\" >6501.4794</td>\n",
              "      <td id=\"T_f1933_row14_col2\" class=\"data row14 col2\" >113812419.9972</td>\n",
              "      <td id=\"T_f1933_row14_col3\" class=\"data row14 col3\" >10639.8451</td>\n",
              "      <td id=\"T_f1933_row14_col4\" class=\"data row14 col4\" >-0.1270</td>\n",
              "      <td id=\"T_f1933_row14_col5\" class=\"data row14 col5\" >0.7148</td>\n",
              "      <td id=\"T_f1933_row14_col6\" class=\"data row14 col6\" >0.5619</td>\n",
              "      <td id=\"T_f1933_row14_col7\" class=\"data row14 col7\" >0.1810</td>\n",
              "    </tr>\n",
              "    <tr>\n",
              "      <th id=\"T_f1933_level0_row15\" class=\"row_heading level0 row15\" >llar</th>\n",
              "      <td id=\"T_f1933_row15_col0\" class=\"data row15 col0\" >Lasso Least Angle Regression</td>\n",
              "      <td id=\"T_f1933_row15_col1\" class=\"data row15 col1\" >6501.4794</td>\n",
              "      <td id=\"T_f1933_row15_col2\" class=\"data row15 col2\" >113812419.9972</td>\n",
              "      <td id=\"T_f1933_row15_col3\" class=\"data row15 col3\" >10639.8451</td>\n",
              "      <td id=\"T_f1933_row15_col4\" class=\"data row15 col4\" >-0.1270</td>\n",
              "      <td id=\"T_f1933_row15_col5\" class=\"data row15 col5\" >0.7148</td>\n",
              "      <td id=\"T_f1933_row15_col6\" class=\"data row15 col6\" >0.5619</td>\n",
              "      <td id=\"T_f1933_row15_col7\" class=\"data row15 col7\" >0.1390</td>\n",
              "    </tr>\n",
              "    <tr>\n",
              "      <th id=\"T_f1933_level0_row16\" class=\"row_heading level0 row16\" >dummy</th>\n",
              "      <td id=\"T_f1933_row16_col0\" class=\"data row16 col0\" >Dummy Regressor</td>\n",
              "      <td id=\"T_f1933_row16_col1\" class=\"data row16 col1\" >6501.4794</td>\n",
              "      <td id=\"T_f1933_row16_col2\" class=\"data row16 col2\" >113812419.9972</td>\n",
              "      <td id=\"T_f1933_row16_col3\" class=\"data row16 col3\" >10639.8451</td>\n",
              "      <td id=\"T_f1933_row16_col4\" class=\"data row16 col4\" >-0.1270</td>\n",
              "      <td id=\"T_f1933_row16_col5\" class=\"data row16 col5\" >0.7148</td>\n",
              "      <td id=\"T_f1933_row16_col6\" class=\"data row16 col6\" >0.5619</td>\n",
              "      <td id=\"T_f1933_row16_col7\" class=\"data row16 col7\" >0.1590</td>\n",
              "    </tr>\n",
              "  </tbody>\n",
              "</table>\n"
            ],
            "text/plain": [
              "<pandas.io.formats.style.Styler at 0x18d12df0d30>"
            ]
          },
          "metadata": {},
          "output_type": "display_data"
        },
        {
          "data": {
            "text/html": [],
            "text/plain": [
              "<IPython.core.display.HTML object>"
            ]
          },
          "metadata": {},
          "output_type": "display_data"
        }
      ],
      "source": [
        "best_model = compare_models(exclude = ['ransac'])"
      ]
    },
    {
      "cell_type": "markdown",
      "source": [
        "##### **Tuning the Best Model**\n",
        "After selecting the best model, we will **fine-tune** it to improve performance.  \n",
        "PyCaret automatically adjusts **hyperparameters** to optimize the model.\n",
        "\n",
        "**What Happens in This Step?**\n",
        "- PyCaret searches for the **best hyperparameters**.\n",
        "- It evaluates multiple settings to **reduce error and improve accuracy**.\n",
        "- We set `n_iter=10` to **limit the number of tuning iterations**.\n",
        "\n",
        "🔽 **Run the following code to tune the best model:**"
      ],
      "metadata": {
        "id": "m9n1gakmzx4a"
      },
      "id": "m9n1gakmzx4a"
    },
    {
      "cell_type": "code",
      "execution_count": null,
      "id": "5ce3a20f",
      "metadata": {
        "colab": {
          "base_uri": "https://localhost:8080/",
          "height": 459,
          "referenced_widgets": [
            "e48c574d6a3a4b6aa71556216eea575f",
            "417122de1e7f4f33938b0a509b713f42",
            "a587fe0340504a6ca14727992e352237",
            "c7d1972b6ef945ec8f2eba82ccb8871e",
            "900ec0091cc3436ea18da3b1d91e87ea",
            "16184e00575a4053a8f4792328c590c4",
            "5fab4bee2e5c45c7a736e039c8c3f500",
            "f61670bbe79847518bbdf5183de9088e",
            "b5085cef597f41a89baf206f18cc1891",
            "f21eeed642a045649418fefe4040f58e",
            "f1e91ff038ab4e20a094ba9938e5c4ac"
          ]
        },
        "id": "5ce3a20f",
        "outputId": "b2f6922b-5e75-42fe-d6b4-c703ab90666a"
      },
      "outputs": [
        {
          "data": {
            "text/html": [],
            "text/plain": [
              "<IPython.core.display.HTML object>"
            ]
          },
          "metadata": {},
          "output_type": "display_data"
        },
        {
          "data": {
            "text/html": [
              "<style type=\"text/css\">\n",
              "#T_a919d_row10_col0, #T_a919d_row10_col1, #T_a919d_row10_col2, #T_a919d_row10_col3, #T_a919d_row10_col4, #T_a919d_row10_col5 {\n",
              "  background: yellow;\n",
              "}\n",
              "</style>\n",
              "<table id=\"T_a919d\">\n",
              "  <thead>\n",
              "    <tr>\n",
              "      <th class=\"blank level0\" >&nbsp;</th>\n",
              "      <th id=\"T_a919d_level0_col0\" class=\"col_heading level0 col0\" >MAE</th>\n",
              "      <th id=\"T_a919d_level0_col1\" class=\"col_heading level0 col1\" >MSE</th>\n",
              "      <th id=\"T_a919d_level0_col2\" class=\"col_heading level0 col2\" >RMSE</th>\n",
              "      <th id=\"T_a919d_level0_col3\" class=\"col_heading level0 col3\" >R2</th>\n",
              "      <th id=\"T_a919d_level0_col4\" class=\"col_heading level0 col4\" >RMSLE</th>\n",
              "      <th id=\"T_a919d_level0_col5\" class=\"col_heading level0 col5\" >MAPE</th>\n",
              "    </tr>\n",
              "    <tr>\n",
              "      <th class=\"index_name level0\" >Fold</th>\n",
              "      <th class=\"blank col0\" >&nbsp;</th>\n",
              "      <th class=\"blank col1\" >&nbsp;</th>\n",
              "      <th class=\"blank col2\" >&nbsp;</th>\n",
              "      <th class=\"blank col3\" >&nbsp;</th>\n",
              "      <th class=\"blank col4\" >&nbsp;</th>\n",
              "      <th class=\"blank col5\" >&nbsp;</th>\n",
              "    </tr>\n",
              "  </thead>\n",
              "  <tbody>\n",
              "    <tr>\n",
              "      <th id=\"T_a919d_level0_row0\" class=\"row_heading level0 row0\" >0</th>\n",
              "      <td id=\"T_a919d_row0_col0\" class=\"data row0 col0\" >4319.5830</td>\n",
              "      <td id=\"T_a919d_row0_col1\" class=\"data row0 col1\" >60120383.1118</td>\n",
              "      <td id=\"T_a919d_row0_col2\" class=\"data row0 col2\" >7753.7335</td>\n",
              "      <td id=\"T_a919d_row0_col3\" class=\"data row0 col3\" >0.3399</td>\n",
              "      <td id=\"T_a919d_row0_col4\" class=\"data row0 col4\" >0.4351</td>\n",
              "      <td id=\"T_a919d_row0_col5\" class=\"data row0 col5\" >0.3281</td>\n",
              "    </tr>\n",
              "    <tr>\n",
              "      <th id=\"T_a919d_level0_row1\" class=\"row_heading level0 row1\" >1</th>\n",
              "      <td id=\"T_a919d_row1_col0\" class=\"data row1 col0\" >4904.6526</td>\n",
              "      <td id=\"T_a919d_row1_col1\" class=\"data row1 col1\" >96919983.2673</td>\n",
              "      <td id=\"T_a919d_row1_col2\" class=\"data row1 col2\" >9844.7947</td>\n",
              "      <td id=\"T_a919d_row1_col3\" class=\"data row1 col3\" >0.2572</td>\n",
              "      <td id=\"T_a919d_row1_col4\" class=\"data row1 col4\" >0.4826</td>\n",
              "      <td id=\"T_a919d_row1_col5\" class=\"data row1 col5\" >0.3679</td>\n",
              "    </tr>\n",
              "    <tr>\n",
              "      <th id=\"T_a919d_level0_row2\" class=\"row_heading level0 row2\" >2</th>\n",
              "      <td id=\"T_a919d_row2_col0\" class=\"data row2 col0\" >4664.4244</td>\n",
              "      <td id=\"T_a919d_row2_col1\" class=\"data row2 col1\" >73992020.3137</td>\n",
              "      <td id=\"T_a919d_row2_col2\" class=\"data row2 col2\" >8601.8614</td>\n",
              "      <td id=\"T_a919d_row2_col3\" class=\"data row2 col3\" >0.3214</td>\n",
              "      <td id=\"T_a919d_row2_col4\" class=\"data row2 col4\" >0.4710</td>\n",
              "      <td id=\"T_a919d_row2_col5\" class=\"data row2 col5\" >0.3798</td>\n",
              "    </tr>\n",
              "    <tr>\n",
              "      <th id=\"T_a919d_level0_row3\" class=\"row_heading level0 row3\" >3</th>\n",
              "      <td id=\"T_a919d_row3_col0\" class=\"data row3 col0\" >4496.2940</td>\n",
              "      <td id=\"T_a919d_row3_col1\" class=\"data row3 col1\" >59351341.3712</td>\n",
              "      <td id=\"T_a919d_row3_col2\" class=\"data row3 col2\" >7703.9822</td>\n",
              "      <td id=\"T_a919d_row3_col3\" class=\"data row3 col3\" >0.3452</td>\n",
              "      <td id=\"T_a919d_row3_col4\" class=\"data row3 col4\" >0.4493</td>\n",
              "      <td id=\"T_a919d_row3_col5\" class=\"data row3 col5\" >0.3401</td>\n",
              "    </tr>\n",
              "    <tr>\n",
              "      <th id=\"T_a919d_level0_row4\" class=\"row_heading level0 row4\" >4</th>\n",
              "      <td id=\"T_a919d_row4_col0\" class=\"data row4 col0\" >4056.3383</td>\n",
              "      <td id=\"T_a919d_row4_col1\" class=\"data row4 col1\" >50226831.9594</td>\n",
              "      <td id=\"T_a919d_row4_col2\" class=\"data row4 col2\" >7087.0891</td>\n",
              "      <td id=\"T_a919d_row4_col3\" class=\"data row4 col3\" >0.3735</td>\n",
              "      <td id=\"T_a919d_row4_col4\" class=\"data row4 col4\" >0.4423</td>\n",
              "      <td id=\"T_a919d_row4_col5\" class=\"data row4 col5\" >0.3530</td>\n",
              "    </tr>\n",
              "    <tr>\n",
              "      <th id=\"T_a919d_level0_row5\" class=\"row_heading level0 row5\" >5</th>\n",
              "      <td id=\"T_a919d_row5_col0\" class=\"data row5 col0\" >4664.9298</td>\n",
              "      <td id=\"T_a919d_row5_col1\" class=\"data row5 col1\" >83124648.0235</td>\n",
              "      <td id=\"T_a919d_row5_col2\" class=\"data row5 col2\" >9117.2720</td>\n",
              "      <td id=\"T_a919d_row5_col3\" class=\"data row5 col3\" >0.2906</td>\n",
              "      <td id=\"T_a919d_row5_col4\" class=\"data row5 col4\" >0.4674</td>\n",
              "      <td id=\"T_a919d_row5_col5\" class=\"data row5 col5\" >0.3597</td>\n",
              "    </tr>\n",
              "    <tr>\n",
              "      <th id=\"T_a919d_level0_row6\" class=\"row_heading level0 row6\" >6</th>\n",
              "      <td id=\"T_a919d_row6_col0\" class=\"data row6 col0\" >4809.1151</td>\n",
              "      <td id=\"T_a919d_row6_col1\" class=\"data row6 col1\" >73729320.8209</td>\n",
              "      <td id=\"T_a919d_row6_col2\" class=\"data row6 col2\" >8586.5779</td>\n",
              "      <td id=\"T_a919d_row6_col3\" class=\"data row6 col3\" >0.3073</td>\n",
              "      <td id=\"T_a919d_row6_col4\" class=\"data row6 col4\" >0.4726</td>\n",
              "      <td id=\"T_a919d_row6_col5\" class=\"data row6 col5\" >0.3590</td>\n",
              "    </tr>\n",
              "    <tr>\n",
              "      <th id=\"T_a919d_level0_row7\" class=\"row_heading level0 row7\" >7</th>\n",
              "      <td id=\"T_a919d_row7_col0\" class=\"data row7 col0\" >4244.7974</td>\n",
              "      <td id=\"T_a919d_row7_col1\" class=\"data row7 col1\" >53585644.9779</td>\n",
              "      <td id=\"T_a919d_row7_col2\" class=\"data row7 col2\" >7320.2216</td>\n",
              "      <td id=\"T_a919d_row7_col3\" class=\"data row7 col3\" >0.3223</td>\n",
              "      <td id=\"T_a919d_row7_col4\" class=\"data row7 col4\" >0.4467</td>\n",
              "      <td id=\"T_a919d_row7_col5\" class=\"data row7 col5\" >0.3455</td>\n",
              "    </tr>\n",
              "    <tr>\n",
              "      <th id=\"T_a919d_level0_row8\" class=\"row_heading level0 row8\" >8</th>\n",
              "      <td id=\"T_a919d_row8_col0\" class=\"data row8 col0\" >4635.2538</td>\n",
              "      <td id=\"T_a919d_row8_col1\" class=\"data row8 col1\" >69548612.9951</td>\n",
              "      <td id=\"T_a919d_row8_col2\" class=\"data row8 col2\" >8339.5811</td>\n",
              "      <td id=\"T_a919d_row8_col3\" class=\"data row8 col3\" >0.3170</td>\n",
              "      <td id=\"T_a919d_row8_col4\" class=\"data row8 col4\" >0.4584</td>\n",
              "      <td id=\"T_a919d_row8_col5\" class=\"data row8 col5\" >0.3427</td>\n",
              "    </tr>\n",
              "    <tr>\n",
              "      <th id=\"T_a919d_level0_row9\" class=\"row_heading level0 row9\" >9</th>\n",
              "      <td id=\"T_a919d_row9_col0\" class=\"data row9 col0\" >4537.0846</td>\n",
              "      <td id=\"T_a919d_row9_col1\" class=\"data row9 col1\" >70467971.1908</td>\n",
              "      <td id=\"T_a919d_row9_col2\" class=\"data row9 col2\" >8394.5203</td>\n",
              "      <td id=\"T_a919d_row9_col3\" class=\"data row9 col3\" >0.3290</td>\n",
              "      <td id=\"T_a919d_row9_col4\" class=\"data row9 col4\" >0.4707</td>\n",
              "      <td id=\"T_a919d_row9_col5\" class=\"data row9 col5\" >0.3752</td>\n",
              "    </tr>\n",
              "    <tr>\n",
              "      <th id=\"T_a919d_level0_row10\" class=\"row_heading level0 row10\" >Mean</th>\n",
              "      <td id=\"T_a919d_row10_col0\" class=\"data row10 col0\" >4533.2473</td>\n",
              "      <td id=\"T_a919d_row10_col1\" class=\"data row10 col1\" >69106675.8032</td>\n",
              "      <td id=\"T_a919d_row10_col2\" class=\"data row10 col2\" >8274.9634</td>\n",
              "      <td id=\"T_a919d_row10_col3\" class=\"data row10 col3\" >0.3203</td>\n",
              "      <td id=\"T_a919d_row10_col4\" class=\"data row10 col4\" >0.4596</td>\n",
              "      <td id=\"T_a919d_row10_col5\" class=\"data row10 col5\" >0.3551</td>\n",
              "    </tr>\n",
              "    <tr>\n",
              "      <th id=\"T_a919d_level0_row11\" class=\"row_heading level0 row11\" >Std</th>\n",
              "      <td id=\"T_a919d_row11_col0\" class=\"data row11 col0\" >248.3297</td>\n",
              "      <td id=\"T_a919d_row11_col1\" class=\"data row11 col1\" >13381473.7473</td>\n",
              "      <td id=\"T_a919d_row11_col2\" class=\"data row11 col2\" >794.7683</td>\n",
              "      <td id=\"T_a919d_row11_col3\" class=\"data row11 col3\" >0.0299</td>\n",
              "      <td id=\"T_a919d_row11_col4\" class=\"data row11 col4\" >0.0148</td>\n",
              "      <td id=\"T_a919d_row11_col5\" class=\"data row11 col5\" >0.0156</td>\n",
              "    </tr>\n",
              "  </tbody>\n",
              "</table>\n"
            ],
            "text/plain": [
              "<pandas.io.formats.style.Styler at 0x18d12b89e50>"
            ]
          },
          "metadata": {},
          "output_type": "display_data"
        },
        {
          "data": {
            "text/html": [],
            "text/plain": [
              "<IPython.core.display.HTML object>"
            ]
          },
          "metadata": {},
          "output_type": "display_data"
        },
        {
          "name": "stdout",
          "output_type": "stream",
          "text": [
            "Fitting 10 folds for each of 10 candidates, totalling 100 fits\n",
            "Original model was better than the tuned model, hence it will be returned. NOTE: The display metrics are for the tuned model (not the original one).\n"
          ]
        }
      ],
      "source": [
        "tuned_best = tune_model(best_model, n_iter=10)  # Use a smaller number of iterations"
      ]
    },
    {
      "cell_type": "markdown",
      "id": "7b5c0556",
      "metadata": {
        "id": "7b5c0556"
      },
      "source": [
        "#### Individual model training"
      ]
    },
    {
      "cell_type": "markdown",
      "source": [
        "##### **Creating a LightGBM Model**  \n",
        "Now, we will **create a LightGBM (Light Gradient Boosting Machine) model**.  \n",
        "LightGBM is a **fast and efficient gradient boosting algorithm** widely used for regression tasks.\n",
        "\n",
        "**What Happens in This Step?**  \n",
        "- We create a **LightGBM model** using PyCaret.  \n",
        "- LightGBM is designed to handle **large datasets efficiently**.  \n",
        "- It is optimized for **speed, accuracy, and scalability**.  \n",
        "\n",
        "🔽 **Run the following code to create the model:**  \n"
      ],
      "metadata": {
        "id": "lnAfGZeT0Rz7"
      },
      "id": "lnAfGZeT0Rz7"
    },
    {
      "cell_type": "code",
      "execution_count": null,
      "id": "1508e405",
      "metadata": {
        "id": "1508e405",
        "outputId": "09bd79d8-e1e9-43d2-b641-f598da39bd82"
      },
      "outputs": [
        {
          "data": {
            "text/html": [],
            "text/plain": [
              "<IPython.core.display.HTML object>"
            ]
          },
          "metadata": {},
          "output_type": "display_data"
        },
        {
          "data": {
            "text/html": [
              "<style type=\"text/css\">\n",
              "#T_ce598_row10_col0, #T_ce598_row10_col1, #T_ce598_row10_col2, #T_ce598_row10_col3, #T_ce598_row10_col4, #T_ce598_row10_col5 {\n",
              "  background: yellow;\n",
              "}\n",
              "</style>\n",
              "<table id=\"T_ce598\">\n",
              "  <thead>\n",
              "    <tr>\n",
              "      <th class=\"blank level0\" >&nbsp;</th>\n",
              "      <th id=\"T_ce598_level0_col0\" class=\"col_heading level0 col0\" >MAE</th>\n",
              "      <th id=\"T_ce598_level0_col1\" class=\"col_heading level0 col1\" >MSE</th>\n",
              "      <th id=\"T_ce598_level0_col2\" class=\"col_heading level0 col2\" >RMSE</th>\n",
              "      <th id=\"T_ce598_level0_col3\" class=\"col_heading level0 col3\" >R2</th>\n",
              "      <th id=\"T_ce598_level0_col4\" class=\"col_heading level0 col4\" >RMSLE</th>\n",
              "      <th id=\"T_ce598_level0_col5\" class=\"col_heading level0 col5\" >MAPE</th>\n",
              "    </tr>\n",
              "    <tr>\n",
              "      <th class=\"index_name level0\" >Fold</th>\n",
              "      <th class=\"blank col0\" >&nbsp;</th>\n",
              "      <th class=\"blank col1\" >&nbsp;</th>\n",
              "      <th class=\"blank col2\" >&nbsp;</th>\n",
              "      <th class=\"blank col3\" >&nbsp;</th>\n",
              "      <th class=\"blank col4\" >&nbsp;</th>\n",
              "      <th class=\"blank col5\" >&nbsp;</th>\n",
              "    </tr>\n",
              "  </thead>\n",
              "  <tbody>\n",
              "    <tr>\n",
              "      <th id=\"T_ce598_level0_row0\" class=\"row_heading level0 row0\" >0</th>\n",
              "      <td id=\"T_ce598_row0_col0\" class=\"data row0 col0\" >1678.2105</td>\n",
              "      <td id=\"T_ce598_row0_col1\" class=\"data row0 col1\" >5447110.8380</td>\n",
              "      <td id=\"T_ce598_row0_col2\" class=\"data row0 col2\" >2333.9046</td>\n",
              "      <td id=\"T_ce598_row0_col3\" class=\"data row0 col3\" >0.9402</td>\n",
              "      <td id=\"T_ce598_row0_col4\" class=\"data row0 col4\" >0.2286</td>\n",
              "      <td id=\"T_ce598_row0_col5\" class=\"data row0 col5\" >0.1862</td>\n",
              "    </tr>\n",
              "    <tr>\n",
              "      <th id=\"T_ce598_level0_row1\" class=\"row_heading level0 row1\" >1</th>\n",
              "      <td id=\"T_ce598_row1_col0\" class=\"data row1 col0\" >1847.7449</td>\n",
              "      <td id=\"T_ce598_row1_col1\" class=\"data row1 col1\" >10082280.4520</td>\n",
              "      <td id=\"T_ce598_row1_col2\" class=\"data row1 col2\" >3175.2607</td>\n",
              "      <td id=\"T_ce598_row1_col3\" class=\"data row1 col3\" >0.9227</td>\n",
              "      <td id=\"T_ce598_row1_col4\" class=\"data row1 col4\" >0.2277</td>\n",
              "      <td id=\"T_ce598_row1_col5\" class=\"data row1 col5\" >0.1906</td>\n",
              "    </tr>\n",
              "    <tr>\n",
              "      <th id=\"T_ce598_level0_row2\" class=\"row_heading level0 row2\" >2</th>\n",
              "      <td id=\"T_ce598_row2_col0\" class=\"data row2 col0\" >1695.7549</td>\n",
              "      <td id=\"T_ce598_row2_col1\" class=\"data row2 col1\" >5279329.7646</td>\n",
              "      <td id=\"T_ce598_row2_col2\" class=\"data row2 col2\" >2297.6792</td>\n",
              "      <td id=\"T_ce598_row2_col3\" class=\"data row2 col3\" >0.9516</td>\n",
              "      <td id=\"T_ce598_row2_col4\" class=\"data row2 col4\" >0.2364</td>\n",
              "      <td id=\"T_ce598_row2_col5\" class=\"data row2 col5\" >0.1990</td>\n",
              "    </tr>\n",
              "    <tr>\n",
              "      <th id=\"T_ce598_level0_row3\" class=\"row_heading level0 row3\" >3</th>\n",
              "      <td id=\"T_ce598_row3_col0\" class=\"data row3 col0\" >1651.4778</td>\n",
              "      <td id=\"T_ce598_row3_col1\" class=\"data row3 col1\" >4882819.6043</td>\n",
              "      <td id=\"T_ce598_row3_col2\" class=\"data row3 col2\" >2209.7103</td>\n",
              "      <td id=\"T_ce598_row3_col3\" class=\"data row3 col3\" >0.9461</td>\n",
              "      <td id=\"T_ce598_row3_col4\" class=\"data row3 col4\" >0.2128</td>\n",
              "      <td id=\"T_ce598_row3_col5\" class=\"data row3 col5\" >0.1760</td>\n",
              "    </tr>\n",
              "    <tr>\n",
              "      <th id=\"T_ce598_level0_row4\" class=\"row_heading level0 row4\" >4</th>\n",
              "      <td id=\"T_ce598_row4_col0\" class=\"data row4 col0\" >1702.9998</td>\n",
              "      <td id=\"T_ce598_row4_col1\" class=\"data row4 col1\" >6187406.3738</td>\n",
              "      <td id=\"T_ce598_row4_col2\" class=\"data row4 col2\" >2487.4498</td>\n",
              "      <td id=\"T_ce598_row4_col3\" class=\"data row4 col3\" >0.9228</td>\n",
              "      <td id=\"T_ce598_row4_col4\" class=\"data row4 col4\" >0.2303</td>\n",
              "      <td id=\"T_ce598_row4_col5\" class=\"data row4 col5\" >0.1932</td>\n",
              "    </tr>\n",
              "    <tr>\n",
              "      <th id=\"T_ce598_level0_row5\" class=\"row_heading level0 row5\" >5</th>\n",
              "      <td id=\"T_ce598_row5_col0\" class=\"data row5 col0\" >1733.3395</td>\n",
              "      <td id=\"T_ce598_row5_col1\" class=\"data row5 col1\" >7181096.3976</td>\n",
              "      <td id=\"T_ce598_row5_col2\" class=\"data row5 col2\" >2679.7568</td>\n",
              "      <td id=\"T_ce598_row5_col3\" class=\"data row5 col3\" >0.9387</td>\n",
              "      <td id=\"T_ce598_row5_col4\" class=\"data row5 col4\" >0.2189</td>\n",
              "      <td id=\"T_ce598_row5_col5\" class=\"data row5 col5\" >0.1857</td>\n",
              "    </tr>\n",
              "    <tr>\n",
              "      <th id=\"T_ce598_level0_row6\" class=\"row_heading level0 row6\" >6</th>\n",
              "      <td id=\"T_ce598_row6_col0\" class=\"data row6 col0\" >1802.1759</td>\n",
              "      <td id=\"T_ce598_row6_col1\" class=\"data row6 col1\" >7521631.1279</td>\n",
              "      <td id=\"T_ce598_row6_col2\" class=\"data row6 col2\" >2742.5592</td>\n",
              "      <td id=\"T_ce598_row6_col3\" class=\"data row6 col3\" >0.9293</td>\n",
              "      <td id=\"T_ce598_row6_col4\" class=\"data row6 col4\" >0.2294</td>\n",
              "      <td id=\"T_ce598_row6_col5\" class=\"data row6 col5\" >0.1851</td>\n",
              "    </tr>\n",
              "    <tr>\n",
              "      <th id=\"T_ce598_level0_row7\" class=\"row_heading level0 row7\" >7</th>\n",
              "      <td id=\"T_ce598_row7_col0\" class=\"data row7 col0\" >1252.0478</td>\n",
              "      <td id=\"T_ce598_row7_col1\" class=\"data row7 col1\" >3454274.0051</td>\n",
              "      <td id=\"T_ce598_row7_col2\" class=\"data row7 col2\" >1858.5677</td>\n",
              "      <td id=\"T_ce598_row7_col3\" class=\"data row7 col3\" >0.9563</td>\n",
              "      <td id=\"T_ce598_row7_col4\" class=\"data row7 col4\" >0.1907</td>\n",
              "      <td id=\"T_ce598_row7_col5\" class=\"data row7 col5\" >0.1472</td>\n",
              "    </tr>\n",
              "    <tr>\n",
              "      <th id=\"T_ce598_level0_row8\" class=\"row_heading level0 row8\" >8</th>\n",
              "      <td id=\"T_ce598_row8_col0\" class=\"data row8 col0\" >1664.8319</td>\n",
              "      <td id=\"T_ce598_row8_col1\" class=\"data row8 col1\" >8028096.9159</td>\n",
              "      <td id=\"T_ce598_row8_col2\" class=\"data row8 col2\" >2833.3897</td>\n",
              "      <td id=\"T_ce598_row8_col3\" class=\"data row8 col3\" >0.9212</td>\n",
              "      <td id=\"T_ce598_row8_col4\" class=\"data row8 col4\" >0.2229</td>\n",
              "      <td id=\"T_ce598_row8_col5\" class=\"data row8 col5\" >0.1812</td>\n",
              "    </tr>\n",
              "    <tr>\n",
              "      <th id=\"T_ce598_level0_row9\" class=\"row_heading level0 row9\" >9</th>\n",
              "      <td id=\"T_ce598_row9_col0\" class=\"data row9 col0\" >1671.0769</td>\n",
              "      <td id=\"T_ce598_row9_col1\" class=\"data row9 col1\" >5690349.7583</td>\n",
              "      <td id=\"T_ce598_row9_col2\" class=\"data row9 col2\" >2385.4454</td>\n",
              "      <td id=\"T_ce598_row9_col3\" class=\"data row9 col3\" >0.9458</td>\n",
              "      <td id=\"T_ce598_row9_col4\" class=\"data row9 col4\" >0.2422</td>\n",
              "      <td id=\"T_ce598_row9_col5\" class=\"data row9 col5\" >0.2033</td>\n",
              "    </tr>\n",
              "    <tr>\n",
              "      <th id=\"T_ce598_level0_row10\" class=\"row_heading level0 row10\" >Mean</th>\n",
              "      <td id=\"T_ce598_row10_col0\" class=\"data row10 col0\" >1669.9660</td>\n",
              "      <td id=\"T_ce598_row10_col1\" class=\"data row10 col1\" >6375439.5238</td>\n",
              "      <td id=\"T_ce598_row10_col2\" class=\"data row10 col2\" >2500.3723</td>\n",
              "      <td id=\"T_ce598_row10_col3\" class=\"data row10 col3\" >0.9375</td>\n",
              "      <td id=\"T_ce598_row10_col4\" class=\"data row10 col4\" >0.2240</td>\n",
              "      <td id=\"T_ce598_row10_col5\" class=\"data row10 col5\" >0.1847</td>\n",
              "    </tr>\n",
              "    <tr>\n",
              "      <th id=\"T_ce598_level0_row11\" class=\"row_heading level0 row11\" >Std</th>\n",
              "      <td id=\"T_ce598_row11_col0\" class=\"data row11 col0\" >151.6411</td>\n",
              "      <td id=\"T_ce598_row11_col1\" class=\"data row11 col1\" >1782241.8952</td>\n",
              "      <td id=\"T_ce598_row11_col2\" class=\"data row11 col2\" >351.5362</td>\n",
              "      <td id=\"T_ce598_row11_col3\" class=\"data row11 col3\" >0.0121</td>\n",
              "      <td id=\"T_ce598_row11_col4\" class=\"data row11 col4\" >0.0136</td>\n",
              "      <td id=\"T_ce598_row11_col5\" class=\"data row11 col5\" >0.0147</td>\n",
              "    </tr>\n",
              "  </tbody>\n",
              "</table>\n"
            ],
            "text/plain": [
              "<pandas.io.formats.style.Styler at 0x18d13206130>"
            ]
          },
          "metadata": {},
          "output_type": "display_data"
        },
        {
          "data": {
            "text/html": [],
            "text/plain": [
              "<IPython.core.display.HTML object>"
            ]
          },
          "metadata": {},
          "output_type": "display_data"
        }
      ],
      "source": [
        "lightgbm = create_model('lightgbm')"
      ]
    },
    {
      "cell_type": "markdown",
      "source": [
        "##### **Tuning the LightGBM Model**  \n",
        "Now that we have created the **LightGBM model**, we will fine-tune its **hyperparameters** for better performance.  \n",
        "We define a **custom hyperparameter grid** to optimize the model.\n",
        "\n",
        "**What Happens in This Step?**  \n",
        "- We specify a **range of values** for key LightGBM hyperparameters.  \n",
        "- PyCaret will **test different hyperparameter combinations** to find the best configuration.  \n",
        "- This improves **model accuracy and reduces error**.  \n",
        "\n",
        "🔽 **Run the following code to tune the LightGBM model:**  \n"
      ],
      "metadata": {
        "id": "HEWB4NDk0Zwy"
      },
      "id": "HEWB4NDk0Zwy"
    },
    {
      "cell_type": "code",
      "execution_count": null,
      "id": "520c2858",
      "metadata": {
        "id": "520c2858",
        "outputId": "30f90546-b7f5-4b3f-9057-c29e8f8e0360"
      },
      "outputs": [
        {
          "data": {
            "text/html": [],
            "text/plain": [
              "<IPython.core.display.HTML object>"
            ]
          },
          "metadata": {},
          "output_type": "display_data"
        },
        {
          "data": {
            "text/html": [
              "<style type=\"text/css\">\n",
              "#T_28504_row10_col0, #T_28504_row10_col1, #T_28504_row10_col2, #T_28504_row10_col3, #T_28504_row10_col4, #T_28504_row10_col5 {\n",
              "  background: yellow;\n",
              "}\n",
              "</style>\n",
              "<table id=\"T_28504\">\n",
              "  <thead>\n",
              "    <tr>\n",
              "      <th class=\"blank level0\" >&nbsp;</th>\n",
              "      <th id=\"T_28504_level0_col0\" class=\"col_heading level0 col0\" >MAE</th>\n",
              "      <th id=\"T_28504_level0_col1\" class=\"col_heading level0 col1\" >MSE</th>\n",
              "      <th id=\"T_28504_level0_col2\" class=\"col_heading level0 col2\" >RMSE</th>\n",
              "      <th id=\"T_28504_level0_col3\" class=\"col_heading level0 col3\" >R2</th>\n",
              "      <th id=\"T_28504_level0_col4\" class=\"col_heading level0 col4\" >RMSLE</th>\n",
              "      <th id=\"T_28504_level0_col5\" class=\"col_heading level0 col5\" >MAPE</th>\n",
              "    </tr>\n",
              "    <tr>\n",
              "      <th class=\"index_name level0\" >Fold</th>\n",
              "      <th class=\"blank col0\" >&nbsp;</th>\n",
              "      <th class=\"blank col1\" >&nbsp;</th>\n",
              "      <th class=\"blank col2\" >&nbsp;</th>\n",
              "      <th class=\"blank col3\" >&nbsp;</th>\n",
              "      <th class=\"blank col4\" >&nbsp;</th>\n",
              "      <th class=\"blank col5\" >&nbsp;</th>\n",
              "    </tr>\n",
              "  </thead>\n",
              "  <tbody>\n",
              "    <tr>\n",
              "      <th id=\"T_28504_level0_row0\" class=\"row_heading level0 row0\" >0</th>\n",
              "      <td id=\"T_28504_row0_col0\" class=\"data row0 col0\" >1747.1811</td>\n",
              "      <td id=\"T_28504_row0_col1\" class=\"data row0 col1\" >6489691.9362</td>\n",
              "      <td id=\"T_28504_row0_col2\" class=\"data row0 col2\" >2547.4874</td>\n",
              "      <td id=\"T_28504_row0_col3\" class=\"data row0 col3\" >0.9288</td>\n",
              "      <td id=\"T_28504_row0_col4\" class=\"data row0 col4\" >0.2351</td>\n",
              "      <td id=\"T_28504_row0_col5\" class=\"data row0 col5\" >0.1893</td>\n",
              "    </tr>\n",
              "    <tr>\n",
              "      <th id=\"T_28504_level0_row1\" class=\"row_heading level0 row1\" >1</th>\n",
              "      <td id=\"T_28504_row1_col0\" class=\"data row1 col0\" >1890.9498</td>\n",
              "      <td id=\"T_28504_row1_col1\" class=\"data row1 col1\" >10012657.9404</td>\n",
              "      <td id=\"T_28504_row1_col2\" class=\"data row1 col2\" >3164.2784</td>\n",
              "      <td id=\"T_28504_row1_col3\" class=\"data row1 col3\" >0.9233</td>\n",
              "      <td id=\"T_28504_row1_col4\" class=\"data row1 col4\" >0.2387</td>\n",
              "      <td id=\"T_28504_row1_col5\" class=\"data row1 col5\" >0.1963</td>\n",
              "    </tr>\n",
              "    <tr>\n",
              "      <th id=\"T_28504_level0_row2\" class=\"row_heading level0 row2\" >2</th>\n",
              "      <td id=\"T_28504_row2_col0\" class=\"data row2 col0\" >1800.4001</td>\n",
              "      <td id=\"T_28504_row2_col1\" class=\"data row2 col1\" >6727290.4299</td>\n",
              "      <td id=\"T_28504_row2_col2\" class=\"data row2 col2\" >2593.7021</td>\n",
              "      <td id=\"T_28504_row2_col3\" class=\"data row2 col3\" >0.9383</td>\n",
              "      <td id=\"T_28504_row2_col4\" class=\"data row2 col4\" >0.2445</td>\n",
              "      <td id=\"T_28504_row2_col5\" class=\"data row2 col5\" >0.2045</td>\n",
              "    </tr>\n",
              "    <tr>\n",
              "      <th id=\"T_28504_level0_row3\" class=\"row_heading level0 row3\" >3</th>\n",
              "      <td id=\"T_28504_row3_col0\" class=\"data row3 col0\" >1718.9411</td>\n",
              "      <td id=\"T_28504_row3_col1\" class=\"data row3 col1\" >5526729.4912</td>\n",
              "      <td id=\"T_28504_row3_col2\" class=\"data row3 col2\" >2350.8997</td>\n",
              "      <td id=\"T_28504_row3_col3\" class=\"data row3 col3\" >0.9390</td>\n",
              "      <td id=\"T_28504_row3_col4\" class=\"data row3 col4\" >0.2198</td>\n",
              "      <td id=\"T_28504_row3_col5\" class=\"data row3 col5\" >0.1802</td>\n",
              "    </tr>\n",
              "    <tr>\n",
              "      <th id=\"T_28504_level0_row4\" class=\"row_heading level0 row4\" >4</th>\n",
              "      <td id=\"T_28504_row4_col0\" class=\"data row4 col0\" >1770.0638</td>\n",
              "      <td id=\"T_28504_row4_col1\" class=\"data row4 col1\" >7082823.4482</td>\n",
              "      <td id=\"T_28504_row4_col2\" class=\"data row4 col2\" >2661.3574</td>\n",
              "      <td id=\"T_28504_row4_col3\" class=\"data row4 col3\" >0.9117</td>\n",
              "      <td id=\"T_28504_row4_col4\" class=\"data row4 col4\" >0.2387</td>\n",
              "      <td id=\"T_28504_row4_col5\" class=\"data row4 col5\" >0.1983</td>\n",
              "    </tr>\n",
              "    <tr>\n",
              "      <th id=\"T_28504_level0_row5\" class=\"row_heading level0 row5\" >5</th>\n",
              "      <td id=\"T_28504_row5_col0\" class=\"data row5 col0\" >1768.6026</td>\n",
              "      <td id=\"T_28504_row5_col1\" class=\"data row5 col1\" >7165728.8317</td>\n",
              "      <td id=\"T_28504_row5_col2\" class=\"data row5 col2\" >2676.8879</td>\n",
              "      <td id=\"T_28504_row5_col3\" class=\"data row5 col3\" >0.9388</td>\n",
              "      <td id=\"T_28504_row5_col4\" class=\"data row5 col4\" >0.2274</td>\n",
              "      <td id=\"T_28504_row5_col5\" class=\"data row5 col5\" >0.1920</td>\n",
              "    </tr>\n",
              "    <tr>\n",
              "      <th id=\"T_28504_level0_row6\" class=\"row_heading level0 row6\" >6</th>\n",
              "      <td id=\"T_28504_row6_col0\" class=\"data row6 col0\" >1918.8357</td>\n",
              "      <td id=\"T_28504_row6_col1\" class=\"data row6 col1\" >9478762.9376</td>\n",
              "      <td id=\"T_28504_row6_col2\" class=\"data row6 col2\" >3078.7600</td>\n",
              "      <td id=\"T_28504_row6_col3\" class=\"data row6 col3\" >0.9109</td>\n",
              "      <td id=\"T_28504_row6_col4\" class=\"data row6 col4\" >0.2389</td>\n",
              "      <td id=\"T_28504_row6_col5\" class=\"data row6 col5\" >0.1896</td>\n",
              "    </tr>\n",
              "    <tr>\n",
              "      <th id=\"T_28504_level0_row7\" class=\"row_heading level0 row7\" >7</th>\n",
              "      <td id=\"T_28504_row7_col0\" class=\"data row7 col0\" >1305.5242</td>\n",
              "      <td id=\"T_28504_row7_col1\" class=\"data row7 col1\" >3883980.5777</td>\n",
              "      <td id=\"T_28504_row7_col2\" class=\"data row7 col2\" >1970.7817</td>\n",
              "      <td id=\"T_28504_row7_col3\" class=\"data row7 col3\" >0.9509</td>\n",
              "      <td id=\"T_28504_row7_col4\" class=\"data row7 col4\" >0.1963</td>\n",
              "      <td id=\"T_28504_row7_col5\" class=\"data row7 col5\" >0.1503</td>\n",
              "    </tr>\n",
              "    <tr>\n",
              "      <th id=\"T_28504_level0_row8\" class=\"row_heading level0 row8\" >8</th>\n",
              "      <td id=\"T_28504_row8_col0\" class=\"data row8 col0\" >1818.5610</td>\n",
              "      <td id=\"T_28504_row8_col1\" class=\"data row8 col1\" >9427799.9653</td>\n",
              "      <td id=\"T_28504_row8_col2\" class=\"data row8 col2\" >3070.4723</td>\n",
              "      <td id=\"T_28504_row8_col3\" class=\"data row8 col3\" >0.9074</td>\n",
              "      <td id=\"T_28504_row8_col4\" class=\"data row8 col4\" >0.2324</td>\n",
              "      <td id=\"T_28504_row8_col5\" class=\"data row8 col5\" >0.1882</td>\n",
              "    </tr>\n",
              "    <tr>\n",
              "      <th id=\"T_28504_level0_row9\" class=\"row_heading level0 row9\" >9</th>\n",
              "      <td id=\"T_28504_row9_col0\" class=\"data row9 col0\" >1793.2297</td>\n",
              "      <td id=\"T_28504_row9_col1\" class=\"data row9 col1\" >7201641.0199</td>\n",
              "      <td id=\"T_28504_row9_col2\" class=\"data row9 col2\" >2683.5873</td>\n",
              "      <td id=\"T_28504_row9_col3\" class=\"data row9 col3\" >0.9314</td>\n",
              "      <td id=\"T_28504_row9_col4\" class=\"data row9 col4\" >0.2516</td>\n",
              "      <td id=\"T_28504_row9_col5\" class=\"data row9 col5\" >0.2093</td>\n",
              "    </tr>\n",
              "    <tr>\n",
              "      <th id=\"T_28504_level0_row10\" class=\"row_heading level0 row10\" >Mean</th>\n",
              "      <td id=\"T_28504_row10_col0\" class=\"data row10 col0\" >1753.2289</td>\n",
              "      <td id=\"T_28504_row10_col1\" class=\"data row10 col1\" >7299710.6578</td>\n",
              "      <td id=\"T_28504_row10_col2\" class=\"data row10 col2\" >2679.8214</td>\n",
              "      <td id=\"T_28504_row10_col3\" class=\"data row10 col3\" >0.9281</td>\n",
              "      <td id=\"T_28504_row10_col4\" class=\"data row10 col4\" >0.2323</td>\n",
              "      <td id=\"T_28504_row10_col5\" class=\"data row10 col5\" >0.1898</td>\n",
              "    </tr>\n",
              "    <tr>\n",
              "      <th id=\"T_28504_level0_row11\" class=\"row_heading level0 row11\" >Std</th>\n",
              "      <td id=\"T_28504_row11_col0\" class=\"data row11 col0\" >160.2054</td>\n",
              "      <td id=\"T_28504_row11_col1\" class=\"data row11 col1\" >1802947.4254</td>\n",
              "      <td id=\"T_28504_row11_col2\" class=\"data row11 col2\" >343.9009</td>\n",
              "      <td id=\"T_28504_row11_col3\" class=\"data row11 col3\" >0.0137</td>\n",
              "      <td id=\"T_28504_row11_col4\" class=\"data row11 col4\" >0.0146</td>\n",
              "      <td id=\"T_28504_row11_col5\" class=\"data row11 col5\" >0.0154</td>\n",
              "    </tr>\n",
              "  </tbody>\n",
              "</table>\n"
            ],
            "text/plain": [
              "<pandas.io.formats.style.Styler at 0x18d1327fc10>"
            ]
          },
          "metadata": {},
          "output_type": "display_data"
        },
        {
          "data": {
            "text/html": [],
            "text/plain": [
              "<IPython.core.display.HTML object>"
            ]
          },
          "metadata": {},
          "output_type": "display_data"
        },
        {
          "name": "stdout",
          "output_type": "stream",
          "text": [
            "Fitting 10 folds for each of 10 candidates, totalling 100 fits\n",
            "Original model was better than the tuned model, hence it will be returned. NOTE: The display metrics are for the tuned model (not the original one).\n"
          ]
        }
      ],
      "source": [
        "import numpy as np\n",
        "lgbm_params = {'num_leaves': np.arange(10,200,10),\n",
        "                        'max_depth': [int(x) for x in np.linspace(10, 110, num = 11)],\n",
        "                        'learning_rate': np.arange(0.1,1,0.1)\n",
        "                        }\n",
        "\n",
        "tuned_lightgbm = tune_model(lightgbm,\n",
        "                            custom_grid = lgbm_params)"
      ]
    },
    {
      "cell_type": "markdown",
      "source": [
        "##### **Checking the Residuals of the Trained Model**  \n",
        "Residuals help us **analyze the difference** between actual and predicted values.  \n",
        "A good model should have **residuals randomly distributed around zero**.\n",
        "\n",
        "**What Happens in This Step?**  \n",
        "- We visualize the **residuals (errors) of the model**.  \n",
        "- A **random distribution of residuals** indicates a well-fitted model.  \n",
        "- Patterns in residuals suggest **model biases** or missing features.  \n",
        "\n",
        "🔽 **Run the following code to check the residuals:**  "
      ],
      "metadata": {
        "id": "EssXT-4h1XYJ"
      },
      "id": "EssXT-4h1XYJ"
    },
    {
      "cell_type": "code",
      "execution_count": null,
      "id": "5ea81bea",
      "metadata": {
        "id": "5ea81bea",
        "colab": {
          "referenced_widgets": [
            "1af7aca2578140149e0322bb4726f66b"
          ]
        },
        "outputId": "6a462d17-5ba7-453e-e83d-61b1dbe53a0d"
      },
      "outputs": [
        {
          "data": {
            "text/html": [],
            "text/plain": [
              "<IPython.core.display.HTML object>"
            ]
          },
          "metadata": {},
          "output_type": "display_data"
        },
        {
          "data": {
            "application/vnd.jupyter.widget-view+json": {
              "model_id": "1af7aca2578140149e0322bb4726f66b",
              "version_major": 2,
              "version_minor": 0
            },
            "text/plain": [
              "VBox(children=(HBox(children=(TukeyAnscombeWidget({\n",
              "    'data': [{'hovertemplate': 'Split=train<br>Predictions…"
            ]
          },
          "metadata": {},
          "output_type": "display_data"
        }
      ],
      "source": [
        "# check the residuals of trained model\n",
        "plot_model(tuned_best, plot = 'residuals_interactive')"
      ]
    },
    {
      "cell_type": "markdown",
      "source": [
        "##### **Checking Feature Importance**  \n",
        "Feature importance helps us understand **which variables have the most impact** on predictions.  \n",
        "A model assigns higher importance to features that contribute more to **reducing prediction error**.\n",
        "\n",
        "**What Happens in This Step?**  \n",
        "- We visualize the **importance of each feature** in the model.  \n",
        "- Higher values indicate **stronger influence** on predictions.  \n",
        "- Less important features might be **removed** to simplify the model.\n",
        "\n",
        "🔽 **Run the following code to check feature importance:**  "
      ],
      "metadata": {
        "id": "Un1f_atk2fqH"
      },
      "id": "Un1f_atk2fqH"
    },
    {
      "cell_type": "code",
      "execution_count": null,
      "id": "7cb2030a",
      "metadata": {
        "id": "7cb2030a",
        "outputId": "f21d7c37-1a62-4b3c-f124-9c4e1cc4bd89"
      },
      "outputs": [
        {
          "data": {
            "text/html": [],
            "text/plain": [
              "<IPython.core.display.HTML object>"
            ]
          },
          "metadata": {},
          "output_type": "display_data"
        },
        {
          "data": {
            "image/png": "[encoded data removed]",
            "text/plain": [
              "<Figure size 800x500 with 1 Axes>"
            ]
          },
          "metadata": {},
          "output_type": "display_data"
        }
      ],
      "source": [
        "# check feature importance\n",
        "plot_model(tuned_best, plot = 'feature')"
      ]
    },
    {
      "cell_type": "markdown",
      "source": [
        "##### **Checking Prediction Error**  \n",
        "The **prediction error plot** helps us understand how much the model's predictions deviate from actual values.  \n",
        "A well-performing model should have **small and randomly distributed errors**.\n",
        "\n",
        "**What Happens in This Step?**  \n",
        "- The plot shows the **distribution of prediction errors**.  \n",
        "- It helps identify **bias** (systematic over/under-prediction).  \n",
        "- A **narrow error distribution** means better model performance.\n",
        "\n",
        "🔽 **Run the following code to check prediction error:**  "
      ],
      "metadata": {
        "id": "fgo5BJRB2mHQ"
      },
      "id": "fgo5BJRB2mHQ"
    },
    {
      "cell_type": "code",
      "execution_count": null,
      "id": "1123211e",
      "metadata": {
        "id": "1123211e",
        "outputId": "f66f4b12-13a5-4272-bcf5-a6ada45416a1"
      },
      "outputs": [
        {
          "data": {
            "text/html": [],
            "text/plain": [
              "<IPython.core.display.HTML object>"
            ]
          },
          "metadata": {},
          "output_type": "display_data"
        },
        {
          "data": {
            "image/png": "[encoded data removed]",
            "text/plain": [
              "<Figure size 800x550 with 1 Axes>"
            ]
          },
          "metadata": {},
          "output_type": "display_data"
        }
      ],
      "source": [
        "plot_model(tuned_best, plot = 'error')"
      ]
    },
    {
      "cell_type": "markdown",
      "source": [
        "##### **Evaluating the Tuned Model**  \n",
        "Model evaluation helps us analyze **how well the trained model performs** using different metrics.  \n",
        "PyCaret provides an **interactive dashboard** to review model performance.\n",
        "\n",
        "**What Happens in This Step?**  \n",
        "- PyCaret generates **various evaluation metrics** (R², RMSE, MAE, etc.).  \n",
        "- It provides **visualizations** to analyze model accuracy and errors.  \n",
        "- This step helps in **identifying potential improvements**.\n",
        "\n",
        "🔽 **Run the following code to evaluate the model:**  "
      ],
      "metadata": {
        "id": "3nA4tsPu2sfc"
      },
      "id": "3nA4tsPu2sfc"
    },
    {
      "cell_type": "code",
      "execution_count": null,
      "id": "3748e556",
      "metadata": {
        "id": "3748e556",
        "colab": {
          "referenced_widgets": [
            "29e10af63958489a974e9cc4053842dd"
          ]
        },
        "outputId": "748817d8-ea53-44bc-982b-7a656a17b8a9"
      },
      "outputs": [
        {
          "data": {
            "image/png": "[encoded data removed]",
            "text/plain": [
              "<Figure size 5700x600 with 1 Axes>"
            ]
          },
          "metadata": {},
          "output_type": "display_data"
        },
        {
          "data": {
            "application/vnd.jupyter.widget-view+json": {
              "model_id": "29e10af63958489a974e9cc4053842dd",
              "version_major": 2,
              "version_minor": 0
            },
            "text/plain": [
              "interactive(children=(ToggleButtons(description='Plot Type:', icons=('',), options=(('Pipeline Plot', 'pipelin…"
            ]
          },
          "metadata": {},
          "output_type": "display_data"
        }
      ],
      "source": [
        "evaluate_model(tuned_best)"
      ]
    },
    {
      "cell_type": "markdown",
      "id": "09d11f8e",
      "metadata": {
        "id": "09d11f8e"
      },
      "source": [
        "#### Evaluate model with test data"
      ]
    },
    {
      "cell_type": "markdown",
      "id": "63484aea",
      "metadata": {
        "id": "63484aea"
      },
      "source": [
        "Before finalizing the model, it is recommended to perform a final check by predicting the test set and reviewing the evaluation metrics. All of the evaluation metrics we've seen above are cross-validated results based **only on the training set (70%)**. Now, we are going to use the test data to see if the performance is different and there may be overfitting."
      ]
    },
    {
      "cell_type": "code",
      "execution_count": null,
      "id": "daf14f02",
      "metadata": {
        "id": "daf14f02",
        "outputId": "7d8848a9-f9c9-437a-e507-a514c73740b1"
      },
      "outputs": [
        {
          "data": {
            "text/html": [
              "<style type=\"text/css\">\n",
              "</style>\n",
              "<table id=\"T_5979b\">\n",
              "  <thead>\n",
              "    <tr>\n",
              "      <th class=\"blank level0\" >&nbsp;</th>\n",
              "      <th id=\"T_5979b_level0_col0\" class=\"col_heading level0 col0\" >Model</th>\n",
              "      <th id=\"T_5979b_level0_col1\" class=\"col_heading level0 col1\" >MAE</th>\n",
              "      <th id=\"T_5979b_level0_col2\" class=\"col_heading level0 col2\" >MSE</th>\n",
              "      <th id=\"T_5979b_level0_col3\" class=\"col_heading level0 col3\" >RMSE</th>\n",
              "      <th id=\"T_5979b_level0_col4\" class=\"col_heading level0 col4\" >R2</th>\n",
              "      <th id=\"T_5979b_level0_col5\" class=\"col_heading level0 col5\" >RMSLE</th>\n",
              "      <th id=\"T_5979b_level0_col6\" class=\"col_heading level0 col6\" >MAPE</th>\n",
              "    </tr>\n",
              "  </thead>\n",
              "  <tbody>\n",
              "    <tr>\n",
              "      <th id=\"T_5979b_level0_row0\" class=\"row_heading level0 row0\" >0</th>\n",
              "      <td id=\"T_5979b_row0_col0\" class=\"data row0 col0\" >Light Gradient Boosting Machine</td>\n",
              "      <td id=\"T_5979b_row0_col1\" class=\"data row0 col1\" >1663.0680</td>\n",
              "      <td id=\"T_5979b_row0_col2\" class=\"data row0 col2\" >5695398.9005</td>\n",
              "      <td id=\"T_5979b_row0_col3\" class=\"data row0 col3\" >2386.5035</td>\n",
              "      <td id=\"T_5979b_row0_col4\" class=\"data row0 col4\" >0.9481</td>\n",
              "      <td id=\"T_5979b_row0_col5\" class=\"data row0 col5\" >0.2233</td>\n",
              "      <td id=\"T_5979b_row0_col6\" class=\"data row0 col6\" >0.1835</td>\n",
              "    </tr>\n",
              "  </tbody>\n",
              "</table>\n"
            ],
            "text/plain": [
              "<pandas.io.formats.style.Styler at 0x18d20663910>"
            ]
          },
          "metadata": {},
          "output_type": "display_data"
        }
      ],
      "source": [
        "predict_model(tuned_best);"
      ]
    },
    {
      "cell_type": "markdown",
      "id": "bdb67afd",
      "metadata": {
        "id": "bdb67afd"
      },
      "source": [
        "##### **Making Predictions on the Test Data**  \n",
        "After training and evaluating the model, we use it to **make predictions** on new data.  \n",
        "This step helps us see how well the model performs on **unseen data**.\n",
        "\n",
        "**What Happens in This Step?**  \n",
        "- The model predicts **diamond prices** for the test dataset.  \n",
        "- PyCaret automatically adds a **prediction column** to the dataset.  \n",
        "- We can compare **actual vs. predicted values**.\n",
        "\n",
        "🔽 **Run the following code to make predictions:**  "
      ]
    },
    {
      "cell_type": "code",
      "execution_count": null,
      "id": "aaea49b9",
      "metadata": {
        "id": "aaea49b9",
        "outputId": "f8f98fec-ce38-4b27-f558-1fa0e62d16d5"
      },
      "outputs": [
        {
          "name": "stdout",
          "output_type": "stream",
          "text": [
            "Transformation Pipeline and Model Successfully Saved\n"
          ]
        },
        {
          "data": {
            "text/plain": [
              "(Pipeline(memory=Memory(location=None),\n",
              "          steps=[('target_transformation',\n",
              "                  TransformerWrapperWithInverse(transformer=TargetTransformer(estimator=PowerTransformer(standardize=False)))),\n",
              "                 ('numerical_imputer',\n",
              "                  TransformerWrapper(include=['Carat Weight'],\n",
              "                                     transformer=SimpleImputer())),\n",
              "                 ('categorical_imputer',\n",
              "                  TransformerWrapper(include=['Cut', 'Color', 'Clarity',\n",
              "                                              'P...\n",
              "                                     transformer=KBinsDiscretizer(encode='ordinal',\n",
              "                                                                  strategy='kmeans'))),\n",
              "                 ('transformation',\n",
              "                  TransformerWrapper(transformer=PowerTransformer(standardize=False))),\n",
              "                 ('normalize', TransformerWrapper(transformer=StandardScaler())),\n",
              "                 ('clean_column_names',\n",
              "                  TransformerWrapper(transformer=CleanColumnNames())),\n",
              "                 ('actual_estimator',\n",
              "                  LGBMRegressor(n_jobs=-1, random_state=123))]),\n",
              " 'diamond-pipeline.pkl')"
            ]
          },
          "execution_count": 25,
          "metadata": {},
          "output_type": "execute_result"
        }
      ],
      "source": [
        "# finalize the model\n",
        "final_best = finalize_model(tuned_best)\n",
        "\n",
        "# save model to disk\n",
        "save_model(final_best, 'diamond-pipeline')"
      ]
    },
    {
      "cell_type": "markdown",
      "id": "0ce10376",
      "metadata": {
        "id": "0ce10376"
      },
      "source": [
        "##### **Making Predictions on Unseen Data**  \n",
        "Now, we will use the **trained model** to predict diamond prices for **completely unseen data**.  \n",
        "This step helps us evaluate how well the model generalizes to **new, real-world data**.\n",
        "\n",
        "**What Happens in This Step?**  \n",
        "- The model predicts **diamond prices** for the **unseen test dataset** (`data_unseen`).  \n",
        "- PyCaret adds a **\"Label\" column** containing the predicted values.  \n",
        "- We can compare **actual vs. predicted prices** for performance evaluation.\n",
        "\n",
        "🔽 **Run the following code to make predictions on unseen data:**  \n"
      ]
    },
    {
      "cell_type": "code",
      "execution_count": null,
      "id": "63fcc50e",
      "metadata": {
        "id": "63fcc50e",
        "scrolled": true,
        "outputId": "042d2bd4-358c-46fe-ee96-ce1fc28ceb21"
      },
      "outputs": [
        {
          "data": {
            "text/html": [
              "<style type=\"text/css\">\n",
              "</style>\n",
              "<table id=\"T_1a9da\">\n",
              "  <thead>\n",
              "    <tr>\n",
              "      <th class=\"blank level0\" >&nbsp;</th>\n",
              "      <th id=\"T_1a9da_level0_col0\" class=\"col_heading level0 col0\" >Model</th>\n",
              "      <th id=\"T_1a9da_level0_col1\" class=\"col_heading level0 col1\" >MAE</th>\n",
              "      <th id=\"T_1a9da_level0_col2\" class=\"col_heading level0 col2\" >MSE</th>\n",
              "      <th id=\"T_1a9da_level0_col3\" class=\"col_heading level0 col3\" >RMSE</th>\n",
              "      <th id=\"T_1a9da_level0_col4\" class=\"col_heading level0 col4\" >R2</th>\n",
              "      <th id=\"T_1a9da_level0_col5\" class=\"col_heading level0 col5\" >RMSLE</th>\n",
              "      <th id=\"T_1a9da_level0_col6\" class=\"col_heading level0 col6\" >MAPE</th>\n",
              "    </tr>\n",
              "  </thead>\n",
              "  <tbody>\n",
              "    <tr>\n",
              "      <th id=\"T_1a9da_level0_row0\" class=\"row_heading level0 row0\" >0</th>\n",
              "      <td id=\"T_1a9da_row0_col0\" class=\"data row0 col0\" >Light Gradient Boosting Machine</td>\n",
              "      <td id=\"T_1a9da_row0_col1\" class=\"data row0 col1\" >1707.3372</td>\n",
              "      <td id=\"T_1a9da_row0_col2\" class=\"data row0 col2\" >6413577.3322</td>\n",
              "      <td id=\"T_1a9da_row0_col3\" class=\"data row0 col3\" >2532.5042</td>\n",
              "      <td id=\"T_1a9da_row0_col4\" class=\"data row0 col4\" >0.9377</td>\n",
              "      <td id=\"T_1a9da_row0_col5\" class=\"data row0 col5\" >0.2202</td>\n",
              "      <td id=\"T_1a9da_row0_col6\" class=\"data row0 col6\" >0.1802</td>\n",
              "    </tr>\n",
              "  </tbody>\n",
              "</table>\n"
            ],
            "text/plain": [
              "<pandas.io.formats.style.Styler at 0x18d1284e2b0>"
            ]
          },
          "metadata": {},
          "output_type": "display_data"
        },
        {
          "data": {
            "text/html": [
              "<div>\n",
              "<style scoped>\n",
              "    .dataframe tbody tr th:only-of-type {\n",
              "        vertical-align: middle;\n",
              "    }\n",
              "\n",
              "    .dataframe tbody tr th {\n",
              "        vertical-align: top;\n",
              "    }\n",
              "\n",
              "    .dataframe thead th {\n",
              "        text-align: right;\n",
              "    }\n",
              "</style>\n",
              "<table border=\"1\" class=\"dataframe\">\n",
              "  <thead>\n",
              "    <tr style=\"text-align: right;\">\n",
              "      <th></th>\n",
              "      <th>Carat Weight</th>\n",
              "      <th>Cut</th>\n",
              "      <th>Color</th>\n",
              "      <th>Clarity</th>\n",
              "      <th>Polish</th>\n",
              "      <th>Symmetry</th>\n",
              "      <th>Report</th>\n",
              "      <th>Price</th>\n",
              "      <th>prediction_label</th>\n",
              "    </tr>\n",
              "  </thead>\n",
              "  <tbody>\n",
              "    <tr>\n",
              "      <th>0</th>\n",
              "      <td>1.53</td>\n",
              "      <td>Ideal</td>\n",
              "      <td>E</td>\n",
              "      <td>SI1</td>\n",
              "      <td>ID</td>\n",
              "      <td>ID</td>\n",
              "      <td>AGSL</td>\n",
              "      <td>12791</td>\n",
              "      <td>10512.192162</td>\n",
              "    </tr>\n",
              "    <tr>\n",
              "      <th>1</th>\n",
              "      <td>1.50</td>\n",
              "      <td>Fair</td>\n",
              "      <td>F</td>\n",
              "      <td>SI1</td>\n",
              "      <td>VG</td>\n",
              "      <td>VG</td>\n",
              "      <td>GIA</td>\n",
              "      <td>10450</td>\n",
              "      <td>10658.978702</td>\n",
              "    </tr>\n",
              "    <tr>\n",
              "      <th>2</th>\n",
              "      <td>1.01</td>\n",
              "      <td>Good</td>\n",
              "      <td>E</td>\n",
              "      <td>SI1</td>\n",
              "      <td>G</td>\n",
              "      <td>G</td>\n",
              "      <td>GIA</td>\n",
              "      <td>5161</td>\n",
              "      <td>4679.748196</td>\n",
              "    </tr>\n",
              "    <tr>\n",
              "      <th>3</th>\n",
              "      <td>2.51</td>\n",
              "      <td>Very Good</td>\n",
              "      <td>G</td>\n",
              "      <td>VS2</td>\n",
              "      <td>VG</td>\n",
              "      <td>VG</td>\n",
              "      <td>GIA</td>\n",
              "      <td>34361</td>\n",
              "      <td>33204.129546</td>\n",
              "    </tr>\n",
              "    <tr>\n",
              "      <th>4</th>\n",
              "      <td>1.01</td>\n",
              "      <td>Good</td>\n",
              "      <td>I</td>\n",
              "      <td>SI1</td>\n",
              "      <td>VG</td>\n",
              "      <td>VG</td>\n",
              "      <td>GIA</td>\n",
              "      <td>4238</td>\n",
              "      <td>3804.655310</td>\n",
              "    </tr>\n",
              "  </tbody>\n",
              "</table>\n",
              "</div>"
            ],
            "text/plain": [
              "   Carat Weight        Cut Color Clarity Polish Symmetry Report  Price  \\\n",
              "0          1.53      Ideal     E     SI1     ID       ID   AGSL  12791   \n",
              "1          1.50       Fair     F     SI1     VG       VG    GIA  10450   \n",
              "2          1.01       Good     E     SI1      G        G    GIA   5161   \n",
              "3          2.51  Very Good     G     VS2     VG       VG    GIA  34361   \n",
              "4          1.01       Good     I     SI1     VG       VG    GIA   4238   \n",
              "\n",
              "   prediction_label  \n",
              "0      10512.192162  \n",
              "1      10658.978702  \n",
              "2       4679.748196  \n",
              "3      33204.129546  \n",
              "4       3804.655310  "
            ]
          },
          "execution_count": 27,
          "metadata": {},
          "output_type": "execute_result"
        }
      ],
      "source": [
        "unseen_predictions = predict_model(final_best, data=data_unseen)\n",
        "unseen_predictions.head()"
      ]
    },
    {
      "cell_type": "markdown",
      "source": [
        "##### **Evaluating Model Performance Using R² Score**  \n",
        "Now, we will calculate the **R² Score (Coefficient of Determination)** to measure how well our model predicts unseen data.  \n",
        "The **R² Score** indicates how much variance in the target variable is explained by the model.\n",
        "\n",
        "**What Happens in This Step?**  \n",
        "- We compare the **actual** and **predicted** values for unseen data.  \n",
        "- A higher **R² Score (closer to 1.0)** means better predictions.  \n",
        "- A lower score (closer to 0) means the model **does not explain the variance well**.\n",
        "\n",
        "🔽 **Run the following code to calculate the R² Score:**  "
      ],
      "metadata": {
        "id": "VF1SroU63uFd"
      },
      "id": "VF1SroU63uFd"
    },
    {
      "cell_type": "code",
      "execution_count": null,
      "id": "795237ad",
      "metadata": {
        "id": "795237ad",
        "outputId": "3675005b-ae6e-4038-c71a-b80522967522"
      },
      "outputs": [
        {
          "name": "stdout",
          "output_type": "stream",
          "text": [
            "R2 Score: 0.9376524035521808\n"
          ]
        }
      ],
      "source": [
        "from sklearn.metrics import r2_score\n",
        "\n",
        "# Using the correct column names for actual and predicted values\n",
        "r2 = r2_score(unseen_predictions['Price'], unseen_predictions['prediction_label'])\n",
        "print(f'R2 Score: {r2}')\n"
      ]
    },
    {
      "cell_type": "code",
      "execution_count": null,
      "id": "a4ea7986",
      "metadata": {
        "id": "a4ea7986"
      },
      "outputs": [],
      "source": []
    },
    {
      "cell_type": "code",
      "execution_count": null,
      "id": "5cc8e317",
      "metadata": {
        "id": "5cc8e317"
      },
      "outputs": [],
      "source": []
    }
  ],
  "metadata": {
    "colab": {
      "provenance": []
    },
    "kernelspec": {
      "display_name": "Python 3.9.13 (PyCaret)",
      "language": "python",
      "name": "pycaret_env"
    },
    "language_info": {
      "codemirror_mode": {
        "name": "ipython",
        "version": 3
      },
      "file_extension": ".py",
      "mimetype": "text/x-python",
      "name": "python",
      "nbconvert_exporter": "python",
      "pygments_lexer": "ipython3",
      "version": "3.9.21"
    },
    "widgets": {
      "application/vnd.jupyter.widget-state+json": {
        "16184e00575a4053a8f4792328c590c4": {
          "model_module": "@jupyter-widgets/base",
          "model_module_version": "1.2.0",
          "model_name": "LayoutModel",
          "state": {
            "_model_module": "@jupyter-widgets/base",
            "_model_module_version": "1.2.0",
            "_model_name": "LayoutModel",
            "_view_count": null,
            "_view_module": "@jupyter-widgets/base",
            "_view_module_version": "1.2.0",
            "_view_name": "LayoutView",
            "align_content": null,
            "align_items": null,
            "align_self": null,
            "border": null,
            "bottom": null,
            "display": null,
            "flex": null,
            "flex_flow": null,
            "grid_area": null,
            "grid_auto_columns": null,
            "grid_auto_flow": null,
            "grid_auto_rows": null,
            "grid_column": null,
            "grid_gap": null,
            "grid_row": null,
            "grid_template_areas": null,
            "grid_template_columns": null,
            "grid_template_rows": null,
            "height": null,
            "justify_content": null,
            "justify_items": null,
            "left": null,
            "margin": null,
            "max_height": null,
            "max_width": null,
            "min_height": null,
            "min_width": null,
            "object_fit": null,
            "object_position": null,
            "order": null,
            "overflow": null,
            "overflow_x": null,
            "overflow_y": null,
            "padding": null,
            "right": null,
            "top": null,
            "visibility": null,
            "width": null
          }
        },
        "234c4a1feee24e4bb130b8e7ccc32dbd": {
          "model_module": "@jupyter-widgets/controls",
          "model_module_version": "1.5.0",
          "model_name": "DescriptionStyleModel",
          "state": {
            "_model_module": "@jupyter-widgets/controls",
            "_model_module_version": "1.5.0",
            "_model_name": "DescriptionStyleModel",
            "_view_count": null,
            "_view_module": "@jupyter-widgets/base",
            "_view_module_version": "1.2.0",
            "_view_name": "StyleView",
            "description_width": ""
          }
        },
        "2de741e5ffeb4c6d81be4ef86d17f389": {
          "model_module": "@jupyter-widgets/base",
          "model_module_version": "1.2.0",
          "model_name": "LayoutModel",
          "state": {
            "_model_module": "@jupyter-widgets/base",
            "_model_module_version": "1.2.0",
            "_model_name": "LayoutModel",
            "_view_count": null,
            "_view_module": "@jupyter-widgets/base",
            "_view_module_version": "1.2.0",
            "_view_name": "LayoutView",
            "align_content": null,
            "align_items": null,
            "align_self": null,
            "border": null,
            "bottom": null,
            "display": null,
            "flex": null,
            "flex_flow": null,
            "grid_area": null,
            "grid_auto_columns": null,
            "grid_auto_flow": null,
            "grid_auto_rows": null,
            "grid_column": null,
            "grid_gap": null,
            "grid_row": null,
            "grid_template_areas": null,
            "grid_template_columns": null,
            "grid_template_rows": null,
            "height": null,
            "justify_content": null,
            "justify_items": null,
            "left": null,
            "margin": null,
            "max_height": null,
            "max_width": null,
            "min_height": null,
            "min_width": null,
            "object_fit": null,
            "object_position": null,
            "order": null,
            "overflow": null,
            "overflow_x": null,
            "overflow_y": null,
            "padding": null,
            "right": null,
            "top": null,
            "visibility": null,
            "width": null
          }
        },
        "3cfa62a7caf14e7ea4cc261af8714d12": {
          "model_module": "@jupyter-widgets/controls",
          "model_module_version": "1.5.0",
          "model_name": "DescriptionStyleModel",
          "state": {
            "_model_module": "@jupyter-widgets/controls",
            "_model_module_version": "1.5.0",
            "_model_name": "DescriptionStyleModel",
            "_view_count": null,
            "_view_module": "@jupyter-widgets/base",
            "_view_module_version": "1.2.0",
            "_view_name": "StyleView",
            "description_width": ""
          }
        },
        "417122de1e7f4f33938b0a509b713f42": {
          "model_module": "@jupyter-widgets/controls",
          "model_module_version": "1.5.0",
          "model_name": "HTMLModel",
          "state": {
            "_dom_classes": [],
            "_model_module": "@jupyter-widgets/controls",
            "_model_module_version": "1.5.0",
            "_model_name": "HTMLModel",
            "_view_count": null,
            "_view_module": "@jupyter-widgets/controls",
            "_view_module_version": "1.5.0",
            "_view_name": "HTMLView",
            "description": "",
            "description_tooltip": null,
            "layout": "IPY_MODEL_16184e00575a4053a8f4792328c590c4",
            "placeholder": "​",
            "style": "IPY_MODEL_5fab4bee2e5c45c7a736e039c8c3f500",
            "value": "Processing:   0%"
          }
        },
        "53eb767e3ec24555b0e1bdb9a3ac667c": {
          "model_module": "@jupyter-widgets/controls",
          "model_module_version": "1.5.0",
          "model_name": "FloatProgressModel",
          "state": {
            "_dom_classes": [],
            "_model_module": "@jupyter-widgets/controls",
            "_model_module_version": "1.5.0",
            "_model_name": "FloatProgressModel",
            "_view_count": null,
            "_view_module": "@jupyter-widgets/controls",
            "_view_module_version": "1.5.0",
            "_view_name": "ProgressView",
            "bar_style": "",
            "description": "",
            "description_tooltip": null,
            "layout": "IPY_MODEL_6fe40fc939694cf5b26f12cbb59fdcf8",
            "max": 77,
            "min": 0,
            "orientation": "horizontal",
            "style": "IPY_MODEL_b7ef9f8bcfbe4376ba502461ee7a1f1c",
            "value": 77
          }
        },
        "5fab4bee2e5c45c7a736e039c8c3f500": {
          "model_module": "@jupyter-widgets/controls",
          "model_module_version": "1.5.0",
          "model_name": "DescriptionStyleModel",
          "state": {
            "_model_module": "@jupyter-widgets/controls",
            "_model_module_version": "1.5.0",
            "_model_name": "DescriptionStyleModel",
            "_view_count": null,
            "_view_module": "@jupyter-widgets/base",
            "_view_module_version": "1.2.0",
            "_view_name": "StyleView",
            "description_width": ""
          }
        },
        "6fe40fc939694cf5b26f12cbb59fdcf8": {
          "model_module": "@jupyter-widgets/base",
          "model_module_version": "1.2.0",
          "model_name": "LayoutModel",
          "state": {
            "_model_module": "@jupyter-widgets/base",
            "_model_module_version": "1.2.0",
            "_model_name": "LayoutModel",
            "_view_count": null,
            "_view_module": "@jupyter-widgets/base",
            "_view_module_version": "1.2.0",
            "_view_name": "LayoutView",
            "align_content": null,
            "align_items": null,
            "align_self": null,
            "border": null,
            "bottom": null,
            "display": null,
            "flex": null,
            "flex_flow": null,
            "grid_area": null,
            "grid_auto_columns": null,
            "grid_auto_flow": null,
            "grid_auto_rows": null,
            "grid_column": null,
            "grid_gap": null,
            "grid_row": null,
            "grid_template_areas": null,
            "grid_template_columns": null,
            "grid_template_rows": null,
            "height": null,
            "justify_content": null,
            "justify_items": null,
            "left": null,
            "margin": null,
            "max_height": null,
            "max_width": null,
            "min_height": null,
            "min_width": null,
            "object_fit": null,
            "object_position": null,
            "order": null,
            "overflow": null,
            "overflow_x": null,
            "overflow_y": null,
            "padding": null,
            "right": null,
            "top": null,
            "visibility": null,
            "width": null
          }
        },
        "81d74a0853934b678b759773b3ac6215": {
          "model_module": "@jupyter-widgets/base",
          "model_module_version": "1.2.0",
          "model_name": "LayoutModel",
          "state": {
            "_model_module": "@jupyter-widgets/base",
            "_model_module_version": "1.2.0",
            "_model_name": "LayoutModel",
            "_view_count": null,
            "_view_module": "@jupyter-widgets/base",
            "_view_module_version": "1.2.0",
            "_view_name": "LayoutView",
            "align_content": null,
            "align_items": null,
            "align_self": null,
            "border": null,
            "bottom": null,
            "display": null,
            "flex": null,
            "flex_flow": null,
            "grid_area": null,
            "grid_auto_columns": null,
            "grid_auto_flow": null,
            "grid_auto_rows": null,
            "grid_column": null,
            "grid_gap": null,
            "grid_row": null,
            "grid_template_areas": null,
            "grid_template_columns": null,
            "grid_template_rows": null,
            "height": null,
            "justify_content": null,
            "justify_items": null,
            "left": null,
            "margin": null,
            "max_height": null,
            "max_width": null,
            "min_height": null,
            "min_width": null,
            "object_fit": null,
            "object_position": null,
            "order": null,
            "overflow": null,
            "overflow_x": null,
            "overflow_y": null,
            "padding": null,
            "right": null,
            "top": null,
            "visibility": null,
            "width": null
          }
        },
        "8ee9510272df44fe981a528c3f685945": {
          "model_module": "@jupyter-widgets/controls",
          "model_module_version": "1.5.0",
          "model_name": "HTMLModel",
          "state": {
            "_dom_classes": [],
            "_model_module": "@jupyter-widgets/controls",
            "_model_module_version": "1.5.0",
            "_model_name": "HTMLModel",
            "_view_count": null,
            "_view_module": "@jupyter-widgets/controls",
            "_view_module_version": "1.5.0",
            "_view_name": "HTMLView",
            "description": "",
            "description_tooltip": null,
            "layout": "IPY_MODEL_2de741e5ffeb4c6d81be4ef86d17f389",
            "placeholder": "​",
            "style": "IPY_MODEL_234c4a1feee24e4bb130b8e7ccc32dbd",
            "value": "Processing: 100%"
          }
        },
        "900ec0091cc3436ea18da3b1d91e87ea": {
          "model_module": "@jupyter-widgets/base",
          "model_module_version": "1.2.0",
          "model_name": "LayoutModel",
          "state": {
            "_model_module": "@jupyter-widgets/base",
            "_model_module_version": "1.2.0",
            "_model_name": "LayoutModel",
            "_view_count": null,
            "_view_module": "@jupyter-widgets/base",
            "_view_module_version": "1.2.0",
            "_view_name": "LayoutView",
            "align_content": null,
            "align_items": null,
            "align_self": null,
            "border": null,
            "bottom": null,
            "display": null,
            "flex": null,
            "flex_flow": null,
            "grid_area": null,
            "grid_auto_columns": null,
            "grid_auto_flow": null,
            "grid_auto_rows": null,
            "grid_column": null,
            "grid_gap": null,
            "grid_row": null,
            "grid_template_areas": null,
            "grid_template_columns": null,
            "grid_template_rows": null,
            "height": null,
            "justify_content": null,
            "justify_items": null,
            "left": null,
            "margin": null,
            "max_height": null,
            "max_width": null,
            "min_height": null,
            "min_width": null,
            "object_fit": null,
            "object_position": null,
            "order": null,
            "overflow": null,
            "overflow_x": null,
            "overflow_y": null,
            "padding": null,
            "right": null,
            "top": null,
            "visibility": null,
            "width": null
          }
        },
        "9c6cc13bc5174dd6a251a55fde1a2aaf": {
          "model_module": "@jupyter-widgets/controls",
          "model_module_version": "1.5.0",
          "model_name": "HBoxModel",
          "state": {
            "_dom_classes": [],
            "_model_module": "@jupyter-widgets/controls",
            "_model_module_version": "1.5.0",
            "_model_name": "HBoxModel",
            "_view_count": null,
            "_view_module": "@jupyter-widgets/controls",
            "_view_module_version": "1.5.0",
            "_view_name": "HBoxView",
            "box_style": "",
            "children": [
              "IPY_MODEL_8ee9510272df44fe981a528c3f685945",
              "IPY_MODEL_53eb767e3ec24555b0e1bdb9a3ac667c",
              "IPY_MODEL_eb13ceba62344c9096bc7392e45954f4"
            ],
            "layout": "IPY_MODEL_e903268c2c2440078bd07fce02e8039b"
          }
        },
        "a587fe0340504a6ca14727992e352237": {
          "model_module": "@jupyter-widgets/controls",
          "model_module_version": "1.5.0",
          "model_name": "FloatProgressModel",
          "state": {
            "_dom_classes": [],
            "_model_module": "@jupyter-widgets/controls",
            "_model_module_version": "1.5.0",
            "_model_name": "FloatProgressModel",
            "_view_count": null,
            "_view_module": "@jupyter-widgets/controls",
            "_view_module_version": "1.5.0",
            "_view_name": "ProgressView",
            "bar_style": "",
            "description": "",
            "description_tooltip": null,
            "layout": "IPY_MODEL_f61670bbe79847518bbdf5183de9088e",
            "max": 7,
            "min": 0,
            "orientation": "horizontal",
            "style": "IPY_MODEL_b5085cef597f41a89baf206f18cc1891",
            "value": 0
          }
        },
        "b5085cef597f41a89baf206f18cc1891": {
          "model_module": "@jupyter-widgets/controls",
          "model_module_version": "1.5.0",
          "model_name": "ProgressStyleModel",
          "state": {
            "_model_module": "@jupyter-widgets/controls",
            "_model_module_version": "1.5.0",
            "_model_name": "ProgressStyleModel",
            "_view_count": null,
            "_view_module": "@jupyter-widgets/base",
            "_view_module_version": "1.2.0",
            "_view_name": "StyleView",
            "bar_color": null,
            "description_width": ""
          }
        },
        "b7ef9f8bcfbe4376ba502461ee7a1f1c": {
          "model_module": "@jupyter-widgets/controls",
          "model_module_version": "1.5.0",
          "model_name": "ProgressStyleModel",
          "state": {
            "_model_module": "@jupyter-widgets/controls",
            "_model_module_version": "1.5.0",
            "_model_name": "ProgressStyleModel",
            "_view_count": null,
            "_view_module": "@jupyter-widgets/base",
            "_view_module_version": "1.2.0",
            "_view_name": "StyleView",
            "bar_color": null,
            "description_width": ""
          }
        },
        "c7d1972b6ef945ec8f2eba82ccb8871e": {
          "model_module": "@jupyter-widgets/controls",
          "model_module_version": "1.5.0",
          "model_name": "HTMLModel",
          "state": {
            "_dom_classes": [],
            "_model_module": "@jupyter-widgets/controls",
            "_model_module_version": "1.5.0",
            "_model_name": "HTMLModel",
            "_view_count": null,
            "_view_module": "@jupyter-widgets/controls",
            "_view_module_version": "1.5.0",
            "_view_name": "HTMLView",
            "description": "",
            "description_tooltip": null,
            "layout": "IPY_MODEL_f21eeed642a045649418fefe4040f58e",
            "placeholder": "​",
            "style": "IPY_MODEL_f1e91ff038ab4e20a094ba9938e5c4ac",
            "value": " 0/7 [00:00&lt;?, ?it/s]"
          }
        },
        "e48c574d6a3a4b6aa71556216eea575f": {
          "model_module": "@jupyter-widgets/controls",
          "model_module_version": "1.5.0",
          "model_name": "HBoxModel",
          "state": {
            "_dom_classes": [],
            "_model_module": "@jupyter-widgets/controls",
            "_model_module_version": "1.5.0",
            "_model_name": "HBoxModel",
            "_view_count": null,
            "_view_module": "@jupyter-widgets/controls",
            "_view_module_version": "1.5.0",
            "_view_name": "HBoxView",
            "box_style": "",
            "children": [
              "IPY_MODEL_417122de1e7f4f33938b0a509b713f42",
              "IPY_MODEL_a587fe0340504a6ca14727992e352237",
              "IPY_MODEL_c7d1972b6ef945ec8f2eba82ccb8871e"
            ],
            "layout": "IPY_MODEL_900ec0091cc3436ea18da3b1d91e87ea"
          }
        },
        "e903268c2c2440078bd07fce02e8039b": {
          "model_module": "@jupyter-widgets/base",
          "model_module_version": "1.2.0",
          "model_name": "LayoutModel",
          "state": {
            "_model_module": "@jupyter-widgets/base",
            "_model_module_version": "1.2.0",
            "_model_name": "LayoutModel",
            "_view_count": null,
            "_view_module": "@jupyter-widgets/base",
            "_view_module_version": "1.2.0",
            "_view_name": "LayoutView",
            "align_content": null,
            "align_items": null,
            "align_self": null,
            "border": null,
            "bottom": null,
            "display": null,
            "flex": null,
            "flex_flow": null,
            "grid_area": null,
            "grid_auto_columns": null,
            "grid_auto_flow": null,
            "grid_auto_rows": null,
            "grid_column": null,
            "grid_gap": null,
            "grid_row": null,
            "grid_template_areas": null,
            "grid_template_columns": null,
            "grid_template_rows": null,
            "height": null,
            "justify_content": null,
            "justify_items": null,
            "left": null,
            "margin": null,
            "max_height": null,
            "max_width": null,
            "min_height": null,
            "min_width": null,
            "object_fit": null,
            "object_position": null,
            "order": null,
            "overflow": null,
            "overflow_x": null,
            "overflow_y": null,
            "padding": null,
            "right": null,
            "top": null,
            "visibility": "hidden",
            "width": null
          }
        },
        "eb13ceba62344c9096bc7392e45954f4": {
          "model_module": "@jupyter-widgets/controls",
          "model_module_version": "1.5.0",
          "model_name": "HTMLModel",
          "state": {
            "_dom_classes": [],
            "_model_module": "@jupyter-widgets/controls",
            "_model_module_version": "1.5.0",
            "_model_name": "HTMLModel",
            "_view_count": null,
            "_view_module": "@jupyter-widgets/controls",
            "_view_module_version": "1.5.0",
            "_view_name": "HTMLView",
            "description": "",
            "description_tooltip": null,
            "layout": "IPY_MODEL_81d74a0853934b678b759773b3ac6215",
            "placeholder": "​",
            "style": "IPY_MODEL_3cfa62a7caf14e7ea4cc261af8714d12",
            "value": " 77/77 [02:05&lt;00:00,  4.23s/it]"
          }
        },
        "f1e91ff038ab4e20a094ba9938e5c4ac": {
          "model_module": "@jupyter-widgets/controls",
          "model_module_version": "1.5.0",
          "model_name": "DescriptionStyleModel",
          "state": {
            "_model_module": "@jupyter-widgets/controls",
            "_model_module_version": "1.5.0",
            "_model_name": "DescriptionStyleModel",
            "_view_count": null,
            "_view_module": "@jupyter-widgets/base",
            "_view_module_version": "1.2.0",
            "_view_name": "StyleView",
            "description_width": ""
          }
        },
        "f21eeed642a045649418fefe4040f58e": {
          "model_module": "@jupyter-widgets/base",
          "model_module_version": "1.2.0",
          "model_name": "LayoutModel",
          "state": {
            "_model_module": "@jupyter-widgets/base",
            "_model_module_version": "1.2.0",
            "_model_name": "LayoutModel",
            "_view_count": null,
            "_view_module": "@jupyter-widgets/base",
            "_view_module_version": "1.2.0",
            "_view_name": "LayoutView",
            "align_content": null,
            "align_items": null,
            "align_self": null,
            "border": null,
            "bottom": null,
            "display": null,
            "flex": null,
            "flex_flow": null,
            "grid_area": null,
            "grid_auto_columns": null,
            "grid_auto_flow": null,
            "grid_auto_rows": null,
            "grid_column": null,
            "grid_gap": null,
            "grid_row": null,
            "grid_template_areas": null,
            "grid_template_columns": null,
            "grid_template_rows": null,
            "height": null,
            "justify_content": null,
            "justify_items": null,
            "left": null,
            "margin": null,
            "max_height": null,
            "max_width": null,
            "min_height": null,
            "min_width": null,
            "object_fit": null,
            "object_position": null,
            "order": null,
            "overflow": null,
            "overflow_x": null,
            "overflow_y": null,
            "padding": null,
            "right": null,
            "top": null,
            "visibility": null,
            "width": null
          }
        },
        "f61670bbe79847518bbdf5183de9088e": {
          "model_module": "@jupyter-widgets/base",
          "model_module_version": "1.2.0",
          "model_name": "LayoutModel",
          "state": {
            "_model_module": "@jupyter-widgets/base",
            "_model_module_version": "1.2.0",
            "_model_name": "LayoutModel",
            "_view_count": null,
            "_view_module": "@jupyter-widgets/base",
            "_view_module_version": "1.2.0",
            "_view_name": "LayoutView",
            "align_content": null,
            "align_items": null,
            "align_self": null,
            "border": null,
            "bottom": null,
            "display": null,
            "flex": null,
            "flex_flow": null,
            "grid_area": null,
            "grid_auto_columns": null,
            "grid_auto_flow": null,
            "grid_auto_rows": null,
            "grid_column": null,
            "grid_gap": null,
            "grid_row": null,
            "grid_template_areas": null,
            "grid_template_columns": null,
            "grid_template_rows": null,
            "height": null,
            "justify_content": null,
            "justify_items": null,
            "left": null,
            "margin": null,
            "max_height": null,
            "max_width": null,
            "min_height": null,
            "min_width": null,
            "object_fit": null,
            "object_position": null,
            "order": null,
            "overflow": null,
            "overflow_x": null,
            "overflow_y": null,
            "padding": null,
            "right": null,
            "top": null,
            "visibility": null,
            "width": null
          }
        }
      }
    }
  },
  "nbformat": 4,
  "nbformat_minor": 5
}